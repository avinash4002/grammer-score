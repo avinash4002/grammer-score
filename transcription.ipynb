{
 "cells": [
  {
   "cell_type": "code",
   "execution_count": 1,
   "id": "ca19e6ee",
   "metadata": {
    "_cell_guid": "b1076dfc-b9ad-4769-8c92-a6c4dae69d19",
    "_uuid": "8f2839f25d086af736a60e9eeb907d3b93b6e0e5",
    "execution": {
     "iopub.execute_input": "2025-04-05T11:22:10.497430Z",
     "iopub.status.busy": "2025-04-05T11:22:10.496996Z",
     "iopub.status.idle": "2025-04-05T11:22:13.401112Z",
     "shell.execute_reply": "2025-04-05T11:22:13.400149Z"
    },
    "papermill": {
     "duration": 2.909077,
     "end_time": "2025-04-05T11:22:13.402542",
     "exception": false,
     "start_time": "2025-04-05T11:22:10.493465",
     "status": "completed"
    },
    "tags": []
   },
   "outputs": [
    {
     "name": "stdout",
     "output_type": "stream",
     "text": [
      "/kaggle/input/shl-intern-hiring-assessment/dataset/sample_submission.csv\n",
      "/kaggle/input/shl-intern-hiring-assessment/dataset/train.csv\n",
      "/kaggle/input/shl-intern-hiring-assessment/dataset/test.csv\n",
      "/kaggle/input/shl-intern-hiring-assessment/dataset/audios_test/audio_885.wav\n",
      "/kaggle/input/shl-intern-hiring-assessment/dataset/audios_test/audio_698.wav\n",
      "/kaggle/input/shl-intern-hiring-assessment/dataset/audios_test/audio_1176.wav\n",
      "/kaggle/input/shl-intern-hiring-assessment/dataset/audios_test/audio_1215.wav\n",
      "/kaggle/input/shl-intern-hiring-assessment/dataset/audios_test/audio_66.wav\n",
      "/kaggle/input/shl-intern-hiring-assessment/dataset/audios_test/audio_386.wav\n",
      "/kaggle/input/shl-intern-hiring-assessment/dataset/audios_test/audio_1026.wav\n",
      "/kaggle/input/shl-intern-hiring-assessment/dataset/audios_test/audio_330.wav\n",
      "/kaggle/input/shl-intern-hiring-assessment/dataset/audios_test/audio_72.wav\n",
      "/kaggle/input/shl-intern-hiring-assessment/dataset/audios_test/audio_858.wav\n",
      "/kaggle/input/shl-intern-hiring-assessment/dataset/audios_test/audio_107.wav\n",
      "/kaggle/input/shl-intern-hiring-assessment/dataset/audios_test/audio_820.wav\n",
      "/kaggle/input/shl-intern-hiring-assessment/dataset/audios_test/audio_300.wav\n",
      "/kaggle/input/shl-intern-hiring-assessment/dataset/audios_test/audio_435.wav\n",
      "/kaggle/input/shl-intern-hiring-assessment/dataset/audios_test/audio_550.wav\n",
      "/kaggle/input/shl-intern-hiring-assessment/dataset/audios_test/audio_841.wav\n",
      "/kaggle/input/shl-intern-hiring-assessment/dataset/audios_test/audio_641.wav\n",
      "/kaggle/input/shl-intern-hiring-assessment/dataset/audios_test/audio_290.wav\n",
      "/kaggle/input/shl-intern-hiring-assessment/dataset/audios_test/audio_401.wav\n",
      "/kaggle/input/shl-intern-hiring-assessment/dataset/audios_test/audio_321.wav\n",
      "/kaggle/input/shl-intern-hiring-assessment/dataset/audios_test/audio_20.wav\n",
      "/kaggle/input/shl-intern-hiring-assessment/dataset/audios_test/audio_348.wav\n",
      "/kaggle/input/shl-intern-hiring-assessment/dataset/audios_test/audio_500.wav\n",
      "/kaggle/input/shl-intern-hiring-assessment/dataset/audios_test/audio_735.wav\n",
      "/kaggle/input/shl-intern-hiring-assessment/dataset/audios_test/audio_888.wav\n",
      "/kaggle/input/shl-intern-hiring-assessment/dataset/audios_test/audio_959.wav\n",
      "/kaggle/input/shl-intern-hiring-assessment/dataset/audios_test/audio_276.wav\n",
      "/kaggle/input/shl-intern-hiring-assessment/dataset/audios_test/audio_1323.wav\n",
      "/kaggle/input/shl-intern-hiring-assessment/dataset/audios_test/audio_1089.wav\n",
      "/kaggle/input/shl-intern-hiring-assessment/dataset/audios_test/audio_1289.wav\n",
      "/kaggle/input/shl-intern-hiring-assessment/dataset/audios_test/audio_29.wav\n",
      "/kaggle/input/shl-intern-hiring-assessment/dataset/audios_test/audio_676.wav\n",
      "/kaggle/input/shl-intern-hiring-assessment/dataset/audios_test/audio_811.wav\n",
      "/kaggle/input/shl-intern-hiring-assessment/dataset/audios_test/audio_762.wav\n",
      "/kaggle/input/shl-intern-hiring-assessment/dataset/audios_test/audio_1183.wav\n",
      "/kaggle/input/shl-intern-hiring-assessment/dataset/audios_test/audio_1297.wav\n",
      "/kaggle/input/shl-intern-hiring-assessment/dataset/audios_test/audio_709.wav\n",
      "/kaggle/input/shl-intern-hiring-assessment/dataset/audios_test/audio_281.wav\n",
      "/kaggle/input/shl-intern-hiring-assessment/dataset/audios_test/audio_308.wav\n",
      "/kaggle/input/shl-intern-hiring-assessment/dataset/audios_test/audio_1054.wav\n",
      "/kaggle/input/shl-intern-hiring-assessment/dataset/audios_test/audio_662.wav\n",
      "/kaggle/input/shl-intern-hiring-assessment/dataset/audios_test/audio_525.wav\n",
      "/kaggle/input/shl-intern-hiring-assessment/dataset/audios_test/audio_633.wav\n",
      "/kaggle/input/shl-intern-hiring-assessment/dataset/audios_test/audio_274.wav\n",
      "/kaggle/input/shl-intern-hiring-assessment/dataset/audios_test/audio_922.wav\n",
      "/kaggle/input/shl-intern-hiring-assessment/dataset/audios_test/audio_683.wav\n",
      "/kaggle/input/shl-intern-hiring-assessment/dataset/audios_test/audio_1275.wav\n",
      "/kaggle/input/shl-intern-hiring-assessment/dataset/audios_test/audio_541.wav\n",
      "/kaggle/input/shl-intern-hiring-assessment/dataset/audios_test/audio_113.wav\n",
      "/kaggle/input/shl-intern-hiring-assessment/dataset/audios_test/audio_665.wav\n",
      "/kaggle/input/shl-intern-hiring-assessment/dataset/audios_test/audio_543.wav\n",
      "/kaggle/input/shl-intern-hiring-assessment/dataset/audios_test/audio_1012.wav\n",
      "/kaggle/input/shl-intern-hiring-assessment/dataset/audios_test/audio_759.wav\n",
      "/kaggle/input/shl-intern-hiring-assessment/dataset/audios_test/audio_225.wav\n",
      "/kaggle/input/shl-intern-hiring-assessment/dataset/audios_test/audio_644.wav\n",
      "/kaggle/input/shl-intern-hiring-assessment/dataset/audios_test/audio_1035.wav\n",
      "/kaggle/input/shl-intern-hiring-assessment/dataset/audios_test/audio_1159.wav\n",
      "/kaggle/input/shl-intern-hiring-assessment/dataset/audios_test/audio_1179.wav\n",
      "/kaggle/input/shl-intern-hiring-assessment/dataset/audios_test/audio_1048.wav\n",
      "/kaggle/input/shl-intern-hiring-assessment/dataset/audios_test/audio_499.wav\n",
      "/kaggle/input/shl-intern-hiring-assessment/dataset/audios_test/audio_1123.wav\n",
      "/kaggle/input/shl-intern-hiring-assessment/dataset/audios_test/audio_1116.wav\n",
      "/kaggle/input/shl-intern-hiring-assessment/dataset/audios_test/audio_521.wav\n",
      "/kaggle/input/shl-intern-hiring-assessment/dataset/audios_test/audio_1013.wav\n",
      "/kaggle/input/shl-intern-hiring-assessment/dataset/audios_test/audio_198.wav\n",
      "/kaggle/input/shl-intern-hiring-assessment/dataset/audios_test/audio_1278.wav\n",
      "/kaggle/input/shl-intern-hiring-assessment/dataset/audios_test/audio_4.wav\n",
      "/kaggle/input/shl-intern-hiring-assessment/dataset/audios_test/audio_165.wav\n",
      "/kaggle/input/shl-intern-hiring-assessment/dataset/audios_test/audio_19.wav\n",
      "/kaggle/input/shl-intern-hiring-assessment/dataset/audios_test/audio_261.wav\n",
      "/kaggle/input/shl-intern-hiring-assessment/dataset/audios_test/audio_998.wav\n",
      "/kaggle/input/shl-intern-hiring-assessment/dataset/audios_test/audio_89.wav\n",
      "/kaggle/input/shl-intern-hiring-assessment/dataset/audios_test/audio_1280.wav\n",
      "/kaggle/input/shl-intern-hiring-assessment/dataset/audios_test/audio_971.wav\n",
      "/kaggle/input/shl-intern-hiring-assessment/dataset/audios_test/audio_322.wav\n",
      "/kaggle/input/shl-intern-hiring-assessment/dataset/audios_test/audio_1058.wav\n",
      "/kaggle/input/shl-intern-hiring-assessment/dataset/audios_test/audio_1068.wav\n",
      "/kaggle/input/shl-intern-hiring-assessment/dataset/audios_test/audio_719.wav\n",
      "/kaggle/input/shl-intern-hiring-assessment/dataset/audios_test/audio_1205.wav\n",
      "/kaggle/input/shl-intern-hiring-assessment/dataset/audios_test/audio_1315.wav\n",
      "/kaggle/input/shl-intern-hiring-assessment/dataset/audios_test/audio_1061.wav\n",
      "/kaggle/input/shl-intern-hiring-assessment/dataset/audios_test/audio_1091.wav\n",
      "/kaggle/input/shl-intern-hiring-assessment/dataset/audios_test/audio_75.wav\n",
      "/kaggle/input/shl-intern-hiring-assessment/dataset/audios_test/audio_217.wav\n",
      "/kaggle/input/shl-intern-hiring-assessment/dataset/audios_test/audio_95.wav\n",
      "/kaggle/input/shl-intern-hiring-assessment/dataset/audios_test/audio_159.wav\n",
      "/kaggle/input/shl-intern-hiring-assessment/dataset/audios_test/audio_545.wav\n",
      "/kaggle/input/shl-intern-hiring-assessment/dataset/audios_test/audio_379.wav\n",
      "/kaggle/input/shl-intern-hiring-assessment/dataset/audios_test/audio_137.wav\n",
      "/kaggle/input/shl-intern-hiring-assessment/dataset/audios_test/audio_1124.wav\n",
      "/kaggle/input/shl-intern-hiring-assessment/dataset/audios_test/audio_177.wav\n",
      "/kaggle/input/shl-intern-hiring-assessment/dataset/audios_test/audio_180.wav\n",
      "/kaggle/input/shl-intern-hiring-assessment/dataset/audios_test/audio_726.wav\n",
      "/kaggle/input/shl-intern-hiring-assessment/dataset/audios_test/audio_1081.wav\n",
      "/kaggle/input/shl-intern-hiring-assessment/dataset/audios_test/audio_519.wav\n",
      "/kaggle/input/shl-intern-hiring-assessment/dataset/audios_test/audio_285.wav\n",
      "/kaggle/input/shl-intern-hiring-assessment/dataset/audios_test/audio_569.wav\n",
      "/kaggle/input/shl-intern-hiring-assessment/dataset/audios_test/audio_800.wav\n",
      "/kaggle/input/shl-intern-hiring-assessment/dataset/audios_test/audio_218.wav\n",
      "/kaggle/input/shl-intern-hiring-assessment/dataset/audios_test/audio_148.wav\n",
      "/kaggle/input/shl-intern-hiring-assessment/dataset/audios_test/audio_408.wav\n",
      "/kaggle/input/shl-intern-hiring-assessment/dataset/audios_test/audio_1122.wav\n",
      "/kaggle/input/shl-intern-hiring-assessment/dataset/audios_test/audio_884.wav\n",
      "/kaggle/input/shl-intern-hiring-assessment/dataset/audios_test/audio_488.wav\n",
      "/kaggle/input/shl-intern-hiring-assessment/dataset/audios_test/audio_733.wav\n",
      "/kaggle/input/shl-intern-hiring-assessment/dataset/audios_test/audio_235.wav\n",
      "/kaggle/input/shl-intern-hiring-assessment/dataset/audios_test/audio_286.wav\n",
      "/kaggle/input/shl-intern-hiring-assessment/dataset/audios_test/audio_263.wav\n",
      "/kaggle/input/shl-intern-hiring-assessment/dataset/audios_test/audio_1022.wav\n",
      "/kaggle/input/shl-intern-hiring-assessment/dataset/audios_test/audio_656.wav\n",
      "/kaggle/input/shl-intern-hiring-assessment/dataset/audios_test/audio_1101.wav\n",
      "/kaggle/input/shl-intern-hiring-assessment/dataset/audios_test/audio_1286.wav\n",
      "/kaggle/input/shl-intern-hiring-assessment/dataset/audios_test/audio_287.wav\n",
      "/kaggle/input/shl-intern-hiring-assessment/dataset/audios_test/audio_1293.wav\n",
      "/kaggle/input/shl-intern-hiring-assessment/dataset/audios_test/audio_692.wav\n",
      "/kaggle/input/shl-intern-hiring-assessment/dataset/audios_test/audio_1190.wav\n",
      "/kaggle/input/shl-intern-hiring-assessment/dataset/audios_test/audio_1173.wav\n",
      "/kaggle/input/shl-intern-hiring-assessment/dataset/audios_test/audio_388.wav\n",
      "/kaggle/input/shl-intern-hiring-assessment/dataset/audios_test/audio_767.wav\n",
      "/kaggle/input/shl-intern-hiring-assessment/dataset/audios_test/audio_1242.wav\n",
      "/kaggle/input/shl-intern-hiring-assessment/dataset/audios_test/audio_1311.wav\n",
      "/kaggle/input/shl-intern-hiring-assessment/dataset/audios_test/audio_540.wav\n",
      "/kaggle/input/shl-intern-hiring-assessment/dataset/audios_test/audio_932.wav\n",
      "/kaggle/input/shl-intern-hiring-assessment/dataset/audios_test/audio_448.wav\n",
      "/kaggle/input/shl-intern-hiring-assessment/dataset/audios_test/audio_949.wav\n",
      "/kaggle/input/shl-intern-hiring-assessment/dataset/audios_test/audio_908.wav\n",
      "/kaggle/input/shl-intern-hiring-assessment/dataset/audios_test/audio_158.wav\n",
      "/kaggle/input/shl-intern-hiring-assessment/dataset/audios_test/audio_172.wav\n",
      "/kaggle/input/shl-intern-hiring-assessment/dataset/audios_test/audio_958.wav\n",
      "/kaggle/input/shl-intern-hiring-assessment/dataset/audios_test/audio_805.wav\n",
      "/kaggle/input/shl-intern-hiring-assessment/dataset/audios_test/audio_746.wav\n",
      "/kaggle/input/shl-intern-hiring-assessment/dataset/audios_test/audio_221.wav\n",
      "/kaggle/input/shl-intern-hiring-assessment/dataset/audios_test/audio_391.wav\n",
      "/kaggle/input/shl-intern-hiring-assessment/dataset/audios_test/audio_21.wav\n",
      "/kaggle/input/shl-intern-hiring-assessment/dataset/audios_test/audio_1169.wav\n",
      "/kaggle/input/shl-intern-hiring-assessment/dataset/audios_test/audio_68.wav\n",
      "/kaggle/input/shl-intern-hiring-assessment/dataset/audios_test/audio_529.wav\n",
      "/kaggle/input/shl-intern-hiring-assessment/dataset/audios_test/audio_138.wav\n",
      "/kaggle/input/shl-intern-hiring-assessment/dataset/audios_test/audio_1195.wav\n",
      "/kaggle/input/shl-intern-hiring-assessment/dataset/audios_test/audio_580.wav\n",
      "/kaggle/input/shl-intern-hiring-assessment/dataset/audios_test/audio_360.wav\n",
      "/kaggle/input/shl-intern-hiring-assessment/dataset/audios_test/audio_1033.wav\n",
      "/kaggle/input/shl-intern-hiring-assessment/dataset/audios_test/audio_1240.wav\n",
      "/kaggle/input/shl-intern-hiring-assessment/dataset/audios_test/audio_10.wav\n",
      "/kaggle/input/shl-intern-hiring-assessment/dataset/audios_test/audio_48.wav\n",
      "/kaggle/input/shl-intern-hiring-assessment/dataset/audios_test/audio_1193.wav\n",
      "/kaggle/input/shl-intern-hiring-assessment/dataset/audios_test/audio_1217.wav\n",
      "/kaggle/input/shl-intern-hiring-assessment/dataset/audios_test/audio_1292.wav\n",
      "/kaggle/input/shl-intern-hiring-assessment/dataset/audios_test/audio_282.wav\n",
      "/kaggle/input/shl-intern-hiring-assessment/dataset/audios_test/audio_599.wav\n",
      "/kaggle/input/shl-intern-hiring-assessment/dataset/audios_test/audio_153.wav\n",
      "/kaggle/input/shl-intern-hiring-assessment/dataset/audios_test/audio_564.wav\n",
      "/kaggle/input/shl-intern-hiring-assessment/dataset/audios_test/audio_1019.wav\n",
      "/kaggle/input/shl-intern-hiring-assessment/dataset/audios_test/audio_196.wav\n",
      "/kaggle/input/shl-intern-hiring-assessment/dataset/audios_test/audio_1115.wav\n",
      "/kaggle/input/shl-intern-hiring-assessment/dataset/audios_test/audio_103.wav\n",
      "/kaggle/input/shl-intern-hiring-assessment/dataset/audios_test/audio_1291.wav\n",
      "/kaggle/input/shl-intern-hiring-assessment/dataset/audios_test/audio_690.wav\n",
      "/kaggle/input/shl-intern-hiring-assessment/dataset/audios_test/audio_706.wav\n",
      "/kaggle/input/shl-intern-hiring-assessment/dataset/audios_test/audio_1214.wav\n",
      "/kaggle/input/shl-intern-hiring-assessment/dataset/audios_test/audio_1138.wav\n",
      "/kaggle/input/shl-intern-hiring-assessment/dataset/audios_test/audio_831.wav\n",
      "/kaggle/input/shl-intern-hiring-assessment/dataset/audios_test/audio_857.wav\n",
      "/kaggle/input/shl-intern-hiring-assessment/dataset/audios_test/audio_1267.wav\n",
      "/kaggle/input/shl-intern-hiring-assessment/dataset/audios_test/audio_135.wav\n",
      "/kaggle/input/shl-intern-hiring-assessment/dataset/audios_test/audio_433.wav\n",
      "/kaggle/input/shl-intern-hiring-assessment/dataset/audios_test/audio_556.wav\n",
      "/kaggle/input/shl-intern-hiring-assessment/dataset/audios_test/audio_306.wav\n",
      "/kaggle/input/shl-intern-hiring-assessment/dataset/audios_test/audio_109.wav\n",
      "/kaggle/input/shl-intern-hiring-assessment/dataset/audios_test/audio_1256.wav\n",
      "/kaggle/input/shl-intern-hiring-assessment/dataset/audios_test/audio_34.wav\n",
      "/kaggle/input/shl-intern-hiring-assessment/dataset/audios_test/audio_572.wav\n",
      "/kaggle/input/shl-intern-hiring-assessment/dataset/audios_test/audio_487.wav\n",
      "/kaggle/input/shl-intern-hiring-assessment/dataset/audios_test/audio_554.wav\n",
      "/kaggle/input/shl-intern-hiring-assessment/dataset/audios_test/audio_512.wav\n",
      "/kaggle/input/shl-intern-hiring-assessment/dataset/audios_test/audio_1317.wav\n",
      "/kaggle/input/shl-intern-hiring-assessment/dataset/audios_test/audio_179.wav\n",
      "/kaggle/input/shl-intern-hiring-assessment/dataset/audios_test/audio_604.wav\n",
      "/kaggle/input/shl-intern-hiring-assessment/dataset/audios_test/audio_882.wav\n",
      "/kaggle/input/shl-intern-hiring-assessment/dataset/audios_test/audio_437.wav\n",
      "/kaggle/input/shl-intern-hiring-assessment/dataset/audios_test/audio_920.wav\n",
      "/kaggle/input/shl-intern-hiring-assessment/dataset/audios_test/audio_546.wav\n",
      "/kaggle/input/shl-intern-hiring-assessment/dataset/audios_test/audio_1178.wav\n",
      "/kaggle/input/shl-intern-hiring-assessment/dataset/audios_test/audio_702.wav\n",
      "/kaggle/input/shl-intern-hiring-assessment/dataset/audios_test/audio_1243.wav\n",
      "/kaggle/input/shl-intern-hiring-assessment/dataset/audios_test/audio_394.wav\n",
      "/kaggle/input/shl-intern-hiring-assessment/dataset/audios_test/audio_428.wav\n",
      "/kaggle/input/shl-intern-hiring-assessment/dataset/audios_test/audio_1321.wav\n",
      "/kaggle/input/shl-intern-hiring-assessment/dataset/audios_test/audio_422.wav\n",
      "/kaggle/input/shl-intern-hiring-assessment/dataset/audios_test/audio_713.wav\n",
      "/kaggle/input/shl-intern-hiring-assessment/dataset/audios_test/audio_320.wav\n",
      "/kaggle/input/shl-intern-hiring-assessment/dataset/audios_test/audio_770.wav\n",
      "/kaggle/input/shl-intern-hiring-assessment/dataset/audios_test/audio_1166.wav\n",
      "/kaggle/input/shl-intern-hiring-assessment/dataset/audios_test/audio_151.wav\n",
      "/kaggle/input/shl-intern-hiring-assessment/dataset/audios_test/audio_897.wav\n",
      "/kaggle/input/shl-intern-hiring-assessment/dataset/audios_train/audio_90.wav\n",
      "/kaggle/input/shl-intern-hiring-assessment/dataset/audios_train/audio_581.wav\n",
      "/kaggle/input/shl-intern-hiring-assessment/dataset/audios_train/audio_77.wav\n",
      "/kaggle/input/shl-intern-hiring-assessment/dataset/audios_train/audio_817.wav\n",
      "/kaggle/input/shl-intern-hiring-assessment/dataset/audios_train/audio_694.wav\n",
      "/kaggle/input/shl-intern-hiring-assessment/dataset/audios_train/audio_1262.wav\n",
      "/kaggle/input/shl-intern-hiring-assessment/dataset/audios_train/audio_237.wav\n",
      "/kaggle/input/shl-intern-hiring-assessment/dataset/audios_train/audio_765.wav\n",
      "/kaggle/input/shl-intern-hiring-assessment/dataset/audios_train/audio_1164.wav\n",
      "/kaggle/input/shl-intern-hiring-assessment/dataset/audios_train/audio_1251.wav\n",
      "/kaggle/input/shl-intern-hiring-assessment/dataset/audios_train/audio_1032.wav\n",
      "/kaggle/input/shl-intern-hiring-assessment/dataset/audios_train/audio_688.wav\n",
      "/kaggle/input/shl-intern-hiring-assessment/dataset/audios_train/audio_886.wav\n",
      "/kaggle/input/shl-intern-hiring-assessment/dataset/audios_train/audio_1129.wav\n",
      "/kaggle/input/shl-intern-hiring-assessment/dataset/audios_train/audio_464.wav\n",
      "/kaggle/input/shl-intern-hiring-assessment/dataset/audios_train/audio_1040.wav\n",
      "/kaggle/input/shl-intern-hiring-assessment/dataset/audios_train/audio_711.wav\n",
      "/kaggle/input/shl-intern-hiring-assessment/dataset/audios_train/audio_853.wav\n",
      "/kaggle/input/shl-intern-hiring-assessment/dataset/audios_train/audio_436.wav\n",
      "/kaggle/input/shl-intern-hiring-assessment/dataset/audios_train/audio_538.wav\n",
      "/kaggle/input/shl-intern-hiring-assessment/dataset/audios_train/audio_859.wav\n",
      "/kaggle/input/shl-intern-hiring-assessment/dataset/audios_train/audio_547.wav\n",
      "/kaggle/input/shl-intern-hiring-assessment/dataset/audios_train/audio_1266.wav\n",
      "/kaggle/input/shl-intern-hiring-assessment/dataset/audios_train/audio_919.wav\n",
      "/kaggle/input/shl-intern-hiring-assessment/dataset/audios_train/audio_1036.wav\n",
      "/kaggle/input/shl-intern-hiring-assessment/dataset/audios_train/audio_796.wav\n",
      "/kaggle/input/shl-intern-hiring-assessment/dataset/audios_train/audio_994.wav\n",
      "/kaggle/input/shl-intern-hiring-assessment/dataset/audios_train/audio_760.wav\n",
      "/kaggle/input/shl-intern-hiring-assessment/dataset/audios_train/audio_315.wav\n",
      "/kaggle/input/shl-intern-hiring-assessment/dataset/audios_train/audio_1028.wav\n",
      "/kaggle/input/shl-intern-hiring-assessment/dataset/audios_train/audio_55.wav\n",
      "/kaggle/input/shl-intern-hiring-assessment/dataset/audios_train/audio_1284.wav\n",
      "/kaggle/input/shl-intern-hiring-assessment/dataset/audios_train/audio_950.wav\n",
      "/kaggle/input/shl-intern-hiring-assessment/dataset/audios_train/audio_256.wav\n",
      "/kaggle/input/shl-intern-hiring-assessment/dataset/audios_train/audio_359.wav\n",
      "/kaggle/input/shl-intern-hiring-assessment/dataset/audios_train/audio_462.wav\n",
      "/kaggle/input/shl-intern-hiring-assessment/dataset/audios_train/audio_44.wav\n",
      "/kaggle/input/shl-intern-hiring-assessment/dataset/audios_train/audio_753.wav\n",
      "/kaggle/input/shl-intern-hiring-assessment/dataset/audios_train/audio_813.wav\n",
      "/kaggle/input/shl-intern-hiring-assessment/dataset/audios_train/audio_7.wav\n",
      "/kaggle/input/shl-intern-hiring-assessment/dataset/audios_train/audio_1100.wav\n",
      "/kaggle/input/shl-intern-hiring-assessment/dataset/audios_train/audio_1131.wav\n",
      "/kaggle/input/shl-intern-hiring-assessment/dataset/audios_train/audio_119.wav\n",
      "/kaggle/input/shl-intern-hiring-assessment/dataset/audios_train/audio_59.wav\n",
      "/kaggle/input/shl-intern-hiring-assessment/dataset/audios_train/audio_802.wav\n",
      "/kaggle/input/shl-intern-hiring-assessment/dataset/audios_train/audio_518.wav\n",
      "/kaggle/input/shl-intern-hiring-assessment/dataset/audios_train/audio_12.wav\n",
      "/kaggle/input/shl-intern-hiring-assessment/dataset/audios_train/audio_591.wav\n",
      "/kaggle/input/shl-intern-hiring-assessment/dataset/audios_train/audio_536.wav\n",
      "/kaggle/input/shl-intern-hiring-assessment/dataset/audios_train/audio_1082.wav\n",
      "/kaggle/input/shl-intern-hiring-assessment/dataset/audios_train/audio_404.wav\n",
      "/kaggle/input/shl-intern-hiring-assessment/dataset/audios_train/audio_254.wav\n",
      "/kaggle/input/shl-intern-hiring-assessment/dataset/audios_train/audio_990.wav\n",
      "/kaggle/input/shl-intern-hiring-assessment/dataset/audios_train/audio_513.wav\n",
      "/kaggle/input/shl-intern-hiring-assessment/dataset/audios_train/audio_653.wav\n",
      "/kaggle/input/shl-intern-hiring-assessment/dataset/audios_train/audio_1177.wav\n",
      "/kaggle/input/shl-intern-hiring-assessment/dataset/audios_train/audio_188.wav\n",
      "/kaggle/input/shl-intern-hiring-assessment/dataset/audios_train/audio_539.wav\n",
      "/kaggle/input/shl-intern-hiring-assessment/dataset/audios_train/audio_289.wav\n",
      "/kaggle/input/shl-intern-hiring-assessment/dataset/audios_train/audio_778.wav\n",
      "/kaggle/input/shl-intern-hiring-assessment/dataset/audios_train/audio_1210.wav\n",
      "/kaggle/input/shl-intern-hiring-assessment/dataset/audios_train/audio_946.wav\n",
      "/kaggle/input/shl-intern-hiring-assessment/dataset/audios_train/audio_67.wav\n",
      "/kaggle/input/shl-intern-hiring-assessment/dataset/audios_train/audio_186.wav\n",
      "/kaggle/input/shl-intern-hiring-assessment/dataset/audios_train/audio_600.wav\n",
      "/kaggle/input/shl-intern-hiring-assessment/dataset/audios_train/audio_1277.wav\n",
      "/kaggle/input/shl-intern-hiring-assessment/dataset/audios_train/audio_291.wav\n",
      "/kaggle/input/shl-intern-hiring-assessment/dataset/audios_train/audio_602.wav\n",
      "/kaggle/input/shl-intern-hiring-assessment/dataset/audios_train/audio_1150.wav\n",
      "/kaggle/input/shl-intern-hiring-assessment/dataset/audios_train/audio_1118.wav\n",
      "/kaggle/input/shl-intern-hiring-assessment/dataset/audios_train/audio_1106.wav\n",
      "/kaggle/input/shl-intern-hiring-assessment/dataset/audios_train/audio_1312.wav\n",
      "/kaggle/input/shl-intern-hiring-assessment/dataset/audios_train/audio_495.wav\n",
      "/kaggle/input/shl-intern-hiring-assessment/dataset/audios_train/audio_265.wav\n",
      "/kaggle/input/shl-intern-hiring-assessment/dataset/audios_train/audio_558.wav\n",
      "/kaggle/input/shl-intern-hiring-assessment/dataset/audios_train/audio_82.wav\n",
      "/kaggle/input/shl-intern-hiring-assessment/dataset/audios_train/audio_61.wav\n",
      "/kaggle/input/shl-intern-hiring-assessment/dataset/audios_train/audio_964.wav\n",
      "/kaggle/input/shl-intern-hiring-assessment/dataset/audios_train/audio_526.wav\n",
      "/kaggle/input/shl-intern-hiring-assessment/dataset/audios_train/audio_1285.wav\n",
      "/kaggle/input/shl-intern-hiring-assessment/dataset/audios_train/audio_32.wav\n",
      "/kaggle/input/shl-intern-hiring-assessment/dataset/audios_train/audio_535.wav\n",
      "/kaggle/input/shl-intern-hiring-assessment/dataset/audios_train/audio_110.wav\n",
      "/kaggle/input/shl-intern-hiring-assessment/dataset/audios_train/audio_1172.wav\n",
      "/kaggle/input/shl-intern-hiring-assessment/dataset/audios_train/audio_567.wav\n",
      "/kaggle/input/shl-intern-hiring-assessment/dataset/audios_train/audio_1325.wav\n",
      "/kaggle/input/shl-intern-hiring-assessment/dataset/audios_train/audio_374.wav\n",
      "/kaggle/input/shl-intern-hiring-assessment/dataset/audios_train/audio_944.wav\n",
      "/kaggle/input/shl-intern-hiring-assessment/dataset/audios_train/audio_327.wav\n",
      "/kaggle/input/shl-intern-hiring-assessment/dataset/audios_train/audio_120.wav\n",
      "/kaggle/input/shl-intern-hiring-assessment/dataset/audios_train/audio_297.wav\n",
      "/kaggle/input/shl-intern-hiring-assessment/dataset/audios_train/audio_1212.wav\n",
      "/kaggle/input/shl-intern-hiring-assessment/dataset/audios_train/audio_899.wav\n",
      "/kaggle/input/shl-intern-hiring-assessment/dataset/audios_train/audio_516.wav\n",
      "/kaggle/input/shl-intern-hiring-assessment/dataset/audios_train/audio_441.wav\n",
      "/kaggle/input/shl-intern-hiring-assessment/dataset/audios_train/audio_848.wav\n",
      "/kaggle/input/shl-intern-hiring-assessment/dataset/audios_train/audio_1103.wav\n",
      "/kaggle/input/shl-intern-hiring-assessment/dataset/audios_train/audio_346.wav\n",
      "/kaggle/input/shl-intern-hiring-assessment/dataset/audios_train/audio_446.wav\n",
      "/kaggle/input/shl-intern-hiring-assessment/dataset/audios_train/audio_104.wav\n",
      "/kaggle/input/shl-intern-hiring-assessment/dataset/audios_train/audio_1236.wav\n",
      "/kaggle/input/shl-intern-hiring-assessment/dataset/audios_train/audio_957.wav\n",
      "/kaggle/input/shl-intern-hiring-assessment/dataset/audios_train/audio_776.wav\n",
      "/kaggle/input/shl-intern-hiring-assessment/dataset/audios_train/audio_1163.wav\n",
      "/kaggle/input/shl-intern-hiring-assessment/dataset/audios_train/audio_642.wav\n",
      "/kaggle/input/shl-intern-hiring-assessment/dataset/audios_train/audio_479.wav\n",
      "/kaggle/input/shl-intern-hiring-assessment/dataset/audios_train/audio_940.wav\n",
      "/kaggle/input/shl-intern-hiring-assessment/dataset/audios_train/audio_1171.wav\n",
      "/kaggle/input/shl-intern-hiring-assessment/dataset/audios_train/audio_563.wav\n",
      "/kaggle/input/shl-intern-hiring-assessment/dataset/audios_train/audio_773.wav\n",
      "/kaggle/input/shl-intern-hiring-assessment/dataset/audios_train/audio_71.wav\n",
      "/kaggle/input/shl-intern-hiring-assessment/dataset/audios_train/audio_76.wav\n",
      "/kaggle/input/shl-intern-hiring-assessment/dataset/audios_train/audio_905.wav\n",
      "/kaggle/input/shl-intern-hiring-assessment/dataset/audios_train/audio_925.wav\n",
      "/kaggle/input/shl-intern-hiring-assessment/dataset/audios_train/audio_205.wav\n",
      "/kaggle/input/shl-intern-hiring-assessment/dataset/audios_train/audio_345.wav\n",
      "/kaggle/input/shl-intern-hiring-assessment/dataset/audios_train/audio_661.wav\n",
      "/kaggle/input/shl-intern-hiring-assessment/dataset/audios_train/audio_102.wav\n",
      "/kaggle/input/shl-intern-hiring-assessment/dataset/audios_train/audio_1136.wav\n",
      "/kaggle/input/shl-intern-hiring-assessment/dataset/audios_train/audio_1304.wav\n",
      "/kaggle/input/shl-intern-hiring-assessment/dataset/audios_train/audio_399.wav\n",
      "/kaggle/input/shl-intern-hiring-assessment/dataset/audios_train/audio_1126.wav\n",
      "/kaggle/input/shl-intern-hiring-assessment/dataset/audios_train/audio_1024.wav\n",
      "/kaggle/input/shl-intern-hiring-assessment/dataset/audios_train/audio_45.wav\n",
      "/kaggle/input/shl-intern-hiring-assessment/dataset/audios_train/audio_812.wav\n",
      "/kaggle/input/shl-intern-hiring-assessment/dataset/audios_train/audio_860.wav\n",
      "/kaggle/input/shl-intern-hiring-assessment/dataset/audios_train/audio_942.wav\n",
      "/kaggle/input/shl-intern-hiring-assessment/dataset/audios_train/audio_414.wav\n",
      "/kaggle/input/shl-intern-hiring-assessment/dataset/audios_train/audio_725.wav\n",
      "/kaggle/input/shl-intern-hiring-assessment/dataset/audios_train/audio_1245.wav\n",
      "/kaggle/input/shl-intern-hiring-assessment/dataset/audios_train/audio_275.wav\n",
      "/kaggle/input/shl-intern-hiring-assessment/dataset/audios_train/audio_590.wav\n",
      "/kaggle/input/shl-intern-hiring-assessment/dataset/audios_train/audio_955.wav\n",
      "/kaggle/input/shl-intern-hiring-assessment/dataset/audios_train/audio_478.wav\n",
      "/kaggle/input/shl-intern-hiring-assessment/dataset/audios_train/audio_779.wav\n",
      "/kaggle/input/shl-intern-hiring-assessment/dataset/audios_train/audio_2.wav\n",
      "/kaggle/input/shl-intern-hiring-assessment/dataset/audios_train/audio_447.wav\n",
      "/kaggle/input/shl-intern-hiring-assessment/dataset/audios_train/audio_807.wav\n",
      "/kaggle/input/shl-intern-hiring-assessment/dataset/audios_train/audio_223.wav\n",
      "/kaggle/input/shl-intern-hiring-assessment/dataset/audios_train/audio_1268.wav\n",
      "/kaggle/input/shl-intern-hiring-assessment/dataset/audios_train/audio_118.wav\n",
      "/kaggle/input/shl-intern-hiring-assessment/dataset/audios_train/audio_1202.wav\n",
      "/kaggle/input/shl-intern-hiring-assessment/dataset/audios_train/audio_549.wav\n",
      "/kaggle/input/shl-intern-hiring-assessment/dataset/audios_train/audio_1069.wav\n",
      "/kaggle/input/shl-intern-hiring-assessment/dataset/audios_train/audio_366.wav\n",
      "/kaggle/input/shl-intern-hiring-assessment/dataset/audios_train/audio_743.wav\n",
      "/kaggle/input/shl-intern-hiring-assessment/dataset/audios_train/audio_210.wav\n",
      "/kaggle/input/shl-intern-hiring-assessment/dataset/audios_train/audio_874.wav\n",
      "/kaggle/input/shl-intern-hiring-assessment/dataset/audios_train/audio_705.wav\n",
      "/kaggle/input/shl-intern-hiring-assessment/dataset/audios_train/audio_952.wav\n",
      "/kaggle/input/shl-intern-hiring-assessment/dataset/audios_train/audio_836.wav\n",
      "/kaggle/input/shl-intern-hiring-assessment/dataset/audios_train/audio_396.wav\n",
      "/kaggle/input/shl-intern-hiring-assessment/dataset/audios_train/audio_1239.wav\n",
      "/kaggle/input/shl-intern-hiring-assessment/dataset/audios_train/audio_909.wav\n",
      "/kaggle/input/shl-intern-hiring-assessment/dataset/audios_train/audio_583.wav\n",
      "/kaggle/input/shl-intern-hiring-assessment/dataset/audios_train/audio_1114.wav\n",
      "/kaggle/input/shl-intern-hiring-assessment/dataset/audios_train/audio_771.wav\n",
      "/kaggle/input/shl-intern-hiring-assessment/dataset/audios_train/audio_989.wav\n",
      "/kaggle/input/shl-intern-hiring-assessment/dataset/audios_train/audio_1182.wav\n",
      "/kaggle/input/shl-intern-hiring-assessment/dataset/audios_train/audio_865.wav\n",
      "/kaggle/input/shl-intern-hiring-assessment/dataset/audios_train/audio_278.wav\n",
      "/kaggle/input/shl-intern-hiring-assessment/dataset/audios_train/audio_468.wav\n",
      "/kaggle/input/shl-intern-hiring-assessment/dataset/audios_train/audio_930.wav\n",
      "/kaggle/input/shl-intern-hiring-assessment/dataset/audios_train/audio_314.wav\n",
      "/kaggle/input/shl-intern-hiring-assessment/dataset/audios_train/audio_697.wav\n",
      "/kaggle/input/shl-intern-hiring-assessment/dataset/audios_train/audio_722.wav\n",
      "/kaggle/input/shl-intern-hiring-assessment/dataset/audios_train/audio_674.wav\n",
      "/kaggle/input/shl-intern-hiring-assessment/dataset/audios_train/audio_1104.wav\n",
      "/kaggle/input/shl-intern-hiring-assessment/dataset/audios_train/audio_1134.wav\n",
      "/kaggle/input/shl-intern-hiring-assessment/dataset/audios_train/audio_1043.wav\n",
      "/kaggle/input/shl-intern-hiring-assessment/dataset/audios_train/audio_609.wav\n",
      "/kaggle/input/shl-intern-hiring-assessment/dataset/audios_train/audio_1329.wav\n",
      "/kaggle/input/shl-intern-hiring-assessment/dataset/audios_train/audio_1153.wav\n",
      "/kaggle/input/shl-intern-hiring-assessment/dataset/audios_train/audio_23.wav\n",
      "/kaggle/input/shl-intern-hiring-assessment/dataset/audios_train/audio_542.wav\n",
      "/kaggle/input/shl-intern-hiring-assessment/dataset/audios_train/audio_592.wav\n",
      "/kaggle/input/shl-intern-hiring-assessment/dataset/audios_train/audio_954.wav\n",
      "/kaggle/input/shl-intern-hiring-assessment/dataset/audios_train/audio_916.wav\n",
      "/kaggle/input/shl-intern-hiring-assessment/dataset/audios_train/audio_244.wav\n",
      "/kaggle/input/shl-intern-hiring-assessment/dataset/audios_train/audio_387.wav\n",
      "/kaggle/input/shl-intern-hiring-assessment/dataset/audios_train/audio_313.wav\n",
      "/kaggle/input/shl-intern-hiring-assessment/dataset/audios_train/audio_1252.wav\n",
      "/kaggle/input/shl-intern-hiring-assessment/dataset/audios_train/audio_194.wav\n",
      "/kaggle/input/shl-intern-hiring-assessment/dataset/audios_train/audio_427.wav\n",
      "/kaggle/input/shl-intern-hiring-assessment/dataset/audios_train/audio_93.wav\n",
      "/kaggle/input/shl-intern-hiring-assessment/dataset/audios_train/audio_1162.wav\n",
      "/kaggle/input/shl-intern-hiring-assessment/dataset/audios_train/audio_142.wav\n",
      "/kaggle/input/shl-intern-hiring-assessment/dataset/audios_train/audio_708.wav\n",
      "/kaggle/input/shl-intern-hiring-assessment/dataset/audios_train/audio_492.wav\n",
      "/kaggle/input/shl-intern-hiring-assessment/dataset/audios_train/audio_934.wav\n",
      "/kaggle/input/shl-intern-hiring-assessment/dataset/audios_train/audio_826.wav\n",
      "/kaggle/input/shl-intern-hiring-assessment/dataset/audios_train/audio_931.wav\n",
      "/kaggle/input/shl-intern-hiring-assessment/dataset/audios_train/audio_255.wav\n",
      "/kaggle/input/shl-intern-hiring-assessment/dataset/audios_train/audio_654.wav\n",
      "/kaggle/input/shl-intern-hiring-assessment/dataset/audios_train/audio_703.wav\n",
      "/kaggle/input/shl-intern-hiring-assessment/dataset/audios_train/audio_657.wav\n",
      "/kaggle/input/shl-intern-hiring-assessment/dataset/audios_train/audio_5.wav\n",
      "/kaggle/input/shl-intern-hiring-assessment/dataset/audios_train/audio_185.wav\n",
      "/kaggle/input/shl-intern-hiring-assessment/dataset/audios_train/audio_1175.wav\n",
      "/kaggle/input/shl-intern-hiring-assessment/dataset/audios_train/audio_1120.wav\n",
      "/kaggle/input/shl-intern-hiring-assessment/dataset/audios_train/audio_1128.wav\n",
      "/kaggle/input/shl-intern-hiring-assessment/dataset/audios_train/audio_1066.wav\n",
      "/kaggle/input/shl-intern-hiring-assessment/dataset/audios_train/audio_80.wav\n",
      "/kaggle/input/shl-intern-hiring-assessment/dataset/audios_train/audio_668.wav\n",
      "/kaggle/input/shl-intern-hiring-assessment/dataset/audios_train/audio_8.wav\n",
      "/kaggle/input/shl-intern-hiring-assessment/dataset/audios_train/audio_763.wav\n",
      "/kaggle/input/shl-intern-hiring-assessment/dataset/audios_train/audio_85.wav\n",
      "/kaggle/input/shl-intern-hiring-assessment/dataset/audios_train/audio_1318.wav\n",
      "/kaggle/input/shl-intern-hiring-assessment/dataset/audios_train/audio_303.wav\n",
      "/kaggle/input/shl-intern-hiring-assessment/dataset/audios_train/audio_727.wav\n",
      "/kaggle/input/shl-intern-hiring-assessment/dataset/audios_train/audio_1057.wav\n",
      "/kaggle/input/shl-intern-hiring-assessment/dataset/audios_train/audio_469.wav\n",
      "/kaggle/input/shl-intern-hiring-assessment/dataset/audios_train/audio_965.wav\n",
      "/kaggle/input/shl-intern-hiring-assessment/dataset/audios_train/audio_202.wav\n",
      "/kaggle/input/shl-intern-hiring-assessment/dataset/audios_train/audio_127.wav\n",
      "/kaggle/input/shl-intern-hiring-assessment/dataset/audios_train/audio_677.wav\n",
      "/kaggle/input/shl-intern-hiring-assessment/dataset/audios_train/audio_788.wav\n",
      "/kaggle/input/shl-intern-hiring-assessment/dataset/audios_train/audio_904.wav\n",
      "/kaggle/input/shl-intern-hiring-assessment/dataset/audios_train/audio_695.wav\n",
      "/kaggle/input/shl-intern-hiring-assessment/dataset/audios_train/audio_463.wav\n",
      "/kaggle/input/shl-intern-hiring-assessment/dataset/audios_train/audio_1075.wav\n",
      "/kaggle/input/shl-intern-hiring-assessment/dataset/audios_train/audio_130.wav\n",
      "/kaggle/input/shl-intern-hiring-assessment/dataset/audios_train/audio_273.wav\n",
      "/kaggle/input/shl-intern-hiring-assessment/dataset/audios_train/audio_489.wav\n",
      "/kaggle/input/shl-intern-hiring-assessment/dataset/audios_train/audio_293.wav\n",
      "/kaggle/input/shl-intern-hiring-assessment/dataset/audios_train/audio_1030.wav\n",
      "/kaggle/input/shl-intern-hiring-assessment/dataset/audios_train/audio_970.wav\n",
      "/kaggle/input/shl-intern-hiring-assessment/dataset/audios_train/audio_239.wav\n",
      "/kaggle/input/shl-intern-hiring-assessment/dataset/audios_train/audio_252.wav\n",
      "/kaggle/input/shl-intern-hiring-assessment/dataset/audios_train/audio_311.wav\n",
      "/kaggle/input/shl-intern-hiring-assessment/dataset/audios_train/audio_240.wav\n",
      "/kaggle/input/shl-intern-hiring-assessment/dataset/audios_train/audio_288.wav\n",
      "/kaggle/input/shl-intern-hiring-assessment/dataset/audios_train/audio_1226.wav\n",
      "/kaggle/input/shl-intern-hiring-assessment/dataset/audios_train/audio_146.wav\n",
      "/kaggle/input/shl-intern-hiring-assessment/dataset/audios_train/audio_643.wav\n",
      "/kaggle/input/shl-intern-hiring-assessment/dataset/audios_train/audio_675.wav\n",
      "/kaggle/input/shl-intern-hiring-assessment/dataset/audios_train/audio_731.wav\n",
      "/kaggle/input/shl-intern-hiring-assessment/dataset/audios_train/audio_1191.wav\n",
      "/kaggle/input/shl-intern-hiring-assessment/dataset/audios_train/audio_52.wav\n",
      "/kaggle/input/shl-intern-hiring-assessment/dataset/audios_train/audio_504.wav\n",
      "/kaggle/input/shl-intern-hiring-assessment/dataset/audios_train/audio_1112.wav\n",
      "/kaggle/input/shl-intern-hiring-assessment/dataset/audios_train/audio_875.wav\n",
      "/kaggle/input/shl-intern-hiring-assessment/dataset/audios_train/audio_460.wav\n",
      "/kaggle/input/shl-intern-hiring-assessment/dataset/audios_train/audio_1111.wav\n",
      "/kaggle/input/shl-intern-hiring-assessment/dataset/audios_train/audio_736.wav\n",
      "/kaggle/input/shl-intern-hiring-assessment/dataset/audios_train/audio_1333.wav\n",
      "/kaggle/input/shl-intern-hiring-assessment/dataset/audios_train/audio_365.wav\n",
      "/kaggle/input/shl-intern-hiring-assessment/dataset/audios_train/audio_937.wav\n",
      "/kaggle/input/shl-intern-hiring-assessment/dataset/audios_train/audio_332.wav\n",
      "/kaggle/input/shl-intern-hiring-assessment/dataset/audios_train/audio_1335.wav\n",
      "/kaggle/input/shl-intern-hiring-assessment/dataset/audios_train/audio_681.wav\n",
      "/kaggle/input/shl-intern-hiring-assessment/dataset/audios_train/audio_808.wav\n",
      "/kaggle/input/shl-intern-hiring-assessment/dataset/audios_train/audio_766.wav\n",
      "/kaggle/input/shl-intern-hiring-assessment/dataset/audios_train/audio_700.wav\n",
      "/kaggle/input/shl-intern-hiring-assessment/dataset/audios_train/audio_1247.wav\n",
      "/kaggle/input/shl-intern-hiring-assessment/dataset/audios_train/audio_686.wav\n",
      "/kaggle/input/shl-intern-hiring-assessment/dataset/audios_train/audio_1313.wav\n",
      "/kaggle/input/shl-intern-hiring-assessment/dataset/audios_train/audio_867.wav\n",
      "/kaggle/input/shl-intern-hiring-assessment/dataset/audios_train/audio_939.wav\n",
      "/kaggle/input/shl-intern-hiring-assessment/dataset/audios_train/audio_917.wav\n",
      "/kaggle/input/shl-intern-hiring-assessment/dataset/audios_train/audio_620.wav\n",
      "/kaggle/input/shl-intern-hiring-assessment/dataset/audios_train/audio_1099.wav\n",
      "/kaggle/input/shl-intern-hiring-assessment/dataset/audios_train/audio_339.wav\n",
      "/kaggle/input/shl-intern-hiring-assessment/dataset/audios_train/audio_1147.wav\n",
      "/kaggle/input/shl-intern-hiring-assessment/dataset/audios_train/audio_921.wav\n",
      "/kaggle/input/shl-intern-hiring-assessment/dataset/audios_train/audio_484.wav\n",
      "/kaggle/input/shl-intern-hiring-assessment/dataset/audios_train/audio_745.wav\n",
      "/kaggle/input/shl-intern-hiring-assessment/dataset/audios_train/audio_1274.wav\n",
      "/kaggle/input/shl-intern-hiring-assessment/dataset/audios_train/audio_1326.wav\n",
      "/kaggle/input/shl-intern-hiring-assessment/dataset/audios_train/audio_527.wav\n",
      "/kaggle/input/shl-intern-hiring-assessment/dataset/audios_train/audio_948.wav\n",
      "/kaggle/input/shl-intern-hiring-assessment/dataset/audios_train/audio_870.wav\n",
      "/kaggle/input/shl-intern-hiring-assessment/dataset/audios_train/audio_362.wav\n",
      "/kaggle/input/shl-intern-hiring-assessment/dataset/audios_train/audio_873.wav\n",
      "/kaggle/input/shl-intern-hiring-assessment/dataset/audios_train/audio_482.wav\n",
      "/kaggle/input/shl-intern-hiring-assessment/dataset/audios_train/audio_1307.wav\n",
      "/kaggle/input/shl-intern-hiring-assessment/dataset/audios_train/audio_680.wav\n",
      "/kaggle/input/shl-intern-hiring-assessment/dataset/audios_train/audio_140.wav\n",
      "/kaggle/input/shl-intern-hiring-assessment/dataset/audios_train/audio_1196.wav\n",
      "/kaggle/input/shl-intern-hiring-assessment/dataset/audios_train/audio_582.wav\n",
      "/kaggle/input/shl-intern-hiring-assessment/dataset/audios_train/audio_17.wav\n",
      "/kaggle/input/shl-intern-hiring-assessment/dataset/audios_train/audio_533.wav\n",
      "/kaggle/input/shl-intern-hiring-assessment/dataset/audios_train/audio_154.wav\n",
      "/kaggle/input/shl-intern-hiring-assessment/dataset/audios_train/audio_963.wav\n",
      "/kaggle/input/shl-intern-hiring-assessment/dataset/audios_train/audio_926.wav\n",
      "/kaggle/input/shl-intern-hiring-assessment/dataset/audios_train/audio_1264.wav\n",
      "/kaggle/input/shl-intern-hiring-assessment/dataset/audios_train/audio_1102.wav\n",
      "/kaggle/input/shl-intern-hiring-assessment/dataset/audios_train/audio_630.wav\n",
      "/kaggle/input/shl-intern-hiring-assessment/dataset/audios_train/audio_730.wav\n",
      "/kaggle/input/shl-intern-hiring-assessment/dataset/audios_train/audio_317.wav\n",
      "/kaggle/input/shl-intern-hiring-assessment/dataset/audios_train/audio_440.wav\n",
      "/kaggle/input/shl-intern-hiring-assessment/dataset/audios_train/audio_611.wav\n",
      "/kaggle/input/shl-intern-hiring-assessment/dataset/audios_train/audio_69.wav\n",
      "/kaggle/input/shl-intern-hiring-assessment/dataset/audios_train/audio_64.wav\n",
      "/kaggle/input/shl-intern-hiring-assessment/dataset/audios_train/audio_978.wav\n",
      "/kaggle/input/shl-intern-hiring-assessment/dataset/audios_train/audio_494.wav\n",
      "/kaggle/input/shl-intern-hiring-assessment/dataset/audios_train/audio_131.wav\n",
      "/kaggle/input/shl-intern-hiring-assessment/dataset/audios_train/audio_336.wav\n",
      "/kaggle/input/shl-intern-hiring-assessment/dataset/audios_train/audio_105.wav\n",
      "/kaggle/input/shl-intern-hiring-assessment/dataset/audios_train/audio_395.wav\n",
      "/kaggle/input/shl-intern-hiring-assessment/dataset/audios_train/audio_324.wav\n",
      "/kaggle/input/shl-intern-hiring-assessment/dataset/audios_train/audio_358.wav\n",
      "/kaggle/input/shl-intern-hiring-assessment/dataset/audios_train/audio_707.wav\n",
      "/kaggle/input/shl-intern-hiring-assessment/dataset/audios_train/audio_15.wav\n",
      "/kaggle/input/shl-intern-hiring-assessment/dataset/audios_train/audio_63.wav\n",
      "/kaggle/input/shl-intern-hiring-assessment/dataset/audios_train/audio_744.wav\n",
      "/kaggle/input/shl-intern-hiring-assessment/dataset/audios_train/audio_1038.wav\n",
      "/kaggle/input/shl-intern-hiring-assessment/dataset/audios_train/audio_167.wav\n",
      "/kaggle/input/shl-intern-hiring-assessment/dataset/audios_train/audio_956.wav\n",
      "/kaggle/input/shl-intern-hiring-assessment/dataset/audios_train/audio_716.wav\n",
      "/kaggle/input/shl-intern-hiring-assessment/dataset/audios_train/audio_334.wav\n",
      "/kaggle/input/shl-intern-hiring-assessment/dataset/audios_train/audio_868.wav\n",
      "/kaggle/input/shl-intern-hiring-assessment/dataset/audios_train/audio_854.wav\n",
      "/kaggle/input/shl-intern-hiring-assessment/dataset/audios_train/audio_245.wav\n",
      "/kaggle/input/shl-intern-hiring-assessment/dataset/audios_train/audio_903.wav\n",
      "/kaggle/input/shl-intern-hiring-assessment/dataset/audios_train/audio_834.wav\n",
      "/kaggle/input/shl-intern-hiring-assessment/dataset/audios_train/audio_1110.wav\n",
      "/kaggle/input/shl-intern-hiring-assessment/dataset/audios_train/audio_432.wav\n",
      "/kaggle/input/shl-intern-hiring-assessment/dataset/audios_train/audio_236.wav\n",
      "/kaggle/input/shl-intern-hiring-assessment/dataset/audios_train/audio_1208.wav\n",
      "/kaggle/input/shl-intern-hiring-assessment/dataset/audios_train/audio_200.wav\n",
      "/kaggle/input/shl-intern-hiring-assessment/dataset/audios_train/audio_1078.wav\n",
      "/kaggle/input/shl-intern-hiring-assessment/dataset/audios_train/audio_1200.wav\n",
      "/kaggle/input/shl-intern-hiring-assessment/dataset/audios_train/audio_353.wav\n",
      "/kaggle/input/shl-intern-hiring-assessment/dataset/audios_train/audio_947.wav\n",
      "/kaggle/input/shl-intern-hiring-assessment/dataset/audios_train/audio_212.wav\n",
      "/kaggle/input/shl-intern-hiring-assessment/dataset/audios_train/audio_168.wav\n",
      "/kaggle/input/shl-intern-hiring-assessment/dataset/audios_train/audio_352.wav\n",
      "/kaggle/input/shl-intern-hiring-assessment/dataset/audios_train/audio_445.wav\n",
      "/kaggle/input/shl-intern-hiring-assessment/dataset/audios_train/audio_419.wav\n",
      "/kaggle/input/shl-intern-hiring-assessment/dataset/audios_train/audio_1332.wav\n",
      "/kaggle/input/shl-intern-hiring-assessment/dataset/audios_train/audio_701.wav\n",
      "/kaggle/input/shl-intern-hiring-assessment/dataset/audios_train/audio_117.wav\n",
      "/kaggle/input/shl-intern-hiring-assessment/dataset/audios_train/audio_1059.wav\n",
      "/kaggle/input/shl-intern-hiring-assessment/dataset/audios_train/audio_790.wav\n",
      "/kaggle/input/shl-intern-hiring-assessment/dataset/audios_train/audio_390.wav\n",
      "/kaggle/input/shl-intern-hiring-assessment/dataset/audios_train/audio_586.wav\n",
      "/kaggle/input/shl-intern-hiring-assessment/dataset/audios_train/audio_226.wav\n",
      "/kaggle/input/shl-intern-hiring-assessment/dataset/audios_train/audio_699.wav\n",
      "/kaggle/input/shl-intern-hiring-assessment/dataset/audios_train/audio_363.wav\n",
      "/kaggle/input/shl-intern-hiring-assessment/dataset/audios_train/audio_988.wav\n",
      "/kaggle/input/shl-intern-hiring-assessment/dataset/audios_train/audio_485.wav\n",
      "/kaggle/input/shl-intern-hiring-assessment/dataset/audios_train/audio_241.wav\n",
      "/kaggle/input/shl-intern-hiring-assessment/dataset/audios_train/audio_481.wav\n",
      "/kaggle/input/shl-intern-hiring-assessment/dataset/audios_train/audio_652.wav\n",
      "/kaggle/input/shl-intern-hiring-assessment/dataset/audios_train/audio_424.wav\n",
      "/kaggle/input/shl-intern-hiring-assessment/dataset/audios_train/audio_483.wav\n",
      "/kaggle/input/shl-intern-hiring-assessment/dataset/audios_train/audio_1017.wav\n",
      "/kaggle/input/shl-intern-hiring-assessment/dataset/audios_train/audio_890.wav\n",
      "/kaggle/input/shl-intern-hiring-assessment/dataset/audios_train/audio_1065.wav\n",
      "/kaggle/input/shl-intern-hiring-assessment/dataset/audios_train/audio_787.wav\n",
      "/kaggle/input/shl-intern-hiring-assessment/dataset/audios_train/audio_627.wav\n",
      "/kaggle/input/shl-intern-hiring-assessment/dataset/audios_train/audio_1290.wav\n",
      "/kaggle/input/shl-intern-hiring-assessment/dataset/audios_train/audio_758.wav\n",
      "/kaggle/input/shl-intern-hiring-assessment/dataset/audios_train/audio_1314.wav\n",
      "/kaggle/input/shl-intern-hiring-assessment/dataset/audios_train/audio_272.wav\n",
      "/kaggle/input/shl-intern-hiring-assessment/dataset/audios_train/audio_687.wav\n",
      "/kaggle/input/shl-intern-hiring-assessment/dataset/audios_train/audio_809.wav\n",
      "/kaggle/input/shl-intern-hiring-assessment/dataset/audios_train/audio_312.wav\n",
      "/kaggle/input/shl-intern-hiring-assessment/dataset/audios_train/audio_902.wav\n",
      "/kaggle/input/shl-intern-hiring-assessment/dataset/audios_train/audio_1296.wav\n",
      "/kaggle/input/shl-intern-hiring-assessment/dataset/audios_train/audio_147.wav\n",
      "/kaggle/input/shl-intern-hiring-assessment/dataset/audios_train/audio_783.wav\n",
      "/kaggle/input/shl-intern-hiring-assessment/dataset/audios_train/audio_144.wav\n",
      "/kaggle/input/shl-intern-hiring-assessment/dataset/audios_train/audio_373.wav\n",
      "/kaggle/input/shl-intern-hiring-assessment/dataset/audios_train/audio_887.wav\n",
      "/kaggle/input/shl-intern-hiring-assessment/dataset/audios_train/audio_443.wav\n",
      "/kaggle/input/shl-intern-hiring-assessment/dataset/audios_train/audio_350.wav\n",
      "/kaggle/input/shl-intern-hiring-assessment/dataset/audios_train/audio_503.wav\n",
      "/kaggle/input/shl-intern-hiring-assessment/dataset/audios_train/audio_62.wav\n",
      "/kaggle/input/shl-intern-hiring-assessment/dataset/audios_train/audio_402.wav\n",
      "/kaggle/input/shl-intern-hiring-assessment/dataset/audios_train/audio_1031.wav\n",
      "/kaggle/input/shl-intern-hiring-assessment/dataset/audios_train/audio_116.wav\n",
      "/kaggle/input/shl-intern-hiring-assessment/dataset/audios_train/audio_693.wav\n",
      "/kaggle/input/shl-intern-hiring-assessment/dataset/audios_train/audio_477.wav\n",
      "/kaggle/input/shl-intern-hiring-assessment/dataset/audios_train/audio_413.wav\n",
      "/kaggle/input/shl-intern-hiring-assessment/dataset/audios_train/audio_1025.wav\n",
      "/kaggle/input/shl-intern-hiring-assessment/dataset/audios_train/audio_123.wav\n",
      "/kaggle/input/shl-intern-hiring-assessment/dataset/audios_train/audio_133.wav\n",
      "/kaggle/input/shl-intern-hiring-assessment/dataset/audios_train/audio_647.wav\n",
      "/kaggle/input/shl-intern-hiring-assessment/dataset/audios_train/audio_1223.wav\n",
      "/kaggle/input/shl-intern-hiring-assessment/dataset/audios_train/audio_980.wav\n",
      "/kaggle/input/shl-intern-hiring-assessment/dataset/audios_train/audio_755.wav\n",
      "/kaggle/input/shl-intern-hiring-assessment/dataset/audios_train/audio_869.wav\n",
      "/kaggle/input/shl-intern-hiring-assessment/dataset/audios_train/audio_1148.wav\n",
      "/kaggle/input/shl-intern-hiring-assessment/dataset/audios_train/audio_685.wav\n",
      "/kaggle/input/shl-intern-hiring-assessment/dataset/audios_train/audio_678.wav\n",
      "/kaggle/input/shl-intern-hiring-assessment/dataset/audios_train/audio_53.wav\n",
      "/kaggle/input/shl-intern-hiring-assessment/dataset/audios_train/audio_1184.wav\n",
      "/kaggle/input/shl-intern-hiring-assessment/dataset/audios_train/audio_552.wav\n",
      "/kaggle/input/shl-intern-hiring-assessment/dataset/audios_train/audio_1216.wav\n",
      "/kaggle/input/shl-intern-hiring-assessment/dataset/audios_train/audio_1185.wav\n",
      "/kaggle/input/shl-intern-hiring-assessment/dataset/audios_train/audio_918.wav\n",
      "/kaggle/input/shl-intern-hiring-assessment/dataset/audios_train/audio_250.wav\n",
      "/kaggle/input/shl-intern-hiring-assessment/dataset/audios_train/audio_721.wav\n",
      "/kaggle/input/shl-intern-hiring-assessment/dataset/audios_train/audio_624.wav\n",
      "/kaggle/input/shl-intern-hiring-assessment/dataset/audios_train/audio_43.wav\n",
      "/kaggle/input/shl-intern-hiring-assessment/dataset/audios_train/audio_889.wav\n",
      "/kaggle/input/shl-intern-hiring-assessment/dataset/audios_train/audio_184.wav\n",
      "/kaggle/input/shl-intern-hiring-assessment/dataset/audios_train/audio_842.wav\n",
      "/kaggle/input/shl-intern-hiring-assessment/dataset/audios_train/audio_1125.wav\n",
      "/kaggle/input/shl-intern-hiring-assessment/dataset/audios_train/audio_9.wav\n",
      "/kaggle/input/shl-intern-hiring-assessment/dataset/audios_train/audio_455.wav\n",
      "/kaggle/input/shl-intern-hiring-assessment/dataset/audios_train/audio_1160.wav\n",
      "/kaggle/input/shl-intern-hiring-assessment/dataset/audios_train/audio_913.wav\n",
      "/kaggle/input/shl-intern-hiring-assessment/dataset/audios_train/audio_493.wav\n",
      "/kaggle/input/shl-intern-hiring-assessment/dataset/audios_train/audio_704.wav\n",
      "/kaggle/input/shl-intern-hiring-assessment/dataset/audios_train/audio_548.wav\n",
      "/kaggle/input/shl-intern-hiring-assessment/dataset/audios_train/audio_1230.wav\n",
      "/kaggle/input/shl-intern-hiring-assessment/dataset/audios_train/audio_961.wav\n",
      "/kaggle/input/shl-intern-hiring-assessment/dataset/audios_train/audio_832.wav\n",
      "/kaggle/input/shl-intern-hiring-assessment/dataset/audios_train/audio_33.wav\n",
      "/kaggle/input/shl-intern-hiring-assessment/dataset/audios_train/audio_896.wav\n",
      "/kaggle/input/shl-intern-hiring-assessment/dataset/audios_train/audio_827.wav\n",
      "/kaggle/input/shl-intern-hiring-assessment/dataset/audios_train/audio_748.wav\n",
      "/kaggle/input/shl-intern-hiring-assessment/dataset/audios_train/audio_658.wav\n",
      "/kaggle/input/shl-intern-hiring-assessment/dataset/audios_train/audio_471.wav\n",
      "/kaggle/input/shl-intern-hiring-assessment/dataset/audios_train/audio_1117.wav\n",
      "/kaggle/input/shl-intern-hiring-assessment/dataset/audios_train/audio_270.wav\n",
      "/kaggle/input/shl-intern-hiring-assessment/dataset/audios_train/audio_301.wav\n",
      "/kaggle/input/shl-intern-hiring-assessment/dataset/audios_train/audio_576.wav\n",
      "/kaggle/input/shl-intern-hiring-assessment/dataset/audios_train/audio_649.wav\n",
      "/kaggle/input/shl-intern-hiring-assessment/dataset/audios_train/audio_1261.wav\n",
      "/kaggle/input/shl-intern-hiring-assessment/dataset/audios_train/audio_640.wav\n",
      "/kaggle/input/shl-intern-hiring-assessment/dataset/audios_train/audio_636.wav\n",
      "/kaggle/input/shl-intern-hiring-assessment/dataset/audios_train/audio_1272.wav\n",
      "/kaggle/input/shl-intern-hiring-assessment/dataset/audios_train/audio_1135.wav\n",
      "/kaggle/input/shl-intern-hiring-assessment/dataset/audios_train/audio_74.wav\n",
      "/kaggle/input/shl-intern-hiring-assessment/dataset/audios_train/audio_983.wav\n",
      "/kaggle/input/shl-intern-hiring-assessment/dataset/audios_train/audio_993.wav\n",
      "/kaggle/input/shl-intern-hiring-assessment/dataset/audios_train/audio_480.wav\n",
      "/kaggle/input/shl-intern-hiring-assessment/dataset/audios_train/audio_1298.wav\n",
      "/kaggle/input/shl-intern-hiring-assessment/dataset/audios_train/audio_876.wav\n",
      "/kaggle/input/shl-intern-hiring-assessment/dataset/audios_train/audio_794.wav\n",
      "/kaggle/input/shl-intern-hiring-assessment/dataset/audios_train/audio_163.wav\n",
      "/kaggle/input/shl-intern-hiring-assessment/dataset/audios_train/audio_450.wav\n",
      "/kaggle/input/shl-intern-hiring-assessment/dataset/audios_train/audio_514.wav\n",
      "/kaggle/input/shl-intern-hiring-assessment/dataset/audios_train/audio_696.wav\n",
      "/kaggle/input/shl-intern-hiring-assessment/dataset/audios_train/audio_389.wav\n",
      "/kaggle/input/shl-intern-hiring-assessment/dataset/audios_train/audio_1008.wav\n",
      "/kaggle/input/shl-intern-hiring-assessment/dataset/audios_train/audio_1187.wav\n",
      "/kaggle/input/shl-intern-hiring-assessment/dataset/audios_train/audio_724.wav\n",
      "/kaggle/input/shl-intern-hiring-assessment/dataset/audios_train/audio_490.wav\n",
      "/kaggle/input/shl-intern-hiring-assessment/dataset/audios_train/audio_259.wav\n"
     ]
    }
   ],
   "source": [
    "# This Python 3 environment comes with many helpful analytics libraries installed\n",
    "# It is defined by the kaggle/python Docker image: https://github.com/kaggle/docker-python\n",
    "# For example, here's several helpful packages to load\n",
    "\n",
    "import numpy as np # linear algebra\n",
    "import pandas as pd # data processing, CSV file I/O (e.g. pd.read_csv)\n",
    "\n",
    "# Input data files are available in the read-only \"../input/\" directory\n",
    "# For example, running this (by clicking run or pressing Shift+Enter) will list all files under the input directory\n",
    "\n",
    "import os\n",
    "for dirname, _, filenames in os.walk('/kaggle/input'):\n",
    "    for filename in filenames:\n",
    "        print(os.path.join(dirname, filename))\n",
    "\n",
    "# You can write up to 20GB to the current directory (/kaggle/working/) that gets preserved as output when you create a version using \"Save & Run All\" \n",
    "# You can also write temporary files to /kaggle/temp/, but they won't be saved outside of the current session"
   ]
  },
  {
   "cell_type": "code",
   "execution_count": 2,
   "id": "ccdd818a",
   "metadata": {
    "execution": {
     "iopub.execute_input": "2025-04-05T11:22:13.409752Z",
     "iopub.status.busy": "2025-04-05T11:22:13.409361Z",
     "iopub.status.idle": "2025-04-05T11:22:42.241209Z",
     "shell.execute_reply": "2025-04-05T11:22:42.240018Z"
    },
    "papermill": {
     "duration": 28.836841,
     "end_time": "2025-04-05T11:22:42.242707",
     "exception": false,
     "start_time": "2025-04-05T11:22:13.405866",
     "status": "completed"
    },
    "tags": []
   },
   "outputs": [
    {
     "name": "stdout",
     "output_type": "stream",
     "text": [
      "Collecting git+https://github.com/openai/whisper.git\r\n",
      "  Cloning https://github.com/openai/whisper.git to /tmp/pip-req-build-rztl41t8\r\n",
      "  Running command git clone --filter=blob:none --quiet https://github.com/openai/whisper.git /tmp/pip-req-build-rztl41t8\r\n",
      "  Resolved https://github.com/openai/whisper.git to commit 517a43ecd132a2089d85f4ebc044728a71d49f6e\r\n",
      "  Installing build dependencies ... \u001b[?25l\u001b[?25hdone\r\n",
      "  Getting requirements to build wheel ... \u001b[?25l\u001b[?25hdone\r\n",
      "  Preparing metadata (pyproject.toml) ... \u001b[?25l\u001b[?25hdone\r\n",
      "Requirement already satisfied: more-itertools in /usr/local/lib/python3.10/dist-packages (from openai-whisper==20240930) (10.5.0)\r\n",
      "Requirement already satisfied: numba in /usr/local/lib/python3.10/dist-packages (from openai-whisper==20240930) (0.60.0)\r\n",
      "Requirement already satisfied: numpy in /usr/local/lib/python3.10/dist-packages (from openai-whisper==20240930) (1.26.4)\r\n",
      "Requirement already satisfied: tiktoken in /usr/local/lib/python3.10/dist-packages (from openai-whisper==20240930) (0.9.0)\r\n",
      "Requirement already satisfied: torch in /usr/local/lib/python3.10/dist-packages (from openai-whisper==20240930) (2.5.1+cu121)\r\n",
      "Requirement already satisfied: tqdm in /usr/local/lib/python3.10/dist-packages (from openai-whisper==20240930) (4.67.1)\r\n",
      "Collecting triton>=2 (from openai-whisper==20240930)\r\n",
      "  Downloading triton-3.2.0-cp310-cp310-manylinux_2_17_x86_64.manylinux2014_x86_64.whl.metadata (1.4 kB)\r\n",
      "Requirement already satisfied: llvmlite<0.44,>=0.43.0dev0 in /usr/local/lib/python3.10/dist-packages (from numba->openai-whisper==20240930) (0.43.0)\r\n",
      "Requirement already satisfied: mkl_fft in /usr/local/lib/python3.10/dist-packages (from numpy->openai-whisper==20240930) (1.3.8)\r\n",
      "Requirement already satisfied: mkl_random in /usr/local/lib/python3.10/dist-packages (from numpy->openai-whisper==20240930) (1.2.4)\r\n",
      "Requirement already satisfied: mkl_umath in /usr/local/lib/python3.10/dist-packages (from numpy->openai-whisper==20240930) (0.1.1)\r\n",
      "Requirement already satisfied: mkl in /usr/local/lib/python3.10/dist-packages (from numpy->openai-whisper==20240930) (2025.0.1)\r\n",
      "Requirement already satisfied: tbb4py in /usr/local/lib/python3.10/dist-packages (from numpy->openai-whisper==20240930) (2022.0.0)\r\n",
      "Requirement already satisfied: mkl-service in /usr/local/lib/python3.10/dist-packages (from numpy->openai-whisper==20240930) (2.4.1)\r\n",
      "Requirement already satisfied: regex>=2022.1.18 in /usr/local/lib/python3.10/dist-packages (from tiktoken->openai-whisper==20240930) (2024.11.6)\r\n",
      "Requirement already satisfied: requests>=2.26.0 in /usr/local/lib/python3.10/dist-packages (from tiktoken->openai-whisper==20240930) (2.32.3)\r\n",
      "Requirement already satisfied: filelock in /usr/local/lib/python3.10/dist-packages (from torch->openai-whisper==20240930) (3.17.0)\r\n",
      "Requirement already satisfied: typing-extensions>=4.8.0 in /usr/local/lib/python3.10/dist-packages (from torch->openai-whisper==20240930) (4.12.2)\r\n",
      "Requirement already satisfied: networkx in /usr/local/lib/python3.10/dist-packages (from torch->openai-whisper==20240930) (3.4.2)\r\n",
      "Requirement already satisfied: jinja2 in /usr/local/lib/python3.10/dist-packages (from torch->openai-whisper==20240930) (3.1.4)\r\n",
      "Requirement already satisfied: fsspec in /usr/local/lib/python3.10/dist-packages (from torch->openai-whisper==20240930) (2024.12.0)\r\n",
      "Requirement already satisfied: sympy==1.13.1 in /usr/local/lib/python3.10/dist-packages (from torch->openai-whisper==20240930) (1.13.1)\r\n",
      "Requirement already satisfied: mpmath<1.4,>=1.1.0 in /usr/local/lib/python3.10/dist-packages (from sympy==1.13.1->torch->openai-whisper==20240930) (1.3.0)\r\n",
      "Requirement already satisfied: charset-normalizer<4,>=2 in /usr/local/lib/python3.10/dist-packages (from requests>=2.26.0->tiktoken->openai-whisper==20240930) (3.4.1)\r\n",
      "Requirement already satisfied: idna<4,>=2.5 in /usr/local/lib/python3.10/dist-packages (from requests>=2.26.0->tiktoken->openai-whisper==20240930) (3.10)\r\n",
      "Requirement already satisfied: urllib3<3,>=1.21.1 in /usr/local/lib/python3.10/dist-packages (from requests>=2.26.0->tiktoken->openai-whisper==20240930) (2.3.0)\r\n",
      "Requirement already satisfied: certifi>=2017.4.17 in /usr/local/lib/python3.10/dist-packages (from requests>=2.26.0->tiktoken->openai-whisper==20240930) (2025.1.31)\r\n",
      "Requirement already satisfied: MarkupSafe>=2.0 in /usr/local/lib/python3.10/dist-packages (from jinja2->torch->openai-whisper==20240930) (3.0.2)\r\n",
      "Requirement already satisfied: intel-openmp>=2024 in /usr/local/lib/python3.10/dist-packages (from mkl->numpy->openai-whisper==20240930) (2024.2.0)\r\n",
      "Requirement already satisfied: tbb==2022.* in /usr/local/lib/python3.10/dist-packages (from mkl->numpy->openai-whisper==20240930) (2022.0.0)\r\n",
      "Requirement already satisfied: tcmlib==1.* in /usr/local/lib/python3.10/dist-packages (from tbb==2022.*->mkl->numpy->openai-whisper==20240930) (1.2.0)\r\n",
      "Requirement already satisfied: intel-cmplr-lib-rt in /usr/local/lib/python3.10/dist-packages (from mkl_umath->numpy->openai-whisper==20240930) (2024.2.0)\r\n",
      "Requirement already satisfied: intel-cmplr-lib-ur==2024.2.0 in /usr/local/lib/python3.10/dist-packages (from intel-openmp>=2024->mkl->numpy->openai-whisper==20240930) (2024.2.0)\r\n",
      "Downloading triton-3.2.0-cp310-cp310-manylinux_2_17_x86_64.manylinux2014_x86_64.whl (253.1 MB)\r\n",
      "\u001b[2K   \u001b[90m━━━━━━━━━━━━━━━━━━━━━━━━━━━━━━━━━━━━━━━━\u001b[0m \u001b[32m253.1/253.1 MB\u001b[0m \u001b[31m6.6 MB/s\u001b[0m eta \u001b[36m0:00:00\u001b[0m\r\n",
      "\u001b[?25hBuilding wheels for collected packages: openai-whisper\r\n",
      "  Building wheel for openai-whisper (pyproject.toml) ... \u001b[?25l\u001b[?25hdone\r\n",
      "  Created wheel for openai-whisper: filename=openai_whisper-20240930-py3-none-any.whl size=803707 sha256=09cbb307ba887eeccd5449c91d6a356219872bf0107bfd9d8236b97166b97011\r\n",
      "  Stored in directory: /tmp/pip-ephem-wheel-cache-o8c1cg3m/wheels/8b/6c/d0/622666868c179f156cf595c8b6f06f88bc5d80c4b31dccaa03\r\n",
      "Successfully built openai-whisper\r\n",
      "Installing collected packages: triton, openai-whisper\r\n",
      "Successfully installed openai-whisper-20240930 triton-3.2.0\r\n",
      "Hit:1 http://archive.ubuntu.com/ubuntu jammy InRelease\r\n",
      "Get:2 https://developer.download.nvidia.com/compute/cuda/repos/ubuntu2204/x86_64  InRelease [1,581 B]\r\n",
      "Get:3 https://cloud.r-project.org/bin/linux/ubuntu jammy-cran40/ InRelease [3,632 B]\r\n",
      "Get:4 http://archive.ubuntu.com/ubuntu jammy-updates InRelease [128 kB]\r\n",
      "Get:5 https://r2u.stat.illinois.edu/ubuntu jammy InRelease [6,555 B]\r\n",
      "Get:6 http://security.ubuntu.com/ubuntu jammy-security InRelease [129 kB]\r\n",
      "Get:7 http://archive.ubuntu.com/ubuntu jammy-backports InRelease [127 kB]\r\n",
      "Get:8 https://cloud.r-project.org/bin/linux/ubuntu jammy-cran40/ Packages [70.9 kB]\r\n",
      "Get:9 https://developer.download.nvidia.com/compute/cuda/repos/ubuntu2204/x86_64  Packages [1,381 kB]\r\n",
      "Get:10 https://ppa.launchpadcontent.net/deadsnakes/ppa/ubuntu jammy InRelease [18.1 kB]\r\n",
      "Get:11 https://r2u.stat.illinois.edu/ubuntu jammy/main amd64 Packages [2,686 kB]\r\n",
      "Get:12 http://archive.ubuntu.com/ubuntu jammy-updates/restricted amd64 Packages [4,148 kB]\r\n",
      "Get:13 https://ppa.launchpadcontent.net/graphics-drivers/ppa/ubuntu jammy InRelease [24.3 kB]\r\n",
      "Get:14 https://r2u.stat.illinois.edu/ubuntu jammy/main all Packages [8,812 kB]\r\n",
      "Hit:15 https://ppa.launchpadcontent.net/ubuntugis/ppa/ubuntu jammy InRelease\r\n",
      "Get:16 http://archive.ubuntu.com/ubuntu jammy-updates/universe amd64 Packages [1,540 kB]\r\n",
      "Get:17 http://archive.ubuntu.com/ubuntu jammy-updates/multiverse amd64 Packages [55.7 kB]\r\n",
      "Get:18 http://archive.ubuntu.com/ubuntu jammy-updates/main amd64 Packages [3,092 kB]\r\n",
      "Get:19 http://archive.ubuntu.com/ubuntu jammy-backports/main amd64 Packages [82.7 kB]\r\n",
      "Get:20 http://archive.ubuntu.com/ubuntu jammy-backports/universe amd64 Packages [35.2 kB]\r\n",
      "Get:21 http://security.ubuntu.com/ubuntu jammy-security/restricted amd64 Packages [3,978 kB]\r\n",
      "Get:22 https://ppa.launchpadcontent.net/deadsnakes/ppa/ubuntu jammy/main amd64 Packages [33.6 kB]\r\n",
      "Get:23 https://ppa.launchpadcontent.net/graphics-drivers/ppa/ubuntu jammy/main amd64 Packages [46.8 kB]\r\n",
      "Get:24 http://security.ubuntu.com/ubuntu jammy-security/multiverse amd64 Packages [47.7 kB]\r\n",
      "Get:25 http://security.ubuntu.com/ubuntu jammy-security/universe amd64 Packages [1,241 kB]\r\n",
      "Get:26 http://security.ubuntu.com/ubuntu jammy-security/main amd64 Packages [2,775 kB]\r\n",
      "Fetched 30.5 MB in 2s (12.7 MB/s)\r\n",
      "\r\n",
      "\r\n",
      "\r\n",
      "189 packages can be upgraded. Run 'apt list --upgradable' to see them.\r\n",
      "\u001b[1;33mW: \u001b[0mSkipping acquire of configured file 'main/source/Sources' as repository 'https://r2u.stat.illinois.edu/ubuntu jammy InRelease' does not seem to provide it (sources.list entry misspelt?)\u001b[0m\r\n",
      "\r\n",
      "\r\n",
      "\r\n",
      "ffmpeg is already the newest version (7:4.4.2-0ubuntu0.22.04.1).\r\n",
      "0 upgraded, 0 newly installed, 0 to remove and 189 not upgraded.\r\n"
     ]
    }
   ],
   "source": [
    "!pip install git+https://github.com/openai/whisper.git\n",
    "!sudo apt update && sudo apt install -y ffmpeg\n"
   ]
  },
  {
   "cell_type": "code",
   "execution_count": 3,
   "id": "307d7c25",
   "metadata": {
    "execution": {
     "iopub.execute_input": "2025-04-05T11:22:42.263624Z",
     "iopub.status.busy": "2025-04-05T11:22:42.263383Z",
     "iopub.status.idle": "2025-04-05T11:22:49.454058Z",
     "shell.execute_reply": "2025-04-05T11:22:49.452894Z"
    },
    "papermill": {
     "duration": 7.203138,
     "end_time": "2025-04-05T11:22:49.456332",
     "exception": false,
     "start_time": "2025-04-05T11:22:42.253194",
     "status": "completed"
    },
    "tags": []
   },
   "outputs": [],
   "source": [
    "import whisper\n",
    "import os\n",
    "import pandas as pd\n",
    "from tqdm import tqdm\n"
   ]
  },
  {
   "cell_type": "code",
   "execution_count": 4,
   "id": "3d3e2d8d",
   "metadata": {
    "execution": {
     "iopub.execute_input": "2025-04-05T11:22:49.488007Z",
     "iopub.status.busy": "2025-04-05T11:22:49.487382Z",
     "iopub.status.idle": "2025-04-05T11:23:16.430839Z",
     "shell.execute_reply": "2025-04-05T11:23:16.429984Z"
    },
    "papermill": {
     "duration": 26.96026,
     "end_time": "2025-04-05T11:23:16.432308",
     "exception": false,
     "start_time": "2025-04-05T11:22:49.472048",
     "status": "completed"
    },
    "tags": []
   },
   "outputs": [
    {
     "name": "stderr",
     "output_type": "stream",
     "text": [
      "100%|██████████████████████████████████████| 1.42G/1.42G [00:10<00:00, 142MiB/s]\n",
      "/usr/local/lib/python3.10/dist-packages/whisper/__init__.py:150: FutureWarning: You are using `torch.load` with `weights_only=False` (the current default value), which uses the default pickle module implicitly. It is possible to construct malicious pickle data which will execute arbitrary code during unpickling (See https://github.com/pytorch/pytorch/blob/main/SECURITY.md#untrusted-models for more details). In a future release, the default value for `weights_only` will be flipped to `True`. This limits the functions that could be executed during unpickling. Arbitrary objects will no longer be allowed to be loaded via this mode unless they are explicitly allowlisted by the user via `torch.serialization.add_safe_globals`. We recommend you start setting `weights_only=True` for any use case where you don't have full control of the loaded file. Please open an issue on GitHub for any issues related to this experimental feature.\n",
      "  checkpoint = torch.load(fp, map_location=device)\n"
     ]
    }
   ],
   "source": [
    "model = whisper.load_model(\"medium\")  # You can also use \"medium.en\" for English-only boost\n"
   ]
  },
  {
   "cell_type": "code",
   "execution_count": 5,
   "id": "c10f2781",
   "metadata": {
    "execution": {
     "iopub.execute_input": "2025-04-05T11:23:16.461901Z",
     "iopub.status.busy": "2025-04-05T11:23:16.461655Z",
     "iopub.status.idle": "2025-04-05T11:23:16.464875Z",
     "shell.execute_reply": "2025-04-05T11:23:16.464191Z"
    },
    "papermill": {
     "duration": 0.019106,
     "end_time": "2025-04-05T11:23:16.466117",
     "exception": false,
     "start_time": "2025-04-05T11:23:16.447011",
     "status": "completed"
    },
    "tags": []
   },
   "outputs": [],
   "source": [
    "audio_folder = \"/kaggle/input/shl-intern-hiring-assessment/dataset/audios_train\"  # Change this to match your folder name\n",
    "output_csv = \"/kaggle/working/audio_transcriptions.csv\" "
   ]
  },
  {
   "cell_type": "code",
   "execution_count": 6,
   "id": "f5305c28",
   "metadata": {
    "execution": {
     "iopub.execute_input": "2025-04-05T11:23:16.495930Z",
     "iopub.status.busy": "2025-04-05T11:23:16.495723Z",
     "iopub.status.idle": "2025-04-05T11:23:16.512762Z",
     "shell.execute_reply": "2025-04-05T11:23:16.512003Z"
    },
    "papermill": {
     "duration": 0.034192,
     "end_time": "2025-04-05T11:23:16.514072",
     "exception": false,
     "start_time": "2025-04-05T11:23:16.479880",
     "status": "completed"
    },
    "tags": []
   },
   "outputs": [],
   "source": [
    "# ✅ Step 4: Load existing CSV or create new\n",
    "if os.path.exists(output_csv):\n",
    "    df_existing = pd.read_csv(output_csv)\n",
    "    done_files = set(df_existing['filename'].tolist())\n",
    "else:\n",
    "    df_existing = pd.DataFrame(columns=[\"filename\", \"transcription\"])\n",
    "    df_existing.to_csv(output_csv, index=False)\n",
    "    done_files = set()\n"
   ]
  },
  {
   "cell_type": "code",
   "execution_count": 7,
   "id": "5a15c150",
   "metadata": {
    "execution": {
     "iopub.execute_input": "2025-04-05T11:23:16.541859Z",
     "iopub.status.busy": "2025-04-05T11:23:16.541627Z",
     "iopub.status.idle": "2025-04-05T12:52:14.829075Z",
     "shell.execute_reply": "2025-04-05T12:52:14.828060Z"
    },
    "papermill": {
     "duration": 5338.303033,
     "end_time": "2025-04-05T12:52:14.830803",
     "exception": false,
     "start_time": "2025-04-05T11:23:16.527770",
     "status": "completed"
    },
    "tags": []
   },
   "outputs": [
    {
     "name": "stderr",
     "output_type": "stream",
     "text": [
      "  0%|          | 0/444 [00:00<?, ?it/s]"
     ]
    },
    {
     "name": "stdout",
     "output_type": "stream",
     "text": [
      "🎧 Transcribing audio_90.wav...\n"
     ]
    },
    {
     "name": "stderr",
     "output_type": "stream",
     "text": [
      "  0%|          | 1/444 [00:06<49:19,  6.68s/it]"
     ]
    },
    {
     "name": "stdout",
     "output_type": "stream",
     "text": [
      "🎧 Transcribing audio_581.wav...\n"
     ]
    },
    {
     "name": "stderr",
     "output_type": "stream",
     "text": [
      "  0%|          | 2/444 [00:12<45:28,  6.17s/it]"
     ]
    },
    {
     "name": "stdout",
     "output_type": "stream",
     "text": [
      "🎧 Transcribing audio_77.wav...\n"
     ]
    },
    {
     "name": "stderr",
     "output_type": "stream",
     "text": [
      "  1%|          | 3/444 [00:16<39:23,  5.36s/it]"
     ]
    },
    {
     "name": "stdout",
     "output_type": "stream",
     "text": [
      "🎧 Transcribing audio_817.wav...\n"
     ]
    },
    {
     "name": "stderr",
     "output_type": "stream",
     "text": [
      "  1%|          | 4/444 [00:19<30:23,  4.14s/it]"
     ]
    },
    {
     "name": "stdout",
     "output_type": "stream",
     "text": [
      "🎧 Transcribing audio_694.wav...\n"
     ]
    },
    {
     "name": "stderr",
     "output_type": "stream",
     "text": [
      "  1%|          | 5/444 [00:24<33:59,  4.65s/it]"
     ]
    },
    {
     "name": "stdout",
     "output_type": "stream",
     "text": [
      "🎧 Transcribing audio_1262.wav...\n"
     ]
    },
    {
     "name": "stderr",
     "output_type": "stream",
     "text": [
      "  1%|▏         | 6/444 [00:29<34:48,  4.77s/it]"
     ]
    },
    {
     "name": "stdout",
     "output_type": "stream",
     "text": [
      "🎧 Transcribing audio_237.wav...\n"
     ]
    },
    {
     "name": "stderr",
     "output_type": "stream",
     "text": [
      "  2%|▏         | 7/444 [00:36<39:50,  5.47s/it]"
     ]
    },
    {
     "name": "stdout",
     "output_type": "stream",
     "text": [
      "🎧 Transcribing audio_765.wav...\n"
     ]
    },
    {
     "name": "stderr",
     "output_type": "stream",
     "text": [
      "  2%|▏         | 8/444 [01:13<1:53:08, 15.57s/it]"
     ]
    },
    {
     "name": "stdout",
     "output_type": "stream",
     "text": [
      "🎧 Transcribing audio_1164.wav...\n"
     ]
    },
    {
     "name": "stderr",
     "output_type": "stream",
     "text": [
      "  2%|▏         | 9/444 [01:38<2:13:49, 18.46s/it]"
     ]
    },
    {
     "name": "stdout",
     "output_type": "stream",
     "text": [
      "🎧 Transcribing audio_1251.wav...\n"
     ]
    },
    {
     "name": "stderr",
     "output_type": "stream",
     "text": [
      "  2%|▏         | 10/444 [01:42<1:40:47, 13.93s/it]"
     ]
    },
    {
     "name": "stdout",
     "output_type": "stream",
     "text": [
      "🎧 Transcribing audio_1032.wav...\n"
     ]
    },
    {
     "name": "stderr",
     "output_type": "stream",
     "text": [
      "  2%|▏         | 11/444 [01:48<1:22:49, 11.48s/it]"
     ]
    },
    {
     "name": "stdout",
     "output_type": "stream",
     "text": [
      "🎧 Transcribing audio_688.wav...\n"
     ]
    },
    {
     "name": "stderr",
     "output_type": "stream",
     "text": [
      "  3%|▎         | 12/444 [01:55<1:14:08, 10.30s/it]"
     ]
    },
    {
     "name": "stdout",
     "output_type": "stream",
     "text": [
      "🎧 Transcribing audio_886.wav...\n"
     ]
    },
    {
     "name": "stderr",
     "output_type": "stream",
     "text": [
      "  3%|▎         | 13/444 [02:01<1:03:44,  8.87s/it]"
     ]
    },
    {
     "name": "stdout",
     "output_type": "stream",
     "text": [
      "🎧 Transcribing audio_1129.wav...\n"
     ]
    },
    {
     "name": "stderr",
     "output_type": "stream",
     "text": [
      "  3%|▎         | 14/444 [02:05<52:55,  7.38s/it]  "
     ]
    },
    {
     "name": "stdout",
     "output_type": "stream",
     "text": [
      "🎧 Transcribing audio_464.wav...\n"
     ]
    },
    {
     "name": "stderr",
     "output_type": "stream",
     "text": [
      "  3%|▎         | 15/444 [02:53<2:21:13, 19.75s/it]"
     ]
    },
    {
     "name": "stdout",
     "output_type": "stream",
     "text": [
      "🎧 Transcribing audio_1040.wav...\n"
     ]
    },
    {
     "name": "stderr",
     "output_type": "stream",
     "text": [
      "  4%|▎         | 16/444 [02:59<1:49:55, 15.41s/it]"
     ]
    },
    {
     "name": "stdout",
     "output_type": "stream",
     "text": [
      "🎧 Transcribing audio_711.wav...\n"
     ]
    },
    {
     "name": "stderr",
     "output_type": "stream",
     "text": [
      "  4%|▍         | 17/444 [03:04<1:27:09, 12.25s/it]"
     ]
    },
    {
     "name": "stdout",
     "output_type": "stream",
     "text": [
      "🎧 Transcribing audio_853.wav...\n"
     ]
    },
    {
     "name": "stderr",
     "output_type": "stream",
     "text": [
      "  4%|▍         | 18/444 [04:22<3:47:44, 32.08s/it]"
     ]
    },
    {
     "name": "stdout",
     "output_type": "stream",
     "text": [
      "🎧 Transcribing audio_436.wav...\n"
     ]
    },
    {
     "name": "stderr",
     "output_type": "stream",
     "text": [
      "  4%|▍         | 19/444 [04:28<2:51:14, 24.18s/it]"
     ]
    },
    {
     "name": "stdout",
     "output_type": "stream",
     "text": [
      "🎧 Transcribing audio_538.wav...\n"
     ]
    },
    {
     "name": "stderr",
     "output_type": "stream",
     "text": [
      "  5%|▍         | 20/444 [04:33<2:10:00, 18.40s/it]"
     ]
    },
    {
     "name": "stdout",
     "output_type": "stream",
     "text": [
      "🎧 Transcribing audio_859.wav...\n"
     ]
    },
    {
     "name": "stderr",
     "output_type": "stream",
     "text": [
      "  5%|▍         | 21/444 [04:38<1:42:10, 14.49s/it]"
     ]
    },
    {
     "name": "stdout",
     "output_type": "stream",
     "text": [
      "🎧 Transcribing audio_547.wav...\n"
     ]
    },
    {
     "name": "stderr",
     "output_type": "stream",
     "text": [
      "  5%|▍         | 22/444 [04:45<1:26:13, 12.26s/it]"
     ]
    },
    {
     "name": "stdout",
     "output_type": "stream",
     "text": [
      "🎧 Transcribing audio_1266.wav...\n"
     ]
    },
    {
     "name": "stderr",
     "output_type": "stream",
     "text": [
      "  5%|▌         | 23/444 [04:51<1:13:04, 10.42s/it]"
     ]
    },
    {
     "name": "stdout",
     "output_type": "stream",
     "text": [
      "🎧 Transcribing audio_919.wav...\n"
     ]
    },
    {
     "name": "stderr",
     "output_type": "stream",
     "text": [
      "  5%|▌         | 24/444 [04:57<1:02:35,  8.94s/it]"
     ]
    },
    {
     "name": "stdout",
     "output_type": "stream",
     "text": [
      "🎧 Transcribing audio_1036.wav...\n"
     ]
    },
    {
     "name": "stderr",
     "output_type": "stream",
     "text": [
      "  6%|▌         | 25/444 [05:03<56:47,  8.13s/it]  "
     ]
    },
    {
     "name": "stdout",
     "output_type": "stream",
     "text": [
      "🎧 Transcribing audio_796.wav...\n"
     ]
    },
    {
     "name": "stderr",
     "output_type": "stream",
     "text": [
      "  6%|▌         | 26/444 [05:08<51:16,  7.36s/it]"
     ]
    },
    {
     "name": "stdout",
     "output_type": "stream",
     "text": [
      "🎧 Transcribing audio_994.wav...\n"
     ]
    },
    {
     "name": "stderr",
     "output_type": "stream",
     "text": [
      "  6%|▌         | 27/444 [05:14<46:38,  6.71s/it]"
     ]
    },
    {
     "name": "stdout",
     "output_type": "stream",
     "text": [
      "🎧 Transcribing audio_760.wav...\n"
     ]
    },
    {
     "name": "stderr",
     "output_type": "stream",
     "text": [
      "  6%|▋         | 28/444 [05:18<41:03,  5.92s/it]"
     ]
    },
    {
     "name": "stdout",
     "output_type": "stream",
     "text": [
      "🎧 Transcribing audio_315.wav...\n"
     ]
    },
    {
     "name": "stderr",
     "output_type": "stream",
     "text": [
      "  7%|▋         | 29/444 [05:25<43:58,  6.36s/it]"
     ]
    },
    {
     "name": "stdout",
     "output_type": "stream",
     "text": [
      "🎧 Transcribing audio_1028.wav...\n"
     ]
    },
    {
     "name": "stderr",
     "output_type": "stream",
     "text": [
      "  7%|▋         | 30/444 [05:29<39:33,  5.73s/it]"
     ]
    },
    {
     "name": "stdout",
     "output_type": "stream",
     "text": [
      "🎧 Transcribing audio_55.wav...\n"
     ]
    },
    {
     "name": "stderr",
     "output_type": "stream",
     "text": [
      "  7%|▋         | 31/444 [05:53<1:17:26, 11.25s/it]"
     ]
    },
    {
     "name": "stdout",
     "output_type": "stream",
     "text": [
      "🎧 Transcribing audio_1284.wav...\n"
     ]
    },
    {
     "name": "stderr",
     "output_type": "stream",
     "text": [
      "  7%|▋         | 32/444 [05:59<1:04:35,  9.41s/it]"
     ]
    },
    {
     "name": "stdout",
     "output_type": "stream",
     "text": [
      "🎧 Transcribing audio_950.wav...\n"
     ]
    },
    {
     "name": "stderr",
     "output_type": "stream",
     "text": [
      "  7%|▋         | 33/444 [06:02<52:43,  7.70s/it]  "
     ]
    },
    {
     "name": "stdout",
     "output_type": "stream",
     "text": [
      "🎧 Transcribing audio_256.wav...\n"
     ]
    },
    {
     "name": "stderr",
     "output_type": "stream",
     "text": [
      "  8%|▊         | 34/444 [06:23<1:18:46, 11.53s/it]"
     ]
    },
    {
     "name": "stdout",
     "output_type": "stream",
     "text": [
      "🎧 Transcribing audio_359.wav...\n"
     ]
    },
    {
     "name": "stderr",
     "output_type": "stream",
     "text": [
      "  8%|▊         | 35/444 [06:34<1:17:47, 11.41s/it]"
     ]
    },
    {
     "name": "stdout",
     "output_type": "stream",
     "text": [
      "🎧 Transcribing audio_462.wav...\n"
     ]
    },
    {
     "name": "stderr",
     "output_type": "stream",
     "text": [
      "  8%|▊         | 36/444 [06:41<1:08:29, 10.07s/it]"
     ]
    },
    {
     "name": "stdout",
     "output_type": "stream",
     "text": [
      "🎧 Transcribing audio_44.wav...\n"
     ]
    },
    {
     "name": "stderr",
     "output_type": "stream",
     "text": [
      "  8%|▊         | 37/444 [07:20<2:08:09, 18.89s/it]"
     ]
    },
    {
     "name": "stdout",
     "output_type": "stream",
     "text": [
      "🎧 Transcribing audio_753.wav...\n"
     ]
    },
    {
     "name": "stderr",
     "output_type": "stream",
     "text": [
      "  9%|▊         | 38/444 [07:26<1:40:48, 14.90s/it]"
     ]
    },
    {
     "name": "stdout",
     "output_type": "stream",
     "text": [
      "🎧 Transcribing audio_813.wav...\n"
     ]
    },
    {
     "name": "stderr",
     "output_type": "stream",
     "text": [
      "  9%|▉         | 39/444 [07:30<1:18:06, 11.57s/it]"
     ]
    },
    {
     "name": "stdout",
     "output_type": "stream",
     "text": [
      "🎧 Transcribing audio_7.wav...\n"
     ]
    },
    {
     "name": "stderr",
     "output_type": "stream",
     "text": [
      "  9%|▉         | 40/444 [07:36<1:06:40,  9.90s/it]"
     ]
    },
    {
     "name": "stdout",
     "output_type": "stream",
     "text": [
      "🎧 Transcribing audio_1100.wav...\n"
     ]
    },
    {
     "name": "stderr",
     "output_type": "stream",
     "text": [
      "  9%|▉         | 41/444 [07:42<58:42,  8.74s/it]  "
     ]
    },
    {
     "name": "stdout",
     "output_type": "stream",
     "text": [
      "🎧 Transcribing audio_1131.wav...\n"
     ]
    },
    {
     "name": "stderr",
     "output_type": "stream",
     "text": [
      "  9%|▉         | 42/444 [07:48<52:47,  7.88s/it]"
     ]
    },
    {
     "name": "stdout",
     "output_type": "stream",
     "text": [
      "🎧 Transcribing audio_119.wav...\n"
     ]
    },
    {
     "name": "stderr",
     "output_type": "stream",
     "text": [
      " 10%|▉         | 43/444 [07:53<48:35,  7.27s/it]"
     ]
    },
    {
     "name": "stdout",
     "output_type": "stream",
     "text": [
      "🎧 Transcribing audio_59.wav...\n"
     ]
    },
    {
     "name": "stderr",
     "output_type": "stream",
     "text": [
      " 10%|▉         | 44/444 [08:01<48:43,  7.31s/it]"
     ]
    },
    {
     "name": "stdout",
     "output_type": "stream",
     "text": [
      "🎧 Transcribing audio_802.wav...\n"
     ]
    },
    {
     "name": "stderr",
     "output_type": "stream",
     "text": [
      " 10%|█         | 45/444 [08:07<45:50,  6.89s/it]"
     ]
    },
    {
     "name": "stdout",
     "output_type": "stream",
     "text": [
      "🎧 Transcribing audio_518.wav...\n"
     ]
    },
    {
     "name": "stderr",
     "output_type": "stream",
     "text": [
      " 10%|█         | 46/444 [08:46<1:50:59, 16.73s/it]"
     ]
    },
    {
     "name": "stdout",
     "output_type": "stream",
     "text": [
      "🎧 Transcribing audio_12.wav...\n"
     ]
    },
    {
     "name": "stderr",
     "output_type": "stream",
     "text": [
      " 11%|█         | 47/444 [08:50<1:25:28, 12.92s/it]"
     ]
    },
    {
     "name": "stdout",
     "output_type": "stream",
     "text": [
      "🎧 Transcribing audio_591.wav...\n"
     ]
    },
    {
     "name": "stderr",
     "output_type": "stream",
     "text": [
      " 11%|█         | 48/444 [08:57<1:11:35, 10.85s/it]"
     ]
    },
    {
     "name": "stdout",
     "output_type": "stream",
     "text": [
      "🎧 Transcribing audio_536.wav...\n"
     ]
    },
    {
     "name": "stderr",
     "output_type": "stream",
     "text": [
      " 11%|█         | 49/444 [09:02<1:00:36,  9.21s/it]"
     ]
    },
    {
     "name": "stdout",
     "output_type": "stream",
     "text": [
      "🎧 Transcribing audio_1082.wav...\n"
     ]
    },
    {
     "name": "stderr",
     "output_type": "stream",
     "text": [
      " 11%|█▏        | 50/444 [09:08<54:22,  8.28s/it]  "
     ]
    },
    {
     "name": "stdout",
     "output_type": "stream",
     "text": [
      "🎧 Transcribing audio_404.wav...\n"
     ]
    },
    {
     "name": "stderr",
     "output_type": "stream",
     "text": [
      " 11%|█▏        | 51/444 [09:14<49:10,  7.51s/it]"
     ]
    },
    {
     "name": "stdout",
     "output_type": "stream",
     "text": [
      "🎧 Transcribing audio_254.wav...\n"
     ]
    },
    {
     "name": "stderr",
     "output_type": "stream",
     "text": [
      " 12%|█▏        | 52/444 [09:22<49:43,  7.61s/it]"
     ]
    },
    {
     "name": "stdout",
     "output_type": "stream",
     "text": [
      "🎧 Transcribing audio_990.wav...\n"
     ]
    },
    {
     "name": "stderr",
     "output_type": "stream",
     "text": [
      " 12%|█▏        | 53/444 [09:28<46:35,  7.15s/it]"
     ]
    },
    {
     "name": "stdout",
     "output_type": "stream",
     "text": [
      "🎧 Transcribing audio_513.wav...\n"
     ]
    },
    {
     "name": "stderr",
     "output_type": "stream",
     "text": [
      " 12%|█▏        | 54/444 [10:15<2:04:17, 19.12s/it]"
     ]
    },
    {
     "name": "stdout",
     "output_type": "stream",
     "text": [
      "🎧 Transcribing audio_653.wav...\n"
     ]
    },
    {
     "name": "stderr",
     "output_type": "stream",
     "text": [
      " 12%|█▏        | 55/444 [10:18<1:34:07, 14.52s/it]"
     ]
    },
    {
     "name": "stdout",
     "output_type": "stream",
     "text": [
      "🎧 Transcribing audio_1177.wav...\n"
     ]
    },
    {
     "name": "stderr",
     "output_type": "stream",
     "text": [
      " 13%|█▎        | 56/444 [10:23<1:14:51, 11.58s/it]"
     ]
    },
    {
     "name": "stdout",
     "output_type": "stream",
     "text": [
      "🎧 Transcribing audio_188.wav...\n"
     ]
    },
    {
     "name": "stderr",
     "output_type": "stream",
     "text": [
      " 13%|█▎        | 57/444 [10:26<58:40,  9.10s/it]  "
     ]
    },
    {
     "name": "stdout",
     "output_type": "stream",
     "text": [
      "🎧 Transcribing audio_539.wav...\n"
     ]
    },
    {
     "name": "stderr",
     "output_type": "stream",
     "text": [
      " 13%|█▎        | 58/444 [10:31<49:59,  7.77s/it]"
     ]
    },
    {
     "name": "stdout",
     "output_type": "stream",
     "text": [
      "🎧 Transcribing audio_289.wav...\n"
     ]
    },
    {
     "name": "stderr",
     "output_type": "stream",
     "text": [
      " 13%|█▎        | 59/444 [12:18<4:00:06, 37.42s/it]"
     ]
    },
    {
     "name": "stdout",
     "output_type": "stream",
     "text": [
      "🎧 Transcribing audio_778.wav...\n"
     ]
    },
    {
     "name": "stderr",
     "output_type": "stream",
     "text": [
      " 14%|█▎        | 60/444 [12:23<2:56:55, 27.64s/it]"
     ]
    },
    {
     "name": "stdout",
     "output_type": "stream",
     "text": [
      "🎧 Transcribing audio_1210.wav...\n"
     ]
    },
    {
     "name": "stderr",
     "output_type": "stream",
     "text": [
      " 14%|█▎        | 61/444 [12:27<2:11:38, 20.62s/it]"
     ]
    },
    {
     "name": "stdout",
     "output_type": "stream",
     "text": [
      "🎧 Transcribing audio_946.wav...\n"
     ]
    },
    {
     "name": "stderr",
     "output_type": "stream",
     "text": [
      " 14%|█▍        | 62/444 [12:30<1:37:53, 15.37s/it]"
     ]
    },
    {
     "name": "stdout",
     "output_type": "stream",
     "text": [
      "🎧 Transcribing audio_67.wav...\n"
     ]
    },
    {
     "name": "stderr",
     "output_type": "stream",
     "text": [
      " 14%|█▍        | 63/444 [12:33<1:14:01, 11.66s/it]"
     ]
    },
    {
     "name": "stdout",
     "output_type": "stream",
     "text": [
      "🎧 Transcribing audio_186.wav...\n"
     ]
    },
    {
     "name": "stderr",
     "output_type": "stream",
     "text": [
      " 14%|█▍        | 64/444 [12:37<59:52,  9.45s/it]  "
     ]
    },
    {
     "name": "stdout",
     "output_type": "stream",
     "text": [
      "🎧 Transcribing audio_600.wav...\n"
     ]
    },
    {
     "name": "stderr",
     "output_type": "stream",
     "text": [
      " 15%|█▍        | 65/444 [12:42<50:40,  8.02s/it]"
     ]
    },
    {
     "name": "stdout",
     "output_type": "stream",
     "text": [
      "🎧 Transcribing audio_1277.wav...\n"
     ]
    },
    {
     "name": "stderr",
     "output_type": "stream",
     "text": [
      " 15%|█▍        | 66/444 [12:47<44:37,  7.08s/it]"
     ]
    },
    {
     "name": "stdout",
     "output_type": "stream",
     "text": [
      "🎧 Transcribing audio_291.wav...\n"
     ]
    },
    {
     "name": "stderr",
     "output_type": "stream",
     "text": [
      " 15%|█▌        | 67/444 [12:53<42:28,  6.76s/it]"
     ]
    },
    {
     "name": "stdout",
     "output_type": "stream",
     "text": [
      "🎧 Transcribing audio_602.wav...\n"
     ]
    },
    {
     "name": "stderr",
     "output_type": "stream",
     "text": [
      " 15%|█▌        | 68/444 [12:59<41:10,  6.57s/it]"
     ]
    },
    {
     "name": "stdout",
     "output_type": "stream",
     "text": [
      "🎧 Transcribing audio_1150.wav...\n"
     ]
    },
    {
     "name": "stderr",
     "output_type": "stream",
     "text": [
      " 16%|█▌        | 69/444 [13:01<32:08,  5.14s/it]"
     ]
    },
    {
     "name": "stdout",
     "output_type": "stream",
     "text": [
      "🎧 Transcribing audio_1118.wav...\n"
     ]
    },
    {
     "name": "stderr",
     "output_type": "stream",
     "text": [
      " 16%|█▌        | 70/444 [13:06<31:55,  5.12s/it]"
     ]
    },
    {
     "name": "stdout",
     "output_type": "stream",
     "text": [
      "🎧 Transcribing audio_1106.wav...\n"
     ]
    },
    {
     "name": "stderr",
     "output_type": "stream",
     "text": [
      " 16%|█▌        | 71/444 [13:11<32:08,  5.17s/it]"
     ]
    },
    {
     "name": "stdout",
     "output_type": "stream",
     "text": [
      "🎧 Transcribing audio_1312.wav...\n"
     ]
    },
    {
     "name": "stderr",
     "output_type": "stream",
     "text": [
      " 16%|█▌        | 72/444 [13:13<26:26,  4.27s/it]"
     ]
    },
    {
     "name": "stdout",
     "output_type": "stream",
     "text": [
      "🎧 Transcribing audio_495.wav...\n"
     ]
    },
    {
     "name": "stderr",
     "output_type": "stream",
     "text": [
      " 16%|█▋        | 73/444 [13:19<28:32,  4.61s/it]"
     ]
    },
    {
     "name": "stdout",
     "output_type": "stream",
     "text": [
      "🎧 Transcribing audio_265.wav...\n"
     ]
    },
    {
     "name": "stderr",
     "output_type": "stream",
     "text": [
      " 17%|█▋        | 74/444 [13:44<1:07:34, 10.96s/it]"
     ]
    },
    {
     "name": "stdout",
     "output_type": "stream",
     "text": [
      "🎧 Transcribing audio_558.wav...\n"
     ]
    },
    {
     "name": "stderr",
     "output_type": "stream",
     "text": [
      " 17%|█▋        | 75/444 [14:23<1:58:57, 19.34s/it]"
     ]
    },
    {
     "name": "stdout",
     "output_type": "stream",
     "text": [
      "🎧 Transcribing audio_82.wav...\n"
     ]
    },
    {
     "name": "stderr",
     "output_type": "stream",
     "text": [
      " 17%|█▋        | 76/444 [14:27<1:29:49, 14.65s/it]"
     ]
    },
    {
     "name": "stdout",
     "output_type": "stream",
     "text": [
      "🎧 Transcribing audio_61.wav...\n"
     ]
    },
    {
     "name": "stderr",
     "output_type": "stream",
     "text": [
      " 17%|█▋        | 77/444 [14:33<1:12:39, 11.88s/it]"
     ]
    },
    {
     "name": "stdout",
     "output_type": "stream",
     "text": [
      "🎧 Transcribing audio_964.wav...\n"
     ]
    },
    {
     "name": "stderr",
     "output_type": "stream",
     "text": [
      " 18%|█▊        | 78/444 [14:36<57:24,  9.41s/it]  "
     ]
    },
    {
     "name": "stdout",
     "output_type": "stream",
     "text": [
      "🎧 Transcribing audio_526.wav...\n"
     ]
    },
    {
     "name": "stderr",
     "output_type": "stream",
     "text": [
      " 18%|█▊        | 79/444 [14:40<47:04,  7.74s/it]"
     ]
    },
    {
     "name": "stdout",
     "output_type": "stream",
     "text": [
      "🎧 Transcribing audio_1285.wav...\n"
     ]
    },
    {
     "name": "stderr",
     "output_type": "stream",
     "text": [
      " 18%|█▊        | 80/444 [14:44<39:39,  6.54s/it]"
     ]
    },
    {
     "name": "stdout",
     "output_type": "stream",
     "text": [
      "🎧 Transcribing audio_32.wav...\n"
     ]
    },
    {
     "name": "stderr",
     "output_type": "stream",
     "text": [
      " 18%|█▊        | 81/444 [14:48<35:43,  5.91s/it]"
     ]
    },
    {
     "name": "stdout",
     "output_type": "stream",
     "text": [
      "🎧 Transcribing audio_535.wav...\n"
     ]
    },
    {
     "name": "stderr",
     "output_type": "stream",
     "text": [
      " 18%|█▊        | 82/444 [14:52<31:38,  5.24s/it]"
     ]
    },
    {
     "name": "stdout",
     "output_type": "stream",
     "text": [
      "🎧 Transcribing audio_110.wav...\n"
     ]
    },
    {
     "name": "stderr",
     "output_type": "stream",
     "text": [
      " 19%|█▊        | 83/444 [14:56<29:47,  4.95s/it]"
     ]
    },
    {
     "name": "stdout",
     "output_type": "stream",
     "text": [
      "🎧 Transcribing audio_1172.wav...\n"
     ]
    },
    {
     "name": "stderr",
     "output_type": "stream",
     "text": [
      " 19%|█▉        | 84/444 [15:02<31:19,  5.22s/it]"
     ]
    },
    {
     "name": "stdout",
     "output_type": "stream",
     "text": [
      "🎧 Transcribing audio_567.wav...\n"
     ]
    },
    {
     "name": "stderr",
     "output_type": "stream",
     "text": [
      " 19%|█▉        | 85/444 [15:08<33:20,  5.57s/it]"
     ]
    },
    {
     "name": "stdout",
     "output_type": "stream",
     "text": [
      "🎧 Transcribing audio_1325.wav...\n"
     ]
    },
    {
     "name": "stderr",
     "output_type": "stream",
     "text": [
      " 19%|█▉        | 86/444 [15:13<30:57,  5.19s/it]"
     ]
    },
    {
     "name": "stdout",
     "output_type": "stream",
     "text": [
      "🎧 Transcribing audio_374.wav...\n"
     ]
    },
    {
     "name": "stderr",
     "output_type": "stream",
     "text": [
      " 20%|█▉        | 87/444 [15:53<1:32:43, 15.58s/it]"
     ]
    },
    {
     "name": "stdout",
     "output_type": "stream",
     "text": [
      "🎧 Transcribing audio_944.wav...\n"
     ]
    },
    {
     "name": "stderr",
     "output_type": "stream",
     "text": [
      " 20%|█▉        | 88/444 [15:55<1:08:23, 11.53s/it]"
     ]
    },
    {
     "name": "stdout",
     "output_type": "stream",
     "text": [
      "🎧 Transcribing audio_327.wav...\n"
     ]
    },
    {
     "name": "stderr",
     "output_type": "stream",
     "text": [
      " 20%|██        | 89/444 [16:00<57:56,  9.79s/it]  "
     ]
    },
    {
     "name": "stdout",
     "output_type": "stream",
     "text": [
      "🎧 Transcribing audio_120.wav...\n"
     ]
    },
    {
     "name": "stderr",
     "output_type": "stream",
     "text": [
      " 20%|██        | 90/444 [16:08<53:12,  9.02s/it]"
     ]
    },
    {
     "name": "stdout",
     "output_type": "stream",
     "text": [
      "🎧 Transcribing audio_297.wav...\n"
     ]
    },
    {
     "name": "stderr",
     "output_type": "stream",
     "text": [
      " 20%|██        | 91/444 [16:11<43:15,  7.35s/it]"
     ]
    },
    {
     "name": "stdout",
     "output_type": "stream",
     "text": [
      "🎧 Transcribing audio_1212.wav...\n"
     ]
    },
    {
     "name": "stderr",
     "output_type": "stream",
     "text": [
      " 21%|██        | 92/444 [16:14<35:56,  6.13s/it]"
     ]
    },
    {
     "name": "stdout",
     "output_type": "stream",
     "text": [
      "🎧 Transcribing audio_899.wav...\n"
     ]
    },
    {
     "name": "stderr",
     "output_type": "stream",
     "text": [
      " 21%|██        | 93/444 [16:18<31:26,  5.38s/it]"
     ]
    },
    {
     "name": "stdout",
     "output_type": "stream",
     "text": [
      "🎧 Transcribing audio_516.wav...\n"
     ]
    },
    {
     "name": "stderr",
     "output_type": "stream",
     "text": [
      " 21%|██        | 94/444 [16:24<33:03,  5.67s/it]"
     ]
    },
    {
     "name": "stdout",
     "output_type": "stream",
     "text": [
      "🎧 Transcribing audio_441.wav...\n"
     ]
    },
    {
     "name": "stderr",
     "output_type": "stream",
     "text": [
      " 21%|██▏       | 95/444 [16:29<31:10,  5.36s/it]"
     ]
    },
    {
     "name": "stdout",
     "output_type": "stream",
     "text": [
      "🎧 Transcribing audio_848.wav...\n"
     ]
    },
    {
     "name": "stderr",
     "output_type": "stream",
     "text": [
      " 22%|██▏       | 96/444 [16:34<30:03,  5.18s/it]"
     ]
    },
    {
     "name": "stdout",
     "output_type": "stream",
     "text": [
      "🎧 Transcribing audio_1103.wav...\n"
     ]
    },
    {
     "name": "stderr",
     "output_type": "stream",
     "text": [
      " 22%|██▏       | 97/444 [16:40<31:58,  5.53s/it]"
     ]
    },
    {
     "name": "stdout",
     "output_type": "stream",
     "text": [
      "🎧 Transcribing audio_346.wav...\n"
     ]
    },
    {
     "name": "stderr",
     "output_type": "stream",
     "text": [
      " 22%|██▏       | 98/444 [16:45<31:31,  5.47s/it]"
     ]
    },
    {
     "name": "stdout",
     "output_type": "stream",
     "text": [
      "🎧 Transcribing audio_446.wav...\n"
     ]
    },
    {
     "name": "stderr",
     "output_type": "stream",
     "text": [
      " 22%|██▏       | 99/444 [16:49<28:42,  4.99s/it]"
     ]
    },
    {
     "name": "stdout",
     "output_type": "stream",
     "text": [
      "🎧 Transcribing audio_104.wav...\n"
     ]
    },
    {
     "name": "stderr",
     "output_type": "stream",
     "text": [
      " 23%|██▎       | 100/444 [16:57<33:38,  5.87s/it]"
     ]
    },
    {
     "name": "stdout",
     "output_type": "stream",
     "text": [
      "🎧 Transcribing audio_1236.wav...\n"
     ]
    },
    {
     "name": "stderr",
     "output_type": "stream",
     "text": [
      " 23%|██▎       | 101/444 [17:02<32:01,  5.60s/it]"
     ]
    },
    {
     "name": "stdout",
     "output_type": "stream",
     "text": [
      "🎧 Transcribing audio_957.wav...\n"
     ]
    },
    {
     "name": "stderr",
     "output_type": "stream",
     "text": [
      " 23%|██▎       | 102/444 [17:07<31:00,  5.44s/it]"
     ]
    },
    {
     "name": "stdout",
     "output_type": "stream",
     "text": [
      "🎧 Transcribing audio_776.wav...\n"
     ]
    },
    {
     "name": "stderr",
     "output_type": "stream",
     "text": [
      " 23%|██▎       | 103/444 [18:31<2:43:56, 28.85s/it]"
     ]
    },
    {
     "name": "stdout",
     "output_type": "stream",
     "text": [
      "🎧 Transcribing audio_1163.wav...\n"
     ]
    },
    {
     "name": "stderr",
     "output_type": "stream",
     "text": [
      " 23%|██▎       | 104/444 [18:37<2:05:32, 22.15s/it]"
     ]
    },
    {
     "name": "stdout",
     "output_type": "stream",
     "text": [
      "🎧 Transcribing audio_642.wav...\n"
     ]
    },
    {
     "name": "stderr",
     "output_type": "stream",
     "text": [
      " 24%|██▎       | 105/444 [18:39<1:30:31, 16.02s/it]"
     ]
    },
    {
     "name": "stdout",
     "output_type": "stream",
     "text": [
      "🎧 Transcribing audio_479.wav...\n"
     ]
    },
    {
     "name": "stderr",
     "output_type": "stream",
     "text": [
      " 24%|██▍       | 106/444 [18:46<1:14:30, 13.23s/it]"
     ]
    },
    {
     "name": "stdout",
     "output_type": "stream",
     "text": [
      "🎧 Transcribing audio_940.wav...\n"
     ]
    },
    {
     "name": "stderr",
     "output_type": "stream",
     "text": [
      " 24%|██▍       | 107/444 [20:04<3:04:12, 32.80s/it]"
     ]
    },
    {
     "name": "stdout",
     "output_type": "stream",
     "text": [
      "🎧 Transcribing audio_1171.wav...\n"
     ]
    },
    {
     "name": "stderr",
     "output_type": "stream",
     "text": [
      " 24%|██▍       | 108/444 [20:10<2:18:00, 24.64s/it]"
     ]
    },
    {
     "name": "stdout",
     "output_type": "stream",
     "text": [
      "🎧 Transcribing audio_563.wav...\n"
     ]
    },
    {
     "name": "stderr",
     "output_type": "stream",
     "text": [
      " 25%|██▍       | 109/444 [20:48<2:40:10, 28.69s/it]"
     ]
    },
    {
     "name": "stdout",
     "output_type": "stream",
     "text": [
      "🎧 Transcribing audio_773.wav...\n"
     ]
    },
    {
     "name": "stderr",
     "output_type": "stream",
     "text": [
      " 25%|██▍       | 110/444 [20:52<1:58:05, 21.21s/it]"
     ]
    },
    {
     "name": "stdout",
     "output_type": "stream",
     "text": [
      "🎧 Transcribing audio_71.wav...\n"
     ]
    },
    {
     "name": "stderr",
     "output_type": "stream",
     "text": [
      " 25%|██▌       | 111/444 [20:55<1:28:15, 15.90s/it]"
     ]
    },
    {
     "name": "stdout",
     "output_type": "stream",
     "text": [
      "🎧 Transcribing audio_76.wav...\n"
     ]
    },
    {
     "name": "stderr",
     "output_type": "stream",
     "text": [
      " 25%|██▌       | 112/444 [22:16<3:15:32, 35.34s/it]"
     ]
    },
    {
     "name": "stdout",
     "output_type": "stream",
     "text": [
      "🎧 Transcribing audio_905.wav...\n"
     ]
    },
    {
     "name": "stderr",
     "output_type": "stream",
     "text": [
      " 25%|██▌       | 113/444 [22:21<2:24:32, 26.20s/it]"
     ]
    },
    {
     "name": "stdout",
     "output_type": "stream",
     "text": [
      "🎧 Transcribing audio_925.wav...\n"
     ]
    },
    {
     "name": "stderr",
     "output_type": "stream",
     "text": [
      " 26%|██▌       | 114/444 [22:26<1:49:13, 19.86s/it]"
     ]
    },
    {
     "name": "stdout",
     "output_type": "stream",
     "text": [
      "🎧 Transcribing audio_205.wav...\n"
     ]
    },
    {
     "name": "stderr",
     "output_type": "stream",
     "text": [
      " 26%|██▌       | 115/444 [22:31<1:24:21, 15.38s/it]"
     ]
    },
    {
     "name": "stdout",
     "output_type": "stream",
     "text": [
      "🎧 Transcribing audio_345.wav...\n"
     ]
    },
    {
     "name": "stderr",
     "output_type": "stream",
     "text": [
      " 26%|██▌       | 116/444 [22:34<1:04:18, 11.76s/it]"
     ]
    },
    {
     "name": "stdout",
     "output_type": "stream",
     "text": [
      "🎧 Transcribing audio_661.wav...\n"
     ]
    },
    {
     "name": "stderr",
     "output_type": "stream",
     "text": [
      " 26%|██▋       | 117/444 [22:40<54:08,  9.93s/it]  "
     ]
    },
    {
     "name": "stdout",
     "output_type": "stream",
     "text": [
      "🎧 Transcribing audio_102.wav...\n"
     ]
    },
    {
     "name": "stderr",
     "output_type": "stream",
     "text": [
      " 27%|██▋       | 118/444 [22:46<48:54,  9.00s/it]"
     ]
    },
    {
     "name": "stdout",
     "output_type": "stream",
     "text": [
      "🎧 Transcribing audio_1136.wav...\n"
     ]
    },
    {
     "name": "stderr",
     "output_type": "stream",
     "text": [
      " 27%|██▋       | 119/444 [22:53<44:36,  8.23s/it]"
     ]
    },
    {
     "name": "stdout",
     "output_type": "stream",
     "text": [
      "🎧 Transcribing audio_1304.wav...\n"
     ]
    },
    {
     "name": "stderr",
     "output_type": "stream",
     "text": [
      " 27%|██▋       | 120/444 [22:59<40:59,  7.59s/it]"
     ]
    },
    {
     "name": "stdout",
     "output_type": "stream",
     "text": [
      "🎧 Transcribing audio_399.wav...\n"
     ]
    },
    {
     "name": "stderr",
     "output_type": "stream",
     "text": [
      " 27%|██▋       | 121/444 [23:02<32:44,  6.08s/it]"
     ]
    },
    {
     "name": "stdout",
     "output_type": "stream",
     "text": [
      "🎧 Transcribing audio_1126.wav...\n"
     ]
    },
    {
     "name": "stderr",
     "output_type": "stream",
     "text": [
      " 27%|██▋       | 122/444 [23:05<29:10,  5.44s/it]"
     ]
    },
    {
     "name": "stdout",
     "output_type": "stream",
     "text": [
      "🎧 Transcribing audio_1024.wav...\n"
     ]
    },
    {
     "name": "stderr",
     "output_type": "stream",
     "text": [
      " 28%|██▊       | 123/444 [23:10<27:16,  5.10s/it]"
     ]
    },
    {
     "name": "stdout",
     "output_type": "stream",
     "text": [
      "🎧 Transcribing audio_45.wav...\n"
     ]
    },
    {
     "name": "stderr",
     "output_type": "stream",
     "text": [
      " 28%|██▊       | 124/444 [23:50<1:23:06, 15.58s/it]"
     ]
    },
    {
     "name": "stdout",
     "output_type": "stream",
     "text": [
      "🎧 Transcribing audio_812.wav...\n"
     ]
    },
    {
     "name": "stderr",
     "output_type": "stream",
     "text": [
      " 28%|██▊       | 125/444 [23:54<1:04:18, 12.10s/it]"
     ]
    },
    {
     "name": "stdout",
     "output_type": "stream",
     "text": [
      "🎧 Transcribing audio_860.wav...\n"
     ]
    },
    {
     "name": "stderr",
     "output_type": "stream",
     "text": [
      " 28%|██▊       | 126/444 [23:59<53:07, 10.02s/it]  "
     ]
    },
    {
     "name": "stdout",
     "output_type": "stream",
     "text": [
      "🎧 Transcribing audio_942.wav...\n"
     ]
    },
    {
     "name": "stderr",
     "output_type": "stream",
     "text": [
      " 29%|██▊       | 127/444 [24:01<40:33,  7.68s/it]"
     ]
    },
    {
     "name": "stdout",
     "output_type": "stream",
     "text": [
      "🎧 Transcribing audio_414.wav...\n"
     ]
    },
    {
     "name": "stderr",
     "output_type": "stream",
     "text": [
      " 29%|██▉       | 128/444 [24:46<1:39:10, 18.83s/it]"
     ]
    },
    {
     "name": "stdout",
     "output_type": "stream",
     "text": [
      "🎧 Transcribing audio_725.wav...\n"
     ]
    },
    {
     "name": "stderr",
     "output_type": "stream",
     "text": [
      " 29%|██▉       | 129/444 [25:59<3:03:36, 34.97s/it]"
     ]
    },
    {
     "name": "stdout",
     "output_type": "stream",
     "text": [
      "🎧 Transcribing audio_1245.wav...\n"
     ]
    },
    {
     "name": "stderr",
     "output_type": "stream",
     "text": [
      " 29%|██▉       | 130/444 [26:03<2:14:15, 25.65s/it]"
     ]
    },
    {
     "name": "stdout",
     "output_type": "stream",
     "text": [
      "🎧 Transcribing audio_275.wav...\n"
     ]
    },
    {
     "name": "stderr",
     "output_type": "stream",
     "text": [
      " 30%|██▉       | 131/444 [26:09<1:43:12, 19.78s/it]"
     ]
    },
    {
     "name": "stdout",
     "output_type": "stream",
     "text": [
      "🎧 Transcribing audio_590.wav...\n"
     ]
    },
    {
     "name": "stderr",
     "output_type": "stream",
     "text": [
      " 30%|██▉       | 132/444 [26:14<1:21:00, 15.58s/it]"
     ]
    },
    {
     "name": "stdout",
     "output_type": "stream",
     "text": [
      "🎧 Transcribing audio_955.wav...\n"
     ]
    },
    {
     "name": "stderr",
     "output_type": "stream",
     "text": [
      " 30%|██▉       | 133/444 [26:19<1:04:25, 12.43s/it]"
     ]
    },
    {
     "name": "stdout",
     "output_type": "stream",
     "text": [
      "🎧 Transcribing audio_478.wav...\n"
     ]
    },
    {
     "name": "stderr",
     "output_type": "stream",
     "text": [
      " 30%|███       | 134/444 [26:38<1:14:03, 14.34s/it]"
     ]
    },
    {
     "name": "stdout",
     "output_type": "stream",
     "text": [
      "🎧 Transcribing audio_779.wav...\n"
     ]
    },
    {
     "name": "stderr",
     "output_type": "stream",
     "text": [
      " 30%|███       | 135/444 [26:44<1:00:34, 11.76s/it]"
     ]
    },
    {
     "name": "stdout",
     "output_type": "stream",
     "text": [
      "🎧 Transcribing audio_2.wav...\n"
     ]
    },
    {
     "name": "stderr",
     "output_type": "stream",
     "text": [
      " 31%|███       | 136/444 [26:46<45:37,  8.89s/it]  "
     ]
    },
    {
     "name": "stdout",
     "output_type": "stream",
     "text": [
      "🎧 Transcribing audio_447.wav...\n"
     ]
    },
    {
     "name": "stderr",
     "output_type": "stream",
     "text": [
      " 31%|███       | 137/444 [26:51<38:43,  7.57s/it]"
     ]
    },
    {
     "name": "stdout",
     "output_type": "stream",
     "text": [
      "🎧 Transcribing audio_807.wav...\n"
     ]
    },
    {
     "name": "stderr",
     "output_type": "stream",
     "text": [
      " 31%|███       | 138/444 [26:56<34:53,  6.84s/it]"
     ]
    },
    {
     "name": "stdout",
     "output_type": "stream",
     "text": [
      "🎧 Transcribing audio_223.wav...\n"
     ]
    },
    {
     "name": "stderr",
     "output_type": "stream",
     "text": [
      " 31%|███▏      | 139/444 [27:00<31:18,  6.16s/it]"
     ]
    },
    {
     "name": "stdout",
     "output_type": "stream",
     "text": [
      "🎧 Transcribing audio_1268.wav...\n"
     ]
    },
    {
     "name": "stderr",
     "output_type": "stream",
     "text": [
      " 32%|███▏      | 140/444 [27:05<28:59,  5.72s/it]"
     ]
    },
    {
     "name": "stdout",
     "output_type": "stream",
     "text": [
      "🎧 Transcribing audio_118.wav...\n"
     ]
    },
    {
     "name": "stderr",
     "output_type": "stream",
     "text": [
      " 32%|███▏      | 141/444 [27:09<25:24,  5.03s/it]"
     ]
    },
    {
     "name": "stdout",
     "output_type": "stream",
     "text": [
      "🎧 Transcribing audio_1202.wav...\n"
     ]
    },
    {
     "name": "stderr",
     "output_type": "stream",
     "text": [
      " 32%|███▏      | 142/444 [27:14<25:17,  5.02s/it]"
     ]
    },
    {
     "name": "stdout",
     "output_type": "stream",
     "text": [
      "🎧 Transcribing audio_549.wav...\n"
     ]
    },
    {
     "name": "stderr",
     "output_type": "stream",
     "text": [
      " 32%|███▏      | 143/444 [27:19<25:20,  5.05s/it]"
     ]
    },
    {
     "name": "stdout",
     "output_type": "stream",
     "text": [
      "🎧 Transcribing audio_1069.wav...\n"
     ]
    },
    {
     "name": "stderr",
     "output_type": "stream",
     "text": [
      " 32%|███▏      | 144/444 [27:36<43:17,  8.66s/it]"
     ]
    },
    {
     "name": "stdout",
     "output_type": "stream",
     "text": [
      "🎧 Transcribing audio_366.wav...\n"
     ]
    },
    {
     "name": "stderr",
     "output_type": "stream",
     "text": [
      " 33%|███▎      | 145/444 [28:08<1:17:57, 15.64s/it]"
     ]
    },
    {
     "name": "stdout",
     "output_type": "stream",
     "text": [
      "🎧 Transcribing audio_743.wav...\n"
     ]
    },
    {
     "name": "stderr",
     "output_type": "stream",
     "text": [
      " 33%|███▎      | 146/444 [28:13<1:02:23, 12.56s/it]"
     ]
    },
    {
     "name": "stdout",
     "output_type": "stream",
     "text": [
      "🎧 Transcribing audio_210.wav...\n"
     ]
    },
    {
     "name": "stderr",
     "output_type": "stream",
     "text": [
      " 33%|███▎      | 147/444 [28:36<1:17:05, 15.57s/it]"
     ]
    },
    {
     "name": "stdout",
     "output_type": "stream",
     "text": [
      "🎧 Transcribing audio_874.wav...\n"
     ]
    },
    {
     "name": "stderr",
     "output_type": "stream",
     "text": [
      " 33%|███▎      | 148/444 [28:42<1:03:02, 12.78s/it]"
     ]
    },
    {
     "name": "stdout",
     "output_type": "stream",
     "text": [
      "🎧 Transcribing audio_705.wav...\n"
     ]
    },
    {
     "name": "stderr",
     "output_type": "stream",
     "text": [
      " 34%|███▎      | 149/444 [28:48<52:49, 10.74s/it]  "
     ]
    },
    {
     "name": "stdout",
     "output_type": "stream",
     "text": [
      "🎧 Transcribing audio_952.wav...\n"
     ]
    },
    {
     "name": "stderr",
     "output_type": "stream",
     "text": [
      " 34%|███▍      | 150/444 [28:53<44:15,  9.03s/it]"
     ]
    },
    {
     "name": "stdout",
     "output_type": "stream",
     "text": [
      "🎧 Transcribing audio_836.wav...\n"
     ]
    },
    {
     "name": "stderr",
     "output_type": "stream",
     "text": [
      " 34%|███▍      | 151/444 [28:58<38:37,  7.91s/it]"
     ]
    },
    {
     "name": "stdout",
     "output_type": "stream",
     "text": [
      "🎧 Transcribing audio_396.wav...\n"
     ]
    },
    {
     "name": "stderr",
     "output_type": "stream",
     "text": [
      " 34%|███▍      | 152/444 [29:02<32:32,  6.69s/it]"
     ]
    },
    {
     "name": "stdout",
     "output_type": "stream",
     "text": [
      "🎧 Transcribing audio_1239.wav...\n"
     ]
    },
    {
     "name": "stderr",
     "output_type": "stream",
     "text": [
      " 34%|███▍      | 153/444 [29:08<31:07,  6.42s/it]"
     ]
    },
    {
     "name": "stdout",
     "output_type": "stream",
     "text": [
      "🎧 Transcribing audio_909.wav...\n"
     ]
    },
    {
     "name": "stderr",
     "output_type": "stream",
     "text": [
      " 35%|███▍      | 154/444 [29:13<28:28,  5.89s/it]"
     ]
    },
    {
     "name": "stdout",
     "output_type": "stream",
     "text": [
      "🎧 Transcribing audio_583.wav...\n"
     ]
    },
    {
     "name": "stderr",
     "output_type": "stream",
     "text": [
      " 35%|███▍      | 155/444 [29:19<29:30,  6.13s/it]"
     ]
    },
    {
     "name": "stdout",
     "output_type": "stream",
     "text": [
      "🎧 Transcribing audio_1114.wav...\n"
     ]
    },
    {
     "name": "stderr",
     "output_type": "stream",
     "text": [
      " 35%|███▌      | 156/444 [29:23<26:35,  5.54s/it]"
     ]
    },
    {
     "name": "stdout",
     "output_type": "stream",
     "text": [
      "🎧 Transcribing audio_771.wav...\n"
     ]
    },
    {
     "name": "stderr",
     "output_type": "stream",
     "text": [
      " 35%|███▌      | 157/444 [29:26<22:00,  4.60s/it]"
     ]
    },
    {
     "name": "stdout",
     "output_type": "stream",
     "text": [
      "🎧 Transcribing audio_989.wav...\n"
     ]
    },
    {
     "name": "stderr",
     "output_type": "stream",
     "text": [
      " 36%|███▌      | 158/444 [29:33<25:49,  5.42s/it]"
     ]
    },
    {
     "name": "stdout",
     "output_type": "stream",
     "text": [
      "🎧 Transcribing audio_1182.wav...\n"
     ]
    },
    {
     "name": "stderr",
     "output_type": "stream",
     "text": [
      " 36%|███▌      | 159/444 [29:38<24:55,  5.25s/it]"
     ]
    },
    {
     "name": "stdout",
     "output_type": "stream",
     "text": [
      "🎧 Transcribing audio_865.wav...\n"
     ]
    },
    {
     "name": "stderr",
     "output_type": "stream",
     "text": [
      " 36%|███▌      | 160/444 [29:44<25:30,  5.39s/it]"
     ]
    },
    {
     "name": "stdout",
     "output_type": "stream",
     "text": [
      "🎧 Transcribing audio_278.wav...\n"
     ]
    },
    {
     "name": "stderr",
     "output_type": "stream",
     "text": [
      " 36%|███▋      | 161/444 [29:49<24:48,  5.26s/it]"
     ]
    },
    {
     "name": "stdout",
     "output_type": "stream",
     "text": [
      "🎧 Transcribing audio_468.wav...\n"
     ]
    },
    {
     "name": "stderr",
     "output_type": "stream",
     "text": [
      " 36%|███▋      | 162/444 [29:56<27:37,  5.88s/it]"
     ]
    },
    {
     "name": "stdout",
     "output_type": "stream",
     "text": [
      "🎧 Transcribing audio_930.wav...\n"
     ]
    },
    {
     "name": "stderr",
     "output_type": "stream",
     "text": [
      " 37%|███▋      | 163/444 [30:00<25:19,  5.41s/it]"
     ]
    },
    {
     "name": "stdout",
     "output_type": "stream",
     "text": [
      "🎧 Transcribing audio_314.wav...\n"
     ]
    },
    {
     "name": "stderr",
     "output_type": "stream",
     "text": [
      " 37%|███▋      | 164/444 [30:07<26:44,  5.73s/it]"
     ]
    },
    {
     "name": "stdout",
     "output_type": "stream",
     "text": [
      "🎧 Transcribing audio_697.wav...\n"
     ]
    },
    {
     "name": "stderr",
     "output_type": "stream",
     "text": [
      " 37%|███▋      | 165/444 [30:12<26:25,  5.68s/it]"
     ]
    },
    {
     "name": "stdout",
     "output_type": "stream",
     "text": [
      "🎧 Transcribing audio_722.wav...\n"
     ]
    },
    {
     "name": "stderr",
     "output_type": "stream",
     "text": [
      " 37%|███▋      | 166/444 [30:14<21:05,  4.55s/it]"
     ]
    },
    {
     "name": "stdout",
     "output_type": "stream",
     "text": [
      "🎧 Transcribing audio_674.wav...\n"
     ]
    },
    {
     "name": "stderr",
     "output_type": "stream",
     "text": [
      " 38%|███▊      | 167/444 [30:19<20:58,  4.54s/it]"
     ]
    },
    {
     "name": "stdout",
     "output_type": "stream",
     "text": [
      "🎧 Transcribing audio_1104.wav...\n"
     ]
    },
    {
     "name": "stderr",
     "output_type": "stream",
     "text": [
      " 38%|███▊      | 168/444 [30:23<19:50,  4.31s/it]"
     ]
    },
    {
     "name": "stdout",
     "output_type": "stream",
     "text": [
      "🎧 Transcribing audio_1134.wav...\n"
     ]
    },
    {
     "name": "stderr",
     "output_type": "stream",
     "text": [
      " 38%|███▊      | 169/444 [30:26<18:49,  4.11s/it]"
     ]
    },
    {
     "name": "stdout",
     "output_type": "stream",
     "text": [
      "🎧 Transcribing audio_1043.wav...\n"
     ]
    },
    {
     "name": "stderr",
     "output_type": "stream",
     "text": [
      " 38%|███▊      | 170/444 [30:31<19:11,  4.20s/it]"
     ]
    },
    {
     "name": "stdout",
     "output_type": "stream",
     "text": [
      "🎧 Transcribing audio_609.wav...\n"
     ]
    },
    {
     "name": "stderr",
     "output_type": "stream",
     "text": [
      " 39%|███▊      | 171/444 [30:42<28:22,  6.23s/it]"
     ]
    },
    {
     "name": "stdout",
     "output_type": "stream",
     "text": [
      "🎧 Transcribing audio_1329.wav...\n"
     ]
    },
    {
     "name": "stderr",
     "output_type": "stream",
     "text": [
      " 39%|███▊      | 172/444 [30:44<23:15,  5.13s/it]"
     ]
    },
    {
     "name": "stdout",
     "output_type": "stream",
     "text": [
      "🎧 Transcribing audio_1153.wav...\n"
     ]
    },
    {
     "name": "stderr",
     "output_type": "stream",
     "text": [
      " 39%|███▉      | 173/444 [30:46<18:52,  4.18s/it]"
     ]
    },
    {
     "name": "stdout",
     "output_type": "stream",
     "text": [
      "🎧 Transcribing audio_23.wav...\n"
     ]
    },
    {
     "name": "stderr",
     "output_type": "stream",
     "text": [
      " 39%|███▉      | 174/444 [30:52<21:18,  4.73s/it]"
     ]
    },
    {
     "name": "stdout",
     "output_type": "stream",
     "text": [
      "🎧 Transcribing audio_542.wav...\n"
     ]
    },
    {
     "name": "stderr",
     "output_type": "stream",
     "text": [
      " 39%|███▉      | 175/444 [30:56<20:30,  4.58s/it]"
     ]
    },
    {
     "name": "stdout",
     "output_type": "stream",
     "text": [
      "🎧 Transcribing audio_592.wav...\n"
     ]
    },
    {
     "name": "stderr",
     "output_type": "stream",
     "text": [
      " 40%|███▉      | 176/444 [31:01<21:02,  4.71s/it]"
     ]
    },
    {
     "name": "stdout",
     "output_type": "stream",
     "text": [
      "🎧 Transcribing audio_954.wav...\n"
     ]
    },
    {
     "name": "stderr",
     "output_type": "stream",
     "text": [
      " 40%|███▉      | 177/444 [31:07<22:19,  5.02s/it]"
     ]
    },
    {
     "name": "stdout",
     "output_type": "stream",
     "text": [
      "🎧 Transcribing audio_916.wav...\n"
     ]
    },
    {
     "name": "stderr",
     "output_type": "stream",
     "text": [
      " 40%|████      | 178/444 [31:11<21:04,  4.75s/it]"
     ]
    },
    {
     "name": "stdout",
     "output_type": "stream",
     "text": [
      "🎧 Transcribing audio_244.wav...\n"
     ]
    },
    {
     "name": "stderr",
     "output_type": "stream",
     "text": [
      " 40%|████      | 179/444 [31:17<22:11,  5.02s/it]"
     ]
    },
    {
     "name": "stdout",
     "output_type": "stream",
     "text": [
      "🎧 Transcribing audio_387.wav...\n"
     ]
    },
    {
     "name": "stderr",
     "output_type": "stream",
     "text": [
      " 41%|████      | 180/444 [31:22<22:33,  5.13s/it]"
     ]
    },
    {
     "name": "stdout",
     "output_type": "stream",
     "text": [
      "🎧 Transcribing audio_313.wav...\n"
     ]
    },
    {
     "name": "stderr",
     "output_type": "stream",
     "text": [
      " 41%|████      | 181/444 [31:47<47:57, 10.94s/it]"
     ]
    },
    {
     "name": "stdout",
     "output_type": "stream",
     "text": [
      "🎧 Transcribing audio_1252.wav...\n"
     ]
    },
    {
     "name": "stderr",
     "output_type": "stream",
     "text": [
      " 41%|████      | 182/444 [31:52<40:17,  9.23s/it]"
     ]
    },
    {
     "name": "stdout",
     "output_type": "stream",
     "text": [
      "🎧 Transcribing audio_194.wav...\n"
     ]
    },
    {
     "name": "stderr",
     "output_type": "stream",
     "text": [
      " 41%|████      | 183/444 [31:59<37:43,  8.67s/it]"
     ]
    },
    {
     "name": "stdout",
     "output_type": "stream",
     "text": [
      "🎧 Transcribing audio_427.wav...\n"
     ]
    },
    {
     "name": "stderr",
     "output_type": "stream",
     "text": [
      " 41%|████▏     | 184/444 [32:06<34:28,  7.96s/it]"
     ]
    },
    {
     "name": "stdout",
     "output_type": "stream",
     "text": [
      "🎧 Transcribing audio_93.wav...\n"
     ]
    },
    {
     "name": "stderr",
     "output_type": "stream",
     "text": [
      " 42%|████▏     | 185/444 [32:09<28:55,  6.70s/it]"
     ]
    },
    {
     "name": "stdout",
     "output_type": "stream",
     "text": [
      "🎧 Transcribing audio_1162.wav...\n"
     ]
    },
    {
     "name": "stderr",
     "output_type": "stream",
     "text": [
      " 42%|████▏     | 186/444 [32:14<26:06,  6.07s/it]"
     ]
    },
    {
     "name": "stdout",
     "output_type": "stream",
     "text": [
      "🎧 Transcribing audio_142.wav...\n"
     ]
    },
    {
     "name": "stderr",
     "output_type": "stream",
     "text": [
      " 42%|████▏     | 187/444 [32:43<55:29, 12.95s/it]"
     ]
    },
    {
     "name": "stdout",
     "output_type": "stream",
     "text": [
      "🎧 Transcribing audio_708.wav...\n"
     ]
    },
    {
     "name": "stderr",
     "output_type": "stream",
     "text": [
      " 42%|████▏     | 188/444 [32:47<43:34, 10.21s/it]"
     ]
    },
    {
     "name": "stdout",
     "output_type": "stream",
     "text": [
      "🎧 Transcribing audio_492.wav...\n"
     ]
    },
    {
     "name": "stderr",
     "output_type": "stream",
     "text": [
      " 43%|████▎     | 189/444 [32:52<37:19,  8.78s/it]"
     ]
    },
    {
     "name": "stdout",
     "output_type": "stream",
     "text": [
      "🎧 Transcribing audio_934.wav...\n"
     ]
    },
    {
     "name": "stderr",
     "output_type": "stream",
     "text": [
      " 43%|████▎     | 190/444 [32:58<33:11,  7.84s/it]"
     ]
    },
    {
     "name": "stdout",
     "output_type": "stream",
     "text": [
      "🎧 Transcribing audio_826.wav...\n"
     ]
    },
    {
     "name": "stderr",
     "output_type": "stream",
     "text": [
      " 43%|████▎     | 191/444 [33:03<29:50,  7.08s/it]"
     ]
    },
    {
     "name": "stdout",
     "output_type": "stream",
     "text": [
      "🎧 Transcribing audio_931.wav...\n"
     ]
    },
    {
     "name": "stderr",
     "output_type": "stream",
     "text": [
      " 43%|████▎     | 192/444 [33:09<27:38,  6.58s/it]"
     ]
    },
    {
     "name": "stdout",
     "output_type": "stream",
     "text": [
      "🎧 Transcribing audio_255.wav...\n"
     ]
    },
    {
     "name": "stderr",
     "output_type": "stream",
     "text": [
      " 43%|████▎     | 193/444 [33:55<1:17:11, 18.45s/it]"
     ]
    },
    {
     "name": "stdout",
     "output_type": "stream",
     "text": [
      "🎧 Transcribing audio_654.wav...\n"
     ]
    },
    {
     "name": "stderr",
     "output_type": "stream",
     "text": [
      " 44%|████▎     | 194/444 [34:00<1:00:12, 14.45s/it]"
     ]
    },
    {
     "name": "stdout",
     "output_type": "stream",
     "text": [
      "🎧 Transcribing audio_703.wav...\n"
     ]
    },
    {
     "name": "stderr",
     "output_type": "stream",
     "text": [
      " 44%|████▍     | 195/444 [34:30<1:19:08, 19.07s/it]"
     ]
    },
    {
     "name": "stdout",
     "output_type": "stream",
     "text": [
      "🎧 Transcribing audio_657.wav...\n"
     ]
    },
    {
     "name": "stderr",
     "output_type": "stream",
     "text": [
      " 44%|████▍     | 196/444 [34:34<1:00:48, 14.71s/it]"
     ]
    },
    {
     "name": "stdout",
     "output_type": "stream",
     "text": [
      "🎧 Transcribing audio_5.wav...\n"
     ]
    },
    {
     "name": "stderr",
     "output_type": "stream",
     "text": [
      " 44%|████▍     | 197/444 [36:17<2:48:41, 40.98s/it]"
     ]
    },
    {
     "name": "stdout",
     "output_type": "stream",
     "text": [
      "🎧 Transcribing audio_185.wav...\n"
     ]
    },
    {
     "name": "stderr",
     "output_type": "stream",
     "text": [
      " 45%|████▍     | 198/444 [36:24<2:06:54, 30.95s/it]"
     ]
    },
    {
     "name": "stdout",
     "output_type": "stream",
     "text": [
      "🎧 Transcribing audio_1175.wav...\n"
     ]
    },
    {
     "name": "stderr",
     "output_type": "stream",
     "text": [
      " 45%|████▍     | 199/444 [36:31<1:37:06, 23.78s/it]"
     ]
    },
    {
     "name": "stdout",
     "output_type": "stream",
     "text": [
      "🎧 Transcribing audio_1120.wav...\n"
     ]
    },
    {
     "name": "stderr",
     "output_type": "stream",
     "text": [
      " 45%|████▌     | 200/444 [36:35<1:12:33, 17.84s/it]"
     ]
    },
    {
     "name": "stdout",
     "output_type": "stream",
     "text": [
      "🎧 Transcribing audio_1128.wav...\n"
     ]
    },
    {
     "name": "stderr",
     "output_type": "stream",
     "text": [
      " 45%|████▌     | 201/444 [36:40<56:16, 13.89s/it]  "
     ]
    },
    {
     "name": "stdout",
     "output_type": "stream",
     "text": [
      "🎧 Transcribing audio_1066.wav...\n"
     ]
    },
    {
     "name": "stderr",
     "output_type": "stream",
     "text": [
      " 45%|████▌     | 202/444 [38:03<2:20:12, 34.76s/it]"
     ]
    },
    {
     "name": "stdout",
     "output_type": "stream",
     "text": [
      "🎧 Transcribing audio_80.wav...\n"
     ]
    },
    {
     "name": "stderr",
     "output_type": "stream",
     "text": [
      " 46%|████▌     | 203/444 [38:09<1:44:02, 25.90s/it]"
     ]
    },
    {
     "name": "stdout",
     "output_type": "stream",
     "text": [
      "🎧 Transcribing audio_668.wav...\n"
     ]
    },
    {
     "name": "stderr",
     "output_type": "stream",
     "text": [
      " 46%|████▌     | 204/444 [38:13<1:18:01, 19.51s/it]"
     ]
    },
    {
     "name": "stdout",
     "output_type": "stream",
     "text": [
      "🎧 Transcribing audio_8.wav...\n"
     ]
    },
    {
     "name": "stderr",
     "output_type": "stream",
     "text": [
      " 46%|████▌     | 205/444 [38:58<1:48:00, 27.12s/it]"
     ]
    },
    {
     "name": "stdout",
     "output_type": "stream",
     "text": [
      "🎧 Transcribing audio_763.wav...\n"
     ]
    },
    {
     "name": "stderr",
     "output_type": "stream",
     "text": [
      " 46%|████▋     | 206/444 [39:03<1:21:38, 20.58s/it]"
     ]
    },
    {
     "name": "stdout",
     "output_type": "stream",
     "text": [
      "🎧 Transcribing audio_85.wav...\n"
     ]
    },
    {
     "name": "stderr",
     "output_type": "stream",
     "text": [
      " 47%|████▋     | 207/444 [39:08<1:02:38, 15.86s/it]"
     ]
    },
    {
     "name": "stdout",
     "output_type": "stream",
     "text": [
      "🎧 Transcribing audio_1318.wav...\n"
     ]
    },
    {
     "name": "stderr",
     "output_type": "stream",
     "text": [
      " 47%|████▋     | 208/444 [39:11<47:27, 12.06s/it]  "
     ]
    },
    {
     "name": "stdout",
     "output_type": "stream",
     "text": [
      "🎧 Transcribing audio_303.wav...\n"
     ]
    },
    {
     "name": "stderr",
     "output_type": "stream",
     "text": [
      " 47%|████▋     | 209/444 [39:17<39:36, 10.11s/it]"
     ]
    },
    {
     "name": "stdout",
     "output_type": "stream",
     "text": [
      "🎧 Transcribing audio_727.wav...\n"
     ]
    },
    {
     "name": "stderr",
     "output_type": "stream",
     "text": [
      " 47%|████▋     | 210/444 [39:22<33:31,  8.60s/it]"
     ]
    },
    {
     "name": "stdout",
     "output_type": "stream",
     "text": [
      "🎧 Transcribing audio_1057.wav...\n"
     ]
    },
    {
     "name": "stderr",
     "output_type": "stream",
     "text": [
      " 48%|████▊     | 211/444 [39:26<27:50,  7.17s/it]"
     ]
    },
    {
     "name": "stdout",
     "output_type": "stream",
     "text": [
      "🎧 Transcribing audio_469.wav...\n"
     ]
    },
    {
     "name": "stderr",
     "output_type": "stream",
     "text": [
      " 48%|████▊     | 212/444 [40:10<1:10:53, 18.34s/it]"
     ]
    },
    {
     "name": "stdout",
     "output_type": "stream",
     "text": [
      "🎧 Transcribing audio_965.wav...\n"
     ]
    },
    {
     "name": "stderr",
     "output_type": "stream",
     "text": [
      " 48%|████▊     | 213/444 [40:16<55:48, 14.49s/it]  "
     ]
    },
    {
     "name": "stdout",
     "output_type": "stream",
     "text": [
      "🎧 Transcribing audio_202.wav...\n"
     ]
    },
    {
     "name": "stderr",
     "output_type": "stream",
     "text": [
      " 48%|████▊     | 214/444 [40:22<45:56, 11.98s/it]"
     ]
    },
    {
     "name": "stdout",
     "output_type": "stream",
     "text": [
      "🎧 Transcribing audio_127.wav...\n"
     ]
    },
    {
     "name": "stderr",
     "output_type": "stream",
     "text": [
      " 48%|████▊     | 215/444 [40:27<37:36,  9.85s/it]"
     ]
    },
    {
     "name": "stdout",
     "output_type": "stream",
     "text": [
      "🎧 Transcribing audio_677.wav...\n"
     ]
    },
    {
     "name": "stderr",
     "output_type": "stream",
     "text": [
      " 49%|████▊     | 216/444 [40:33<33:02,  8.69s/it]"
     ]
    },
    {
     "name": "stdout",
     "output_type": "stream",
     "text": [
      "🎧 Transcribing audio_788.wav...\n"
     ]
    },
    {
     "name": "stderr",
     "output_type": "stream",
     "text": [
      " 49%|████▉     | 217/444 [40:39<29:57,  7.92s/it]"
     ]
    },
    {
     "name": "stdout",
     "output_type": "stream",
     "text": [
      "🎧 Transcribing audio_904.wav...\n"
     ]
    },
    {
     "name": "stderr",
     "output_type": "stream",
     "text": [
      " 49%|████▉     | 218/444 [40:44<27:07,  7.20s/it]"
     ]
    },
    {
     "name": "stdout",
     "output_type": "stream",
     "text": [
      "🎧 Transcribing audio_695.wav...\n"
     ]
    },
    {
     "name": "stderr",
     "output_type": "stream",
     "text": [
      " 49%|████▉     | 219/444 [40:49<24:25,  6.51s/it]"
     ]
    },
    {
     "name": "stdout",
     "output_type": "stream",
     "text": [
      "🎧 Transcribing audio_463.wav...\n"
     ]
    },
    {
     "name": "stderr",
     "output_type": "stream",
     "text": [
      " 50%|████▉     | 220/444 [41:04<33:16,  8.91s/it]"
     ]
    },
    {
     "name": "stdout",
     "output_type": "stream",
     "text": [
      "🎧 Transcribing audio_1075.wav...\n"
     ]
    },
    {
     "name": "stderr",
     "output_type": "stream",
     "text": [
      " 50%|████▉     | 221/444 [41:11<31:28,  8.47s/it]"
     ]
    },
    {
     "name": "stdout",
     "output_type": "stream",
     "text": [
      "🎧 Transcribing audio_130.wav...\n"
     ]
    },
    {
     "name": "stderr",
     "output_type": "stream",
     "text": [
      " 50%|█████     | 222/444 [41:15<26:22,  7.13s/it]"
     ]
    },
    {
     "name": "stdout",
     "output_type": "stream",
     "text": [
      "🎧 Transcribing audio_273.wav...\n"
     ]
    },
    {
     "name": "stderr",
     "output_type": "stream",
     "text": [
      " 50%|█████     | 223/444 [41:22<25:26,  6.91s/it]"
     ]
    },
    {
     "name": "stdout",
     "output_type": "stream",
     "text": [
      "🎧 Transcribing audio_489.wav...\n"
     ]
    },
    {
     "name": "stderr",
     "output_type": "stream",
     "text": [
      " 50%|█████     | 224/444 [41:29<25:37,  6.99s/it]"
     ]
    },
    {
     "name": "stdout",
     "output_type": "stream",
     "text": [
      "🎧 Transcribing audio_293.wav...\n"
     ]
    },
    {
     "name": "stderr",
     "output_type": "stream",
     "text": [
      " 51%|█████     | 225/444 [41:35<24:33,  6.73s/it]"
     ]
    },
    {
     "name": "stdout",
     "output_type": "stream",
     "text": [
      "🎧 Transcribing audio_1030.wav...\n"
     ]
    },
    {
     "name": "stderr",
     "output_type": "stream",
     "text": [
      " 51%|█████     | 226/444 [41:38<20:58,  5.77s/it]"
     ]
    },
    {
     "name": "stdout",
     "output_type": "stream",
     "text": [
      "🎧 Transcribing audio_970.wav...\n"
     ]
    },
    {
     "name": "stderr",
     "output_type": "stream",
     "text": [
      " 51%|█████     | 227/444 [41:43<20:01,  5.54s/it]"
     ]
    },
    {
     "name": "stdout",
     "output_type": "stream",
     "text": [
      "🎧 Transcribing audio_239.wav...\n"
     ]
    },
    {
     "name": "stderr",
     "output_type": "stream",
     "text": [
      " 51%|█████▏    | 228/444 [41:48<18:36,  5.17s/it]"
     ]
    },
    {
     "name": "stdout",
     "output_type": "stream",
     "text": [
      "🎧 Transcribing audio_252.wav...\n"
     ]
    },
    {
     "name": "stderr",
     "output_type": "stream",
     "text": [
      " 52%|█████▏    | 229/444 [42:58<1:28:09, 24.60s/it]"
     ]
    },
    {
     "name": "stdout",
     "output_type": "stream",
     "text": [
      "🎧 Transcribing audio_311.wav...\n"
     ]
    },
    {
     "name": "stderr",
     "output_type": "stream",
     "text": [
      " 52%|█████▏    | 230/444 [43:04<1:08:21, 19.16s/it]"
     ]
    },
    {
     "name": "stdout",
     "output_type": "stream",
     "text": [
      "🎧 Transcribing audio_240.wav...\n"
     ]
    },
    {
     "name": "stderr",
     "output_type": "stream",
     "text": [
      " 52%|█████▏    | 231/444 [43:10<53:57, 15.20s/it]  "
     ]
    },
    {
     "name": "stdout",
     "output_type": "stream",
     "text": [
      "🎧 Transcribing audio_288.wav...\n"
     ]
    },
    {
     "name": "stderr",
     "output_type": "stream",
     "text": [
      " 52%|█████▏    | 232/444 [44:53<2:26:19, 41.41s/it]"
     ]
    },
    {
     "name": "stdout",
     "output_type": "stream",
     "text": [
      "🎧 Transcribing audio_1226.wav...\n"
     ]
    },
    {
     "name": "stderr",
     "output_type": "stream",
     "text": [
      " 52%|█████▏    | 233/444 [44:58<1:47:39, 30.61s/it]"
     ]
    },
    {
     "name": "stdout",
     "output_type": "stream",
     "text": [
      "🎧 Transcribing audio_146.wav...\n"
     ]
    },
    {
     "name": "stderr",
     "output_type": "stream",
     "text": [
      " 53%|█████▎    | 234/444 [45:39<1:58:16, 33.79s/it]"
     ]
    },
    {
     "name": "stdout",
     "output_type": "stream",
     "text": [
      "🎧 Transcribing audio_643.wav...\n"
     ]
    },
    {
     "name": "stderr",
     "output_type": "stream",
     "text": [
      " 53%|█████▎    | 235/444 [45:44<1:26:49, 24.93s/it]"
     ]
    },
    {
     "name": "stdout",
     "output_type": "stream",
     "text": [
      "🎧 Transcribing audio_675.wav...\n"
     ]
    },
    {
     "name": "stderr",
     "output_type": "stream",
     "text": [
      " 53%|█████▎    | 236/444 [45:49<1:06:07, 19.08s/it]"
     ]
    },
    {
     "name": "stdout",
     "output_type": "stream",
     "text": [
      "🎧 Transcribing audio_731.wav...\n"
     ]
    },
    {
     "name": "stderr",
     "output_type": "stream",
     "text": [
      " 53%|█████▎    | 237/444 [45:51<48:13, 13.98s/it]  "
     ]
    },
    {
     "name": "stdout",
     "output_type": "stream",
     "text": [
      "🎧 Transcribing audio_1191.wav...\n"
     ]
    },
    {
     "name": "stderr",
     "output_type": "stream",
     "text": [
      " 54%|█████▎    | 238/444 [45:57<39:55, 11.63s/it]"
     ]
    },
    {
     "name": "stdout",
     "output_type": "stream",
     "text": [
      "🎧 Transcribing audio_52.wav...\n"
     ]
    },
    {
     "name": "stderr",
     "output_type": "stream",
     "text": [
      " 54%|█████▍    | 239/444 [46:00<30:53,  9.04s/it]"
     ]
    },
    {
     "name": "stdout",
     "output_type": "stream",
     "text": [
      "🎧 Transcribing audio_504.wav...\n"
     ]
    },
    {
     "name": "stderr",
     "output_type": "stream",
     "text": [
      " 54%|█████▍    | 240/444 [46:48<1:09:51, 20.55s/it]"
     ]
    },
    {
     "name": "stdout",
     "output_type": "stream",
     "text": [
      "🎧 Transcribing audio_1112.wav...\n"
     ]
    },
    {
     "name": "stderr",
     "output_type": "stream",
     "text": [
      " 54%|█████▍    | 241/444 [46:51<52:03, 15.39s/it]  "
     ]
    },
    {
     "name": "stdout",
     "output_type": "stream",
     "text": [
      "🎧 Transcribing audio_875.wav...\n"
     ]
    },
    {
     "name": "stderr",
     "output_type": "stream",
     "text": [
      " 55%|█████▍    | 242/444 [46:57<41:57, 12.46s/it]"
     ]
    },
    {
     "name": "stdout",
     "output_type": "stream",
     "text": [
      "🎧 Transcribing audio_460.wav...\n"
     ]
    },
    {
     "name": "stderr",
     "output_type": "stream",
     "text": [
      " 55%|█████▍    | 243/444 [47:02<34:58, 10.44s/it]"
     ]
    },
    {
     "name": "stdout",
     "output_type": "stream",
     "text": [
      "🎧 Transcribing audio_1111.wav...\n"
     ]
    },
    {
     "name": "stderr",
     "output_type": "stream",
     "text": [
      " 55%|█████▍    | 244/444 [47:07<29:05,  8.73s/it]"
     ]
    },
    {
     "name": "stdout",
     "output_type": "stream",
     "text": [
      "🎧 Transcribing audio_736.wav...\n"
     ]
    },
    {
     "name": "stderr",
     "output_type": "stream",
     "text": [
      " 55%|█████▌    | 245/444 [47:13<25:41,  7.75s/it]"
     ]
    },
    {
     "name": "stdout",
     "output_type": "stream",
     "text": [
      "🎧 Transcribing audio_1333.wav...\n"
     ]
    },
    {
     "name": "stderr",
     "output_type": "stream",
     "text": [
      " 55%|█████▌    | 246/444 [47:16<21:44,  6.59s/it]"
     ]
    },
    {
     "name": "stdout",
     "output_type": "stream",
     "text": [
      "🎧 Transcribing audio_365.wav...\n"
     ]
    },
    {
     "name": "stderr",
     "output_type": "stream",
     "text": [
      " 56%|█████▌    | 247/444 [47:23<21:30,  6.55s/it]"
     ]
    },
    {
     "name": "stdout",
     "output_type": "stream",
     "text": [
      "🎧 Transcribing audio_937.wav...\n"
     ]
    },
    {
     "name": "stderr",
     "output_type": "stream",
     "text": [
      " 56%|█████▌    | 248/444 [47:30<21:42,  6.65s/it]"
     ]
    },
    {
     "name": "stdout",
     "output_type": "stream",
     "text": [
      "🎧 Transcribing audio_332.wav...\n"
     ]
    },
    {
     "name": "stderr",
     "output_type": "stream",
     "text": [
      " 56%|█████▌    | 249/444 [47:36<21:07,  6.50s/it]"
     ]
    },
    {
     "name": "stdout",
     "output_type": "stream",
     "text": [
      "🎧 Transcribing audio_1335.wav...\n"
     ]
    },
    {
     "name": "stderr",
     "output_type": "stream",
     "text": [
      " 56%|█████▋    | 250/444 [47:42<20:18,  6.28s/it]"
     ]
    },
    {
     "name": "stdout",
     "output_type": "stream",
     "text": [
      "🎧 Transcribing audio_681.wav...\n"
     ]
    },
    {
     "name": "stderr",
     "output_type": "stream",
     "text": [
      " 57%|█████▋    | 251/444 [47:47<19:01,  5.91s/it]"
     ]
    },
    {
     "name": "stdout",
     "output_type": "stream",
     "text": [
      "🎧 Transcribing audio_808.wav...\n"
     ]
    },
    {
     "name": "stderr",
     "output_type": "stream",
     "text": [
      " 57%|█████▋    | 252/444 [47:52<18:08,  5.67s/it]"
     ]
    },
    {
     "name": "stdout",
     "output_type": "stream",
     "text": [
      "🎧 Transcribing audio_766.wav...\n"
     ]
    },
    {
     "name": "stderr",
     "output_type": "stream",
     "text": [
      " 57%|█████▋    | 253/444 [47:57<17:57,  5.64s/it]"
     ]
    },
    {
     "name": "stdout",
     "output_type": "stream",
     "text": [
      "🎧 Transcribing audio_700.wav...\n"
     ]
    },
    {
     "name": "stderr",
     "output_type": "stream",
     "text": [
      " 57%|█████▋    | 254/444 [48:04<18:19,  5.79s/it]"
     ]
    },
    {
     "name": "stdout",
     "output_type": "stream",
     "text": [
      "🎧 Transcribing audio_1247.wav...\n"
     ]
    },
    {
     "name": "stderr",
     "output_type": "stream",
     "text": [
      " 57%|█████▋    | 255/444 [48:09<17:30,  5.56s/it]"
     ]
    },
    {
     "name": "stdout",
     "output_type": "stream",
     "text": [
      "🎧 Transcribing audio_686.wav...\n"
     ]
    },
    {
     "name": "stderr",
     "output_type": "stream",
     "text": [
      " 58%|█████▊    | 256/444 [48:14<17:31,  5.60s/it]"
     ]
    },
    {
     "name": "stdout",
     "output_type": "stream",
     "text": [
      "🎧 Transcribing audio_1313.wav...\n"
     ]
    },
    {
     "name": "stderr",
     "output_type": "stream",
     "text": [
      " 58%|█████▊    | 257/444 [48:20<17:14,  5.53s/it]"
     ]
    },
    {
     "name": "stdout",
     "output_type": "stream",
     "text": [
      "🎧 Transcribing audio_867.wav...\n"
     ]
    },
    {
     "name": "stderr",
     "output_type": "stream",
     "text": [
      " 58%|█████▊    | 258/444 [48:27<19:13,  6.20s/it]"
     ]
    },
    {
     "name": "stdout",
     "output_type": "stream",
     "text": [
      "🎧 Transcribing audio_939.wav...\n"
     ]
    },
    {
     "name": "stderr",
     "output_type": "stream",
     "text": [
      " 58%|█████▊    | 259/444 [48:32<17:19,  5.62s/it]"
     ]
    },
    {
     "name": "stdout",
     "output_type": "stream",
     "text": [
      "🎧 Transcribing audio_917.wav...\n"
     ]
    },
    {
     "name": "stderr",
     "output_type": "stream",
     "text": [
      " 59%|█████▊    | 260/444 [48:34<14:41,  4.79s/it]"
     ]
    },
    {
     "name": "stdout",
     "output_type": "stream",
     "text": [
      "🎧 Transcribing audio_620.wav...\n"
     ]
    },
    {
     "name": "stderr",
     "output_type": "stream",
     "text": [
      " 59%|█████▉    | 261/444 [49:07<39:54, 13.09s/it]"
     ]
    },
    {
     "name": "stdout",
     "output_type": "stream",
     "text": [
      "🎧 Transcribing audio_1099.wav...\n"
     ]
    },
    {
     "name": "stderr",
     "output_type": "stream",
     "text": [
      " 59%|█████▉    | 262/444 [49:15<34:44, 11.45s/it]"
     ]
    },
    {
     "name": "stdout",
     "output_type": "stream",
     "text": [
      "🎧 Transcribing audio_339.wav...\n"
     ]
    },
    {
     "name": "stderr",
     "output_type": "stream",
     "text": [
      " 59%|█████▉    | 263/444 [49:20<28:52,  9.57s/it]"
     ]
    },
    {
     "name": "stdout",
     "output_type": "stream",
     "text": [
      "🎧 Transcribing audio_1147.wav...\n"
     ]
    },
    {
     "name": "stderr",
     "output_type": "stream",
     "text": [
      " 59%|█████▉    | 264/444 [49:38<36:47, 12.26s/it]"
     ]
    },
    {
     "name": "stdout",
     "output_type": "stream",
     "text": [
      "🎧 Transcribing audio_921.wav...\n"
     ]
    },
    {
     "name": "stderr",
     "output_type": "stream",
     "text": [
      " 60%|█████▉    | 265/444 [49:45<31:09, 10.45s/it]"
     ]
    },
    {
     "name": "stdout",
     "output_type": "stream",
     "text": [
      "🎧 Transcribing audio_484.wav...\n"
     ]
    },
    {
     "name": "stderr",
     "output_type": "stream",
     "text": [
      " 60%|█████▉    | 266/444 [49:51<27:25,  9.25s/it]"
     ]
    },
    {
     "name": "stdout",
     "output_type": "stream",
     "text": [
      "🎧 Transcribing audio_745.wav...\n"
     ]
    },
    {
     "name": "stderr",
     "output_type": "stream",
     "text": [
      " 60%|██████    | 267/444 [50:23<47:13, 16.01s/it]"
     ]
    },
    {
     "name": "stdout",
     "output_type": "stream",
     "text": [
      "🎧 Transcribing audio_1274.wav...\n"
     ]
    },
    {
     "name": "stderr",
     "output_type": "stream",
     "text": [
      " 60%|██████    | 268/444 [50:29<38:21, 13.07s/it]"
     ]
    },
    {
     "name": "stdout",
     "output_type": "stream",
     "text": [
      "🎧 Transcribing audio_1326.wav...\n"
     ]
    },
    {
     "name": "stderr",
     "output_type": "stream",
     "text": [
      " 61%|██████    | 269/444 [50:36<32:45, 11.23s/it]"
     ]
    },
    {
     "name": "stdout",
     "output_type": "stream",
     "text": [
      "🎧 Transcribing audio_527.wav...\n"
     ]
    },
    {
     "name": "stderr",
     "output_type": "stream",
     "text": [
      " 61%|██████    | 270/444 [50:43<28:58,  9.99s/it]"
     ]
    },
    {
     "name": "stdout",
     "output_type": "stream",
     "text": [
      "🎧 Transcribing audio_948.wav...\n"
     ]
    },
    {
     "name": "stderr",
     "output_type": "stream",
     "text": [
      " 61%|██████    | 271/444 [50:49<25:00,  8.67s/it]"
     ]
    },
    {
     "name": "stdout",
     "output_type": "stream",
     "text": [
      "🎧 Transcribing audio_870.wav...\n"
     ]
    },
    {
     "name": "stderr",
     "output_type": "stream",
     "text": [
      " 61%|██████▏   | 272/444 [50:51<19:51,  6.93s/it]"
     ]
    },
    {
     "name": "stdout",
     "output_type": "stream",
     "text": [
      "🎧 Transcribing audio_362.wav...\n"
     ]
    },
    {
     "name": "stderr",
     "output_type": "stream",
     "text": [
      " 61%|██████▏   | 273/444 [51:11<30:51, 10.83s/it]"
     ]
    },
    {
     "name": "stdout",
     "output_type": "stream",
     "text": [
      "🎧 Transcribing audio_873.wav...\n"
     ]
    },
    {
     "name": "stderr",
     "output_type": "stream",
     "text": [
      " 62%|██████▏   | 274/444 [51:16<24:59,  8.82s/it]"
     ]
    },
    {
     "name": "stdout",
     "output_type": "stream",
     "text": [
      "🎧 Transcribing audio_482.wav...\n"
     ]
    },
    {
     "name": "stderr",
     "output_type": "stream",
     "text": [
      " 62%|██████▏   | 275/444 [51:21<22:25,  7.96s/it]"
     ]
    },
    {
     "name": "stdout",
     "output_type": "stream",
     "text": [
      "🎧 Transcribing audio_1307.wav...\n"
     ]
    },
    {
     "name": "stderr",
     "output_type": "stream",
     "text": [
      " 62%|██████▏   | 276/444 [51:26<19:24,  6.93s/it]"
     ]
    },
    {
     "name": "stdout",
     "output_type": "stream",
     "text": [
      "🎧 Transcribing audio_680.wav...\n"
     ]
    },
    {
     "name": "stderr",
     "output_type": "stream",
     "text": [
      " 62%|██████▏   | 277/444 [51:29<16:22,  5.88s/it]"
     ]
    },
    {
     "name": "stdout",
     "output_type": "stream",
     "text": [
      "🎧 Transcribing audio_140.wav...\n"
     ]
    },
    {
     "name": "stderr",
     "output_type": "stream",
     "text": [
      " 63%|██████▎   | 278/444 [51:35<16:11,  5.86s/it]"
     ]
    },
    {
     "name": "stdout",
     "output_type": "stream",
     "text": [
      "🎧 Transcribing audio_1196.wav...\n"
     ]
    },
    {
     "name": "stderr",
     "output_type": "stream",
     "text": [
      " 63%|██████▎   | 279/444 [51:40<15:36,  5.67s/it]"
     ]
    },
    {
     "name": "stdout",
     "output_type": "stream",
     "text": [
      "🎧 Transcribing audio_582.wav...\n"
     ]
    },
    {
     "name": "stderr",
     "output_type": "stream",
     "text": [
      " 63%|██████▎   | 280/444 [52:03<29:20, 10.74s/it]"
     ]
    },
    {
     "name": "stdout",
     "output_type": "stream",
     "text": [
      "🎧 Transcribing audio_17.wav...\n"
     ]
    },
    {
     "name": "stderr",
     "output_type": "stream",
     "text": [
      " 63%|██████▎   | 281/444 [52:07<23:45,  8.75s/it]"
     ]
    },
    {
     "name": "stdout",
     "output_type": "stream",
     "text": [
      "🎧 Transcribing audio_533.wav...\n"
     ]
    },
    {
     "name": "stderr",
     "output_type": "stream",
     "text": [
      " 64%|██████▎   | 282/444 [52:14<22:27,  8.32s/it]"
     ]
    },
    {
     "name": "stdout",
     "output_type": "stream",
     "text": [
      "🎧 Transcribing audio_154.wav...\n"
     ]
    },
    {
     "name": "stderr",
     "output_type": "stream",
     "text": [
      " 64%|██████▎   | 283/444 [52:29<27:20, 10.19s/it]"
     ]
    },
    {
     "name": "stdout",
     "output_type": "stream",
     "text": [
      "🎧 Transcribing audio_963.wav...\n"
     ]
    },
    {
     "name": "stderr",
     "output_type": "stream",
     "text": [
      " 64%|██████▍   | 284/444 [52:34<22:37,  8.48s/it]"
     ]
    },
    {
     "name": "stdout",
     "output_type": "stream",
     "text": [
      "🎧 Transcribing audio_926.wav...\n"
     ]
    },
    {
     "name": "stderr",
     "output_type": "stream",
     "text": [
      " 64%|██████▍   | 285/444 [53:07<42:00, 15.85s/it]"
     ]
    },
    {
     "name": "stdout",
     "output_type": "stream",
     "text": [
      "🎧 Transcribing audio_1264.wav...\n"
     ]
    },
    {
     "name": "stderr",
     "output_type": "stream",
     "text": [
      " 64%|██████▍   | 286/444 [55:16<2:11:11, 49.82s/it]"
     ]
    },
    {
     "name": "stdout",
     "output_type": "stream",
     "text": [
      "🎧 Transcribing audio_1102.wav...\n"
     ]
    },
    {
     "name": "stderr",
     "output_type": "stream",
     "text": [
      " 65%|██████▍   | 287/444 [55:21<1:35:29, 36.49s/it]"
     ]
    },
    {
     "name": "stdout",
     "output_type": "stream",
     "text": [
      "🎧 Transcribing audio_630.wav...\n"
     ]
    },
    {
     "name": "stderr",
     "output_type": "stream",
     "text": [
      " 65%|██████▍   | 288/444 [55:27<1:10:50, 27.25s/it]"
     ]
    },
    {
     "name": "stdout",
     "output_type": "stream",
     "text": [
      "🎧 Transcribing audio_730.wav...\n"
     ]
    },
    {
     "name": "stderr",
     "output_type": "stream",
     "text": [
      " 65%|██████▌   | 289/444 [55:33<54:11, 20.98s/it]  "
     ]
    },
    {
     "name": "stdout",
     "output_type": "stream",
     "text": [
      "🎧 Transcribing audio_317.wav...\n"
     ]
    },
    {
     "name": "stderr",
     "output_type": "stream",
     "text": [
      " 65%|██████▌   | 290/444 [55:36<39:56, 15.56s/it]"
     ]
    },
    {
     "name": "stdout",
     "output_type": "stream",
     "text": [
      "🎧 Transcribing audio_440.wav...\n"
     ]
    },
    {
     "name": "stderr",
     "output_type": "stream",
     "text": [
      " 66%|██████▌   | 291/444 [55:40<31:04, 12.19s/it]"
     ]
    },
    {
     "name": "stdout",
     "output_type": "stream",
     "text": [
      "🎧 Transcribing audio_611.wav...\n"
     ]
    },
    {
     "name": "stderr",
     "output_type": "stream",
     "text": [
      " 66%|██████▌   | 292/444 [56:00<36:13, 14.30s/it]"
     ]
    },
    {
     "name": "stdout",
     "output_type": "stream",
     "text": [
      "🎧 Transcribing audio_69.wav...\n"
     ]
    },
    {
     "name": "stderr",
     "output_type": "stream",
     "text": [
      " 66%|██████▌   | 293/444 [56:04<28:48, 11.45s/it]"
     ]
    },
    {
     "name": "stdout",
     "output_type": "stream",
     "text": [
      "🎧 Transcribing audio_64.wav...\n"
     ]
    },
    {
     "name": "stderr",
     "output_type": "stream",
     "text": [
      " 66%|██████▌   | 294/444 [56:09<23:52,  9.55s/it]"
     ]
    },
    {
     "name": "stdout",
     "output_type": "stream",
     "text": [
      "🎧 Transcribing audio_978.wav...\n"
     ]
    },
    {
     "name": "stderr",
     "output_type": "stream",
     "text": [
      " 66%|██████▋   | 295/444 [57:01<55:12, 22.23s/it]"
     ]
    },
    {
     "name": "stdout",
     "output_type": "stream",
     "text": [
      "🎧 Transcribing audio_494.wav...\n"
     ]
    },
    {
     "name": "stderr",
     "output_type": "stream",
     "text": [
      " 67%|██████▋   | 296/444 [57:07<42:59, 17.43s/it]"
     ]
    },
    {
     "name": "stdout",
     "output_type": "stream",
     "text": [
      "🎧 Transcribing audio_131.wav...\n"
     ]
    },
    {
     "name": "stderr",
     "output_type": "stream",
     "text": [
      " 67%|██████▋   | 297/444 [57:14<34:44, 14.18s/it]"
     ]
    },
    {
     "name": "stdout",
     "output_type": "stream",
     "text": [
      "🎧 Transcribing audio_336.wav...\n"
     ]
    },
    {
     "name": "stderr",
     "output_type": "stream",
     "text": [
      " 67%|██████▋   | 298/444 [57:20<28:28, 11.70s/it]"
     ]
    },
    {
     "name": "stdout",
     "output_type": "stream",
     "text": [
      "🎧 Transcribing audio_105.wav...\n"
     ]
    },
    {
     "name": "stderr",
     "output_type": "stream",
     "text": [
      " 67%|██████▋   | 299/444 [57:25<23:21,  9.67s/it]"
     ]
    },
    {
     "name": "stdout",
     "output_type": "stream",
     "text": [
      "🎧 Transcribing audio_395.wav...\n"
     ]
    },
    {
     "name": "stderr",
     "output_type": "stream",
     "text": [
      " 68%|██████▊   | 300/444 [57:30<20:12,  8.42s/it]"
     ]
    },
    {
     "name": "stdout",
     "output_type": "stream",
     "text": [
      "🎧 Transcribing audio_324.wav...\n"
     ]
    },
    {
     "name": "stderr",
     "output_type": "stream",
     "text": [
      " 68%|██████▊   | 301/444 [57:34<16:55,  7.10s/it]"
     ]
    },
    {
     "name": "stdout",
     "output_type": "stream",
     "text": [
      "🎧 Transcribing audio_358.wav...\n"
     ]
    },
    {
     "name": "stderr",
     "output_type": "stream",
     "text": [
      " 68%|██████▊   | 302/444 [59:00<1:12:25, 30.60s/it]"
     ]
    },
    {
     "name": "stdout",
     "output_type": "stream",
     "text": [
      "🎧 Transcribing audio_707.wav...\n"
     ]
    },
    {
     "name": "stderr",
     "output_type": "stream",
     "text": [
      " 68%|██████▊   | 303/444 [59:04<53:15, 22.67s/it]  "
     ]
    },
    {
     "name": "stdout",
     "output_type": "stream",
     "text": [
      "🎧 Transcribing audio_15.wav...\n"
     ]
    },
    {
     "name": "stderr",
     "output_type": "stream",
     "text": [
      " 68%|██████▊   | 304/444 [59:11<42:04, 18.03s/it]"
     ]
    },
    {
     "name": "stdout",
     "output_type": "stream",
     "text": [
      "🎧 Transcribing audio_63.wav...\n"
     ]
    },
    {
     "name": "stderr",
     "output_type": "stream",
     "text": [
      " 69%|██████▊   | 305/444 [59:17<33:25, 14.43s/it]"
     ]
    },
    {
     "name": "stdout",
     "output_type": "stream",
     "text": [
      "🎧 Transcribing audio_744.wav...\n"
     ]
    },
    {
     "name": "stderr",
     "output_type": "stream",
     "text": [
      " 69%|██████▉   | 306/444 [59:21<25:52, 11.25s/it]"
     ]
    },
    {
     "name": "stdout",
     "output_type": "stream",
     "text": [
      "🎧 Transcribing audio_1038.wav...\n"
     ]
    },
    {
     "name": "stderr",
     "output_type": "stream",
     "text": [
      " 69%|██████▉   | 307/444 [59:25<20:18,  8.90s/it]"
     ]
    },
    {
     "name": "stdout",
     "output_type": "stream",
     "text": [
      "🎧 Transcribing audio_167.wav...\n"
     ]
    },
    {
     "name": "stderr",
     "output_type": "stream",
     "text": [
      " 69%|██████▉   | 308/444 [59:30<18:03,  7.97s/it]"
     ]
    },
    {
     "name": "stdout",
     "output_type": "stream",
     "text": [
      "🎧 Transcribing audio_956.wav...\n"
     ]
    },
    {
     "name": "stderr",
     "output_type": "stream",
     "text": [
      " 70%|██████▉   | 309/444 [59:35<15:28,  6.87s/it]"
     ]
    },
    {
     "name": "stdout",
     "output_type": "stream",
     "text": [
      "🎧 Transcribing audio_716.wav...\n"
     ]
    },
    {
     "name": "stderr",
     "output_type": "stream",
     "text": [
      " 70%|██████▉   | 310/444 [59:38<12:57,  5.80s/it]"
     ]
    },
    {
     "name": "stdout",
     "output_type": "stream",
     "text": [
      "🎧 Transcribing audio_334.wav...\n"
     ]
    },
    {
     "name": "stderr",
     "output_type": "stream",
     "text": [
      " 70%|███████   | 311/444 [59:45<13:32,  6.11s/it]"
     ]
    },
    {
     "name": "stdout",
     "output_type": "stream",
     "text": [
      "🎧 Transcribing audio_868.wav...\n"
     ]
    },
    {
     "name": "stderr",
     "output_type": "stream",
     "text": [
      " 70%|███████   | 312/444 [59:50<13:05,  5.95s/it]"
     ]
    },
    {
     "name": "stdout",
     "output_type": "stream",
     "text": [
      "🎧 Transcribing audio_854.wav...\n"
     ]
    },
    {
     "name": "stderr",
     "output_type": "stream",
     "text": [
      " 70%|███████   | 313/444 [59:55<12:16,  5.62s/it]"
     ]
    },
    {
     "name": "stdout",
     "output_type": "stream",
     "text": [
      "🎧 Transcribing audio_245.wav...\n"
     ]
    },
    {
     "name": "stderr",
     "output_type": "stream",
     "text": [
      " 71%|███████   | 314/444 [59:59<11:03,  5.11s/it]"
     ]
    },
    {
     "name": "stdout",
     "output_type": "stream",
     "text": [
      "🎧 Transcribing audio_903.wav...\n"
     ]
    },
    {
     "name": "stderr",
     "output_type": "stream",
     "text": [
      " 71%|███████   | 315/444 [1:01:26<1:03:58, 29.76s/it]"
     ]
    },
    {
     "name": "stdout",
     "output_type": "stream",
     "text": [
      "🎧 Transcribing audio_834.wav...\n"
     ]
    },
    {
     "name": "stderr",
     "output_type": "stream",
     "text": [
      " 71%|███████   | 316/444 [1:01:33<48:46, 22.86s/it]  "
     ]
    },
    {
     "name": "stdout",
     "output_type": "stream",
     "text": [
      "🎧 Transcribing audio_1110.wav...\n"
     ]
    },
    {
     "name": "stderr",
     "output_type": "stream",
     "text": [
      " 71%|███████▏  | 317/444 [1:03:06<1:32:57, 43.92s/it]"
     ]
    },
    {
     "name": "stdout",
     "output_type": "stream",
     "text": [
      "🎧 Transcribing audio_432.wav...\n"
     ]
    },
    {
     "name": "stderr",
     "output_type": "stream",
     "text": [
      " 72%|███████▏  | 318/444 [1:03:11<1:07:34, 32.18s/it]"
     ]
    },
    {
     "name": "stdout",
     "output_type": "stream",
     "text": [
      "🎧 Transcribing audio_236.wav...\n"
     ]
    },
    {
     "name": "stderr",
     "output_type": "stream",
     "text": [
      " 72%|███████▏  | 319/444 [1:03:58<1:16:24, 36.68s/it]"
     ]
    },
    {
     "name": "stdout",
     "output_type": "stream",
     "text": [
      "🎧 Transcribing audio_1208.wav...\n"
     ]
    },
    {
     "name": "stderr",
     "output_type": "stream",
     "text": [
      " 72%|███████▏  | 320/444 [1:04:03<56:12, 27.20s/it]  "
     ]
    },
    {
     "name": "stdout",
     "output_type": "stream",
     "text": [
      "🎧 Transcribing audio_200.wav...\n"
     ]
    },
    {
     "name": "stderr",
     "output_type": "stream",
     "text": [
      " 72%|███████▏  | 321/444 [1:04:10<43:06, 21.03s/it]"
     ]
    },
    {
     "name": "stdout",
     "output_type": "stream",
     "text": [
      "🎧 Transcribing audio_1078.wav...\n"
     ]
    },
    {
     "name": "stderr",
     "output_type": "stream",
     "text": [
      " 73%|███████▎  | 322/444 [1:04:38<46:54, 23.07s/it]"
     ]
    },
    {
     "name": "stdout",
     "output_type": "stream",
     "text": [
      "🎧 Transcribing audio_1200.wav...\n"
     ]
    },
    {
     "name": "stderr",
     "output_type": "stream",
     "text": [
      " 73%|███████▎  | 323/444 [1:04:43<35:33, 17.63s/it]"
     ]
    },
    {
     "name": "stdout",
     "output_type": "stream",
     "text": [
      "🎧 Transcribing audio_353.wav...\n"
     ]
    },
    {
     "name": "stderr",
     "output_type": "stream",
     "text": [
      " 73%|███████▎  | 324/444 [1:04:48<27:42, 13.85s/it]"
     ]
    },
    {
     "name": "stdout",
     "output_type": "stream",
     "text": [
      "🎧 Transcribing audio_947.wav...\n"
     ]
    },
    {
     "name": "stderr",
     "output_type": "stream",
     "text": [
      " 73%|███████▎  | 325/444 [1:04:50<20:37, 10.40s/it]"
     ]
    },
    {
     "name": "stdout",
     "output_type": "stream",
     "text": [
      "🎧 Transcribing audio_212.wav...\n"
     ]
    },
    {
     "name": "stderr",
     "output_type": "stream",
     "text": [
      " 73%|███████▎  | 326/444 [1:04:56<17:48,  9.05s/it]"
     ]
    },
    {
     "name": "stdout",
     "output_type": "stream",
     "text": [
      "🎧 Transcribing audio_168.wav...\n"
     ]
    },
    {
     "name": "stderr",
     "output_type": "stream",
     "text": [
      " 74%|███████▎  | 327/444 [1:05:02<15:59,  8.20s/it]"
     ]
    },
    {
     "name": "stdout",
     "output_type": "stream",
     "text": [
      "🎧 Transcribing audio_352.wav...\n"
     ]
    },
    {
     "name": "stderr",
     "output_type": "stream",
     "text": [
      " 74%|███████▍  | 328/444 [1:05:09<15:05,  7.80s/it]"
     ]
    },
    {
     "name": "stdout",
     "output_type": "stream",
     "text": [
      "🎧 Transcribing audio_445.wav...\n"
     ]
    },
    {
     "name": "stderr",
     "output_type": "stream",
     "text": [
      " 74%|███████▍  | 329/444 [1:05:12<12:13,  6.38s/it]"
     ]
    },
    {
     "name": "stdout",
     "output_type": "stream",
     "text": [
      "🎧 Transcribing audio_419.wav...\n"
     ]
    },
    {
     "name": "stderr",
     "output_type": "stream",
     "text": [
      " 74%|███████▍  | 330/444 [1:05:19<12:23,  6.52s/it]"
     ]
    },
    {
     "name": "stdout",
     "output_type": "stream",
     "text": [
      "🎧 Transcribing audio_1332.wav...\n"
     ]
    },
    {
     "name": "stderr",
     "output_type": "stream",
     "text": [
      " 75%|███████▍  | 331/444 [1:05:26<12:31,  6.65s/it]"
     ]
    },
    {
     "name": "stdout",
     "output_type": "stream",
     "text": [
      "🎧 Transcribing audio_701.wav...\n"
     ]
    },
    {
     "name": "stderr",
     "output_type": "stream",
     "text": [
      " 75%|███████▍  | 332/444 [1:05:32<11:51,  6.35s/it]"
     ]
    },
    {
     "name": "stdout",
     "output_type": "stream",
     "text": [
      "🎧 Transcribing audio_117.wav...\n"
     ]
    },
    {
     "name": "stderr",
     "output_type": "stream",
     "text": [
      " 75%|███████▌  | 333/444 [1:05:38<11:38,  6.29s/it]"
     ]
    },
    {
     "name": "stdout",
     "output_type": "stream",
     "text": [
      "🎧 Transcribing audio_1059.wav...\n"
     ]
    },
    {
     "name": "stderr",
     "output_type": "stream",
     "text": [
      " 75%|███████▌  | 334/444 [1:08:31<1:43:28, 56.44s/it]"
     ]
    },
    {
     "name": "stdout",
     "output_type": "stream",
     "text": [
      "🎧 Transcribing audio_790.wav...\n"
     ]
    },
    {
     "name": "stderr",
     "output_type": "stream",
     "text": [
      " 75%|███████▌  | 335/444 [1:08:43<1:18:06, 43.00s/it]"
     ]
    },
    {
     "name": "stdout",
     "output_type": "stream",
     "text": [
      "🎧 Transcribing audio_390.wav...\n"
     ]
    },
    {
     "name": "stderr",
     "output_type": "stream",
     "text": [
      " 76%|███████▌  | 336/444 [1:08:49<57:45, 32.08s/it]  "
     ]
    },
    {
     "name": "stdout",
     "output_type": "stream",
     "text": [
      "🎧 Transcribing audio_586.wav...\n"
     ]
    },
    {
     "name": "stderr",
     "output_type": "stream",
     "text": [
      " 76%|███████▌  | 337/444 [1:09:42<1:08:23, 38.35s/it]"
     ]
    },
    {
     "name": "stdout",
     "output_type": "stream",
     "text": [
      "🎧 Transcribing audio_226.wav...\n"
     ]
    },
    {
     "name": "stderr",
     "output_type": "stream",
     "text": [
      " 76%|███████▌  | 338/444 [1:09:48<50:27, 28.56s/it]  "
     ]
    },
    {
     "name": "stdout",
     "output_type": "stream",
     "text": [
      "🎧 Transcribing audio_699.wav...\n"
     ]
    },
    {
     "name": "stderr",
     "output_type": "stream",
     "text": [
      " 76%|███████▋  | 339/444 [1:09:51<36:44, 20.99s/it]"
     ]
    },
    {
     "name": "stdout",
     "output_type": "stream",
     "text": [
      "🎧 Transcribing audio_363.wav...\n"
     ]
    },
    {
     "name": "stderr",
     "output_type": "stream",
     "text": [
      " 77%|███████▋  | 340/444 [1:09:55<27:23, 15.80s/it]"
     ]
    },
    {
     "name": "stdout",
     "output_type": "stream",
     "text": [
      "🎧 Transcribing audio_988.wav...\n"
     ]
    },
    {
     "name": "stderr",
     "output_type": "stream",
     "text": [
      " 77%|███████▋  | 341/444 [1:10:00<21:28, 12.51s/it]"
     ]
    },
    {
     "name": "stdout",
     "output_type": "stream",
     "text": [
      "🎧 Transcribing audio_485.wav...\n"
     ]
    },
    {
     "name": "stderr",
     "output_type": "stream",
     "text": [
      " 77%|███████▋  | 342/444 [1:10:04<16:58,  9.98s/it]"
     ]
    },
    {
     "name": "stdout",
     "output_type": "stream",
     "text": [
      "🎧 Transcribing audio_241.wav...\n"
     ]
    },
    {
     "name": "stderr",
     "output_type": "stream",
     "text": [
      " 77%|███████▋  | 343/444 [1:10:11<15:11,  9.03s/it]"
     ]
    },
    {
     "name": "stdout",
     "output_type": "stream",
     "text": [
      "🎧 Transcribing audio_481.wav...\n"
     ]
    },
    {
     "name": "stderr",
     "output_type": "stream",
     "text": [
      " 77%|███████▋  | 344/444 [1:10:16<13:09,  7.90s/it]"
     ]
    },
    {
     "name": "stdout",
     "output_type": "stream",
     "text": [
      "🎧 Transcribing audio_652.wav...\n"
     ]
    },
    {
     "name": "stderr",
     "output_type": "stream",
     "text": [
      " 78%|███████▊  | 345/444 [1:10:20<11:02,  6.69s/it]"
     ]
    },
    {
     "name": "stdout",
     "output_type": "stream",
     "text": [
      "🎧 Transcribing audio_424.wav...\n"
     ]
    },
    {
     "name": "stderr",
     "output_type": "stream",
     "text": [
      " 78%|███████▊  | 346/444 [1:10:33<14:10,  8.68s/it]"
     ]
    },
    {
     "name": "stdout",
     "output_type": "stream",
     "text": [
      "🎧 Transcribing audio_483.wav...\n"
     ]
    },
    {
     "name": "stderr",
     "output_type": "stream",
     "text": [
      " 78%|███████▊  | 347/444 [1:11:12<28:42, 17.76s/it]"
     ]
    },
    {
     "name": "stdout",
     "output_type": "stream",
     "text": [
      "🎧 Transcribing audio_1017.wav...\n"
     ]
    },
    {
     "name": "stderr",
     "output_type": "stream",
     "text": [
      " 78%|███████▊  | 348/444 [1:11:18<22:49, 14.27s/it]"
     ]
    },
    {
     "name": "stdout",
     "output_type": "stream",
     "text": [
      "🎧 Transcribing audio_890.wav...\n"
     ]
    },
    {
     "name": "stderr",
     "output_type": "stream",
     "text": [
      " 79%|███████▊  | 349/444 [1:11:24<18:28, 11.67s/it]"
     ]
    },
    {
     "name": "stdout",
     "output_type": "stream",
     "text": [
      "🎧 Transcribing audio_1065.wav...\n"
     ]
    },
    {
     "name": "stderr",
     "output_type": "stream",
     "text": [
      " 79%|███████▉  | 350/444 [1:11:31<16:17, 10.40s/it]"
     ]
    },
    {
     "name": "stdout",
     "output_type": "stream",
     "text": [
      "🎧 Transcribing audio_787.wav...\n"
     ]
    },
    {
     "name": "stderr",
     "output_type": "stream",
     "text": [
      " 79%|███████▉  | 351/444 [1:11:37<13:49,  8.92s/it]"
     ]
    },
    {
     "name": "stdout",
     "output_type": "stream",
     "text": [
      "🎧 Transcribing audio_627.wav...\n"
     ]
    },
    {
     "name": "stderr",
     "output_type": "stream",
     "text": [
      " 79%|███████▉  | 352/444 [1:11:43<12:28,  8.13s/it]"
     ]
    },
    {
     "name": "stdout",
     "output_type": "stream",
     "text": [
      "🎧 Transcribing audio_1290.wav...\n"
     ]
    },
    {
     "name": "stderr",
     "output_type": "stream",
     "text": [
      " 80%|███████▉  | 353/444 [1:11:47<10:27,  6.90s/it]"
     ]
    },
    {
     "name": "stdout",
     "output_type": "stream",
     "text": [
      "🎧 Transcribing audio_758.wav...\n"
     ]
    },
    {
     "name": "stderr",
     "output_type": "stream",
     "text": [
      " 80%|███████▉  | 354/444 [1:11:53<10:03,  6.70s/it]"
     ]
    },
    {
     "name": "stdout",
     "output_type": "stream",
     "text": [
      "🎧 Transcribing audio_1314.wav...\n"
     ]
    },
    {
     "name": "stderr",
     "output_type": "stream",
     "text": [
      " 80%|███████▉  | 355/444 [1:11:58<09:09,  6.17s/it]"
     ]
    },
    {
     "name": "stdout",
     "output_type": "stream",
     "text": [
      "🎧 Transcribing audio_272.wav...\n"
     ]
    },
    {
     "name": "stderr",
     "output_type": "stream",
     "text": [
      " 80%|████████  | 356/444 [1:12:04<08:57,  6.10s/it]"
     ]
    },
    {
     "name": "stdout",
     "output_type": "stream",
     "text": [
      "🎧 Transcribing audio_687.wav...\n"
     ]
    },
    {
     "name": "stderr",
     "output_type": "stream",
     "text": [
      " 80%|████████  | 357/444 [1:12:08<07:57,  5.49s/it]"
     ]
    },
    {
     "name": "stdout",
     "output_type": "stream",
     "text": [
      "🎧 Transcribing audio_809.wav...\n"
     ]
    },
    {
     "name": "stderr",
     "output_type": "stream",
     "text": [
      " 81%|████████  | 358/444 [1:12:13<07:39,  5.34s/it]"
     ]
    },
    {
     "name": "stdout",
     "output_type": "stream",
     "text": [
      "🎧 Transcribing audio_312.wav...\n"
     ]
    },
    {
     "name": "stderr",
     "output_type": "stream",
     "text": [
      " 81%|████████  | 359/444 [1:12:21<08:22,  5.91s/it]"
     ]
    },
    {
     "name": "stdout",
     "output_type": "stream",
     "text": [
      "🎧 Transcribing audio_902.wav...\n"
     ]
    },
    {
     "name": "stderr",
     "output_type": "stream",
     "text": [
      " 81%|████████  | 360/444 [1:12:23<06:36,  4.72s/it]"
     ]
    },
    {
     "name": "stdout",
     "output_type": "stream",
     "text": [
      "🎧 Transcribing audio_1296.wav...\n"
     ]
    },
    {
     "name": "stderr",
     "output_type": "stream",
     "text": [
      " 81%|████████▏ | 361/444 [1:12:29<07:15,  5.24s/it]"
     ]
    },
    {
     "name": "stdout",
     "output_type": "stream",
     "text": [
      "🎧 Transcribing audio_147.wav...\n"
     ]
    },
    {
     "name": "stderr",
     "output_type": "stream",
     "text": [
      " 82%|████████▏ | 362/444 [1:12:35<07:38,  5.59s/it]"
     ]
    },
    {
     "name": "stdout",
     "output_type": "stream",
     "text": [
      "🎧 Transcribing audio_783.wav...\n"
     ]
    },
    {
     "name": "stderr",
     "output_type": "stream",
     "text": [
      " 82%|████████▏ | 363/444 [1:12:42<08:08,  6.04s/it]"
     ]
    },
    {
     "name": "stdout",
     "output_type": "stream",
     "text": [
      "🎧 Transcribing audio_144.wav...\n"
     ]
    },
    {
     "name": "stderr",
     "output_type": "stream",
     "text": [
      " 82%|████████▏ | 364/444 [1:13:14<18:11, 13.64s/it]"
     ]
    },
    {
     "name": "stdout",
     "output_type": "stream",
     "text": [
      "🎧 Transcribing audio_373.wav...\n"
     ]
    },
    {
     "name": "stderr",
     "output_type": "stream",
     "text": [
      " 82%|████████▏ | 365/444 [1:13:28<17:57, 13.64s/it]"
     ]
    },
    {
     "name": "stdout",
     "output_type": "stream",
     "text": [
      "🎧 Transcribing audio_887.wav...\n"
     ]
    },
    {
     "name": "stderr",
     "output_type": "stream",
     "text": [
      " 82%|████████▏ | 366/444 [1:13:35<15:08, 11.65s/it]"
     ]
    },
    {
     "name": "stdout",
     "output_type": "stream",
     "text": [
      "🎧 Transcribing audio_443.wav...\n"
     ]
    },
    {
     "name": "stderr",
     "output_type": "stream",
     "text": [
      " 83%|████████▎ | 367/444 [1:13:39<12:15,  9.55s/it]"
     ]
    },
    {
     "name": "stdout",
     "output_type": "stream",
     "text": [
      "🎧 Transcribing audio_350.wav...\n"
     ]
    },
    {
     "name": "stderr",
     "output_type": "stream",
     "text": [
      " 83%|████████▎ | 368/444 [1:13:45<10:50,  8.56s/it]"
     ]
    },
    {
     "name": "stdout",
     "output_type": "stream",
     "text": [
      "🎧 Transcribing audio_503.wav...\n"
     ]
    },
    {
     "name": "stderr",
     "output_type": "stream",
     "text": [
      " 83%|████████▎ | 369/444 [1:13:53<10:23,  8.32s/it]"
     ]
    },
    {
     "name": "stdout",
     "output_type": "stream",
     "text": [
      "🎧 Transcribing audio_62.wav...\n"
     ]
    },
    {
     "name": "stderr",
     "output_type": "stream",
     "text": [
      " 83%|████████▎ | 370/444 [1:13:59<09:11,  7.45s/it]"
     ]
    },
    {
     "name": "stdout",
     "output_type": "stream",
     "text": [
      "🎧 Transcribing audio_402.wav...\n"
     ]
    },
    {
     "name": "stderr",
     "output_type": "stream",
     "text": [
      " 84%|████████▎ | 371/444 [1:14:03<07:54,  6.51s/it]"
     ]
    },
    {
     "name": "stdout",
     "output_type": "stream",
     "text": [
      "🎧 Transcribing audio_1031.wav...\n"
     ]
    },
    {
     "name": "stderr",
     "output_type": "stream",
     "text": [
      " 84%|████████▍ | 372/444 [1:14:07<06:49,  5.69s/it]"
     ]
    },
    {
     "name": "stdout",
     "output_type": "stream",
     "text": [
      "🎧 Transcribing audio_116.wav...\n"
     ]
    },
    {
     "name": "stderr",
     "output_type": "stream",
     "text": [
      " 84%|████████▍ | 373/444 [1:14:10<06:01,  5.10s/it]"
     ]
    },
    {
     "name": "stdout",
     "output_type": "stream",
     "text": [
      "🎧 Transcribing audio_693.wav...\n"
     ]
    },
    {
     "name": "stderr",
     "output_type": "stream",
     "text": [
      " 84%|████████▍ | 374/444 [1:14:17<06:20,  5.44s/it]"
     ]
    },
    {
     "name": "stdout",
     "output_type": "stream",
     "text": [
      "🎧 Transcribing audio_477.wav...\n"
     ]
    },
    {
     "name": "stderr",
     "output_type": "stream",
     "text": [
      " 84%|████████▍ | 375/444 [1:14:21<05:46,  5.02s/it]"
     ]
    },
    {
     "name": "stdout",
     "output_type": "stream",
     "text": [
      "🎧 Transcribing audio_413.wav...\n"
     ]
    },
    {
     "name": "stderr",
     "output_type": "stream",
     "text": [
      " 85%|████████▍ | 376/444 [1:14:54<15:26, 13.62s/it]"
     ]
    },
    {
     "name": "stdout",
     "output_type": "stream",
     "text": [
      "🎧 Transcribing audio_1025.wav...\n"
     ]
    },
    {
     "name": "stderr",
     "output_type": "stream",
     "text": [
      " 85%|████████▍ | 377/444 [1:15:00<12:31, 11.22s/it]"
     ]
    },
    {
     "name": "stdout",
     "output_type": "stream",
     "text": [
      "🎧 Transcribing audio_123.wav...\n"
     ]
    },
    {
     "name": "stderr",
     "output_type": "stream",
     "text": [
      " 85%|████████▌ | 378/444 [1:15:27<17:39, 16.05s/it]"
     ]
    },
    {
     "name": "stdout",
     "output_type": "stream",
     "text": [
      "🎧 Transcribing audio_133.wav...\n"
     ]
    },
    {
     "name": "stderr",
     "output_type": "stream",
     "text": [
      " 85%|████████▌ | 379/444 [1:15:32<13:42, 12.65s/it]"
     ]
    },
    {
     "name": "stdout",
     "output_type": "stream",
     "text": [
      "🎧 Transcribing audio_647.wav...\n"
     ]
    },
    {
     "name": "stderr",
     "output_type": "stream",
     "text": [
      " 86%|████████▌ | 380/444 [1:15:38<11:28, 10.75s/it]"
     ]
    },
    {
     "name": "stdout",
     "output_type": "stream",
     "text": [
      "🎧 Transcribing audio_1223.wav...\n"
     ]
    },
    {
     "name": "stderr",
     "output_type": "stream",
     "text": [
      " 86%|████████▌ | 381/444 [1:15:42<09:09,  8.72s/it]"
     ]
    },
    {
     "name": "stdout",
     "output_type": "stream",
     "text": [
      "🎧 Transcribing audio_980.wav...\n"
     ]
    },
    {
     "name": "stderr",
     "output_type": "stream",
     "text": [
      " 86%|████████▌ | 382/444 [1:15:47<07:52,  7.63s/it]"
     ]
    },
    {
     "name": "stdout",
     "output_type": "stream",
     "text": [
      "🎧 Transcribing audio_755.wav...\n"
     ]
    },
    {
     "name": "stderr",
     "output_type": "stream",
     "text": [
      " 86%|████████▋ | 383/444 [1:15:52<06:44,  6.64s/it]"
     ]
    },
    {
     "name": "stdout",
     "output_type": "stream",
     "text": [
      "🎧 Transcribing audio_869.wav...\n"
     ]
    },
    {
     "name": "stderr",
     "output_type": "stream",
     "text": [
      " 86%|████████▋ | 384/444 [1:15:56<06:03,  6.06s/it]"
     ]
    },
    {
     "name": "stdout",
     "output_type": "stream",
     "text": [
      "🎧 Transcribing audio_1148.wav...\n"
     ]
    },
    {
     "name": "stderr",
     "output_type": "stream",
     "text": [
      " 87%|████████▋ | 385/444 [1:16:02<05:44,  5.83s/it]"
     ]
    },
    {
     "name": "stdout",
     "output_type": "stream",
     "text": [
      "🎧 Transcribing audio_685.wav...\n"
     ]
    },
    {
     "name": "stderr",
     "output_type": "stream",
     "text": [
      " 87%|████████▋ | 386/444 [1:16:07<05:35,  5.79s/it]"
     ]
    },
    {
     "name": "stdout",
     "output_type": "stream",
     "text": [
      "🎧 Transcribing audio_678.wav...\n"
     ]
    },
    {
     "name": "stderr",
     "output_type": "stream",
     "text": [
      " 87%|████████▋ | 387/444 [1:16:12<05:11,  5.46s/it]"
     ]
    },
    {
     "name": "stdout",
     "output_type": "stream",
     "text": [
      "🎧 Transcribing audio_53.wav...\n"
     ]
    },
    {
     "name": "stderr",
     "output_type": "stream",
     "text": [
      " 87%|████████▋ | 388/444 [1:16:25<07:09,  7.67s/it]"
     ]
    },
    {
     "name": "stdout",
     "output_type": "stream",
     "text": [
      "🎧 Transcribing audio_1184.wav...\n"
     ]
    },
    {
     "name": "stderr",
     "output_type": "stream",
     "text": [
      " 88%|████████▊ | 389/444 [1:16:28<05:40,  6.20s/it]"
     ]
    },
    {
     "name": "stdout",
     "output_type": "stream",
     "text": [
      "🎧 Transcribing audio_552.wav...\n"
     ]
    },
    {
     "name": "stderr",
     "output_type": "stream",
     "text": [
      " 88%|████████▊ | 390/444 [1:16:33<05:24,  6.01s/it]"
     ]
    },
    {
     "name": "stdout",
     "output_type": "stream",
     "text": [
      "🎧 Transcribing audio_1216.wav...\n"
     ]
    },
    {
     "name": "stderr",
     "output_type": "stream",
     "text": [
      " 88%|████████▊ | 391/444 [1:16:38<04:58,  5.63s/it]"
     ]
    },
    {
     "name": "stdout",
     "output_type": "stream",
     "text": [
      "🎧 Transcribing audio_1185.wav...\n"
     ]
    },
    {
     "name": "stderr",
     "output_type": "stream",
     "text": [
      " 88%|████████▊ | 392/444 [1:16:44<05:01,  5.80s/it]"
     ]
    },
    {
     "name": "stdout",
     "output_type": "stream",
     "text": [
      "🎧 Transcribing audio_918.wav...\n"
     ]
    },
    {
     "name": "stderr",
     "output_type": "stream",
     "text": [
      " 89%|████████▊ | 393/444 [1:17:12<10:33, 12.42s/it]"
     ]
    },
    {
     "name": "stdout",
     "output_type": "stream",
     "text": [
      "🎧 Transcribing audio_250.wav...\n"
     ]
    },
    {
     "name": "stderr",
     "output_type": "stream",
     "text": [
      " 89%|████████▊ | 394/444 [1:17:25<10:22, 12.45s/it]"
     ]
    },
    {
     "name": "stdout",
     "output_type": "stream",
     "text": [
      "🎧 Transcribing audio_721.wav...\n"
     ]
    },
    {
     "name": "stderr",
     "output_type": "stream",
     "text": [
      " 89%|████████▉ | 395/444 [1:17:30<08:23, 10.28s/it]"
     ]
    },
    {
     "name": "stdout",
     "output_type": "stream",
     "text": [
      "🎧 Transcribing audio_624.wav...\n"
     ]
    },
    {
     "name": "stderr",
     "output_type": "stream",
     "text": [
      " 89%|████████▉ | 396/444 [1:17:35<07:00,  8.75s/it]"
     ]
    },
    {
     "name": "stdout",
     "output_type": "stream",
     "text": [
      "🎧 Transcribing audio_43.wav...\n"
     ]
    },
    {
     "name": "stderr",
     "output_type": "stream",
     "text": [
      " 89%|████████▉ | 397/444 [1:18:01<10:56, 13.97s/it]"
     ]
    },
    {
     "name": "stdout",
     "output_type": "stream",
     "text": [
      "🎧 Transcribing audio_889.wav...\n"
     ]
    },
    {
     "name": "stderr",
     "output_type": "stream",
     "text": [
      " 90%|████████▉ | 398/444 [1:18:33<14:51, 19.38s/it]"
     ]
    },
    {
     "name": "stdout",
     "output_type": "stream",
     "text": [
      "🎧 Transcribing audio_184.wav...\n"
     ]
    },
    {
     "name": "stderr",
     "output_type": "stream",
     "text": [
      " 90%|████████▉ | 399/444 [1:18:40<11:39, 15.54s/it]"
     ]
    },
    {
     "name": "stdout",
     "output_type": "stream",
     "text": [
      "🎧 Transcribing audio_842.wav...\n"
     ]
    },
    {
     "name": "stderr",
     "output_type": "stream",
     "text": [
      " 90%|█████████ | 400/444 [1:18:45<09:09, 12.49s/it]"
     ]
    },
    {
     "name": "stdout",
     "output_type": "stream",
     "text": [
      "🎧 Transcribing audio_1125.wav...\n"
     ]
    },
    {
     "name": "stderr",
     "output_type": "stream",
     "text": [
      " 90%|█████████ | 401/444 [1:18:51<07:32, 10.53s/it]"
     ]
    },
    {
     "name": "stdout",
     "output_type": "stream",
     "text": [
      "🎧 Transcribing audio_9.wav...\n"
     ]
    },
    {
     "name": "stderr",
     "output_type": "stream",
     "text": [
      " 91%|█████████ | 402/444 [1:18:54<05:52,  8.38s/it]"
     ]
    },
    {
     "name": "stdout",
     "output_type": "stream",
     "text": [
      "🎧 Transcribing audio_455.wav...\n"
     ]
    },
    {
     "name": "stderr",
     "output_type": "stream",
     "text": [
      " 91%|█████████ | 403/444 [1:20:13<20:08, 29.49s/it]"
     ]
    },
    {
     "name": "stdout",
     "output_type": "stream",
     "text": [
      "🎧 Transcribing audio_1160.wav...\n"
     ]
    },
    {
     "name": "stderr",
     "output_type": "stream",
     "text": [
      " 91%|█████████ | 404/444 [1:21:03<23:41, 35.53s/it]"
     ]
    },
    {
     "name": "stdout",
     "output_type": "stream",
     "text": [
      "🎧 Transcribing audio_913.wav...\n"
     ]
    },
    {
     "name": "stderr",
     "output_type": "stream",
     "text": [
      " 91%|█████████ | 405/444 [1:22:32<33:33, 51.63s/it]"
     ]
    },
    {
     "name": "stdout",
     "output_type": "stream",
     "text": [
      "🎧 Transcribing audio_493.wav...\n"
     ]
    },
    {
     "name": "stderr",
     "output_type": "stream",
     "text": [
      " 91%|█████████▏| 406/444 [1:22:36<23:44, 37.49s/it]"
     ]
    },
    {
     "name": "stdout",
     "output_type": "stream",
     "text": [
      "🎧 Transcribing audio_704.wav...\n"
     ]
    },
    {
     "name": "stderr",
     "output_type": "stream",
     "text": [
      " 92%|█████████▏| 407/444 [1:22:52<19:04, 30.94s/it]"
     ]
    },
    {
     "name": "stdout",
     "output_type": "stream",
     "text": [
      "🎧 Transcribing audio_548.wav...\n"
     ]
    },
    {
     "name": "stderr",
     "output_type": "stream",
     "text": [
      " 92%|█████████▏| 408/444 [1:23:18<17:35, 29.31s/it]"
     ]
    },
    {
     "name": "stdout",
     "output_type": "stream",
     "text": [
      "🎧 Transcribing audio_1230.wav...\n"
     ]
    },
    {
     "name": "stderr",
     "output_type": "stream",
     "text": [
      " 92%|█████████▏| 409/444 [1:23:22<12:42, 21.79s/it]"
     ]
    },
    {
     "name": "stdout",
     "output_type": "stream",
     "text": [
      "🎧 Transcribing audio_961.wav...\n"
     ]
    },
    {
     "name": "stderr",
     "output_type": "stream",
     "text": [
      " 92%|█████████▏| 410/444 [1:23:28<09:38, 17.01s/it]"
     ]
    },
    {
     "name": "stdout",
     "output_type": "stream",
     "text": [
      "🎧 Transcribing audio_832.wav...\n"
     ]
    },
    {
     "name": "stderr",
     "output_type": "stream",
     "text": [
      " 93%|█████████▎| 411/444 [1:23:32<07:14, 13.16s/it]"
     ]
    },
    {
     "name": "stdout",
     "output_type": "stream",
     "text": [
      "🎧 Transcribing audio_33.wav...\n"
     ]
    },
    {
     "name": "stderr",
     "output_type": "stream",
     "text": [
      " 93%|█████████▎| 412/444 [1:23:38<05:51, 10.97s/it]"
     ]
    },
    {
     "name": "stdout",
     "output_type": "stream",
     "text": [
      "🎧 Transcribing audio_896.wav...\n"
     ]
    },
    {
     "name": "stderr",
     "output_type": "stream",
     "text": [
      " 93%|█████████▎| 413/444 [1:24:28<11:43, 22.68s/it]"
     ]
    },
    {
     "name": "stdout",
     "output_type": "stream",
     "text": [
      "🎧 Transcribing audio_827.wav...\n"
     ]
    },
    {
     "name": "stderr",
     "output_type": "stream",
     "text": [
      " 93%|█████████▎| 414/444 [1:24:54<11:51, 23.71s/it]"
     ]
    },
    {
     "name": "stdout",
     "output_type": "stream",
     "text": [
      "🎧 Transcribing audio_748.wav...\n"
     ]
    },
    {
     "name": "stderr",
     "output_type": "stream",
     "text": [
      " 93%|█████████▎| 415/444 [1:24:59<08:47, 18.19s/it]"
     ]
    },
    {
     "name": "stdout",
     "output_type": "stream",
     "text": [
      "🎧 Transcribing audio_658.wav...\n"
     ]
    },
    {
     "name": "stderr",
     "output_type": "stream",
     "text": [
      " 94%|█████████▎| 416/444 [1:25:03<06:31, 13.98s/it]"
     ]
    },
    {
     "name": "stdout",
     "output_type": "stream",
     "text": [
      "🎧 Transcribing audio_471.wav...\n"
     ]
    },
    {
     "name": "stderr",
     "output_type": "stream",
     "text": [
      " 94%|█████████▍| 417/444 [1:25:10<05:18, 11.80s/it]"
     ]
    },
    {
     "name": "stdout",
     "output_type": "stream",
     "text": [
      "🎧 Transcribing audio_1117.wav...\n"
     ]
    },
    {
     "name": "stderr",
     "output_type": "stream",
     "text": [
      " 94%|█████████▍| 418/444 [1:25:14<04:08,  9.54s/it]"
     ]
    },
    {
     "name": "stdout",
     "output_type": "stream",
     "text": [
      "🎧 Transcribing audio_270.wav...\n"
     ]
    },
    {
     "name": "stderr",
     "output_type": "stream",
     "text": [
      " 94%|█████████▍| 419/444 [1:25:21<03:34,  8.57s/it]"
     ]
    },
    {
     "name": "stdout",
     "output_type": "stream",
     "text": [
      "🎧 Transcribing audio_301.wav...\n"
     ]
    },
    {
     "name": "stderr",
     "output_type": "stream",
     "text": [
      " 95%|█████████▍| 420/444 [1:25:26<03:01,  7.58s/it]"
     ]
    },
    {
     "name": "stdout",
     "output_type": "stream",
     "text": [
      "🎧 Transcribing audio_576.wav...\n"
     ]
    },
    {
     "name": "stderr",
     "output_type": "stream",
     "text": [
      " 95%|█████████▍| 421/444 [1:25:29<02:26,  6.35s/it]"
     ]
    },
    {
     "name": "stdout",
     "output_type": "stream",
     "text": [
      "🎧 Transcribing audio_649.wav...\n"
     ]
    },
    {
     "name": "stderr",
     "output_type": "stream",
     "text": [
      " 95%|█████████▌| 422/444 [1:25:37<02:24,  6.58s/it]"
     ]
    },
    {
     "name": "stdout",
     "output_type": "stream",
     "text": [
      "🎧 Transcribing audio_1261.wav...\n"
     ]
    },
    {
     "name": "stderr",
     "output_type": "stream",
     "text": [
      " 95%|█████████▌| 423/444 [1:25:40<01:56,  5.55s/it]"
     ]
    },
    {
     "name": "stdout",
     "output_type": "stream",
     "text": [
      "🎧 Transcribing audio_640.wav...\n"
     ]
    },
    {
     "name": "stderr",
     "output_type": "stream",
     "text": [
      " 95%|█████████▌| 424/444 [1:25:43<01:37,  4.86s/it]"
     ]
    },
    {
     "name": "stdout",
     "output_type": "stream",
     "text": [
      "🎧 Transcribing audio_636.wav...\n"
     ]
    },
    {
     "name": "stderr",
     "output_type": "stream",
     "text": [
      " 96%|█████████▌| 425/444 [1:25:48<01:35,  5.01s/it]"
     ]
    },
    {
     "name": "stdout",
     "output_type": "stream",
     "text": [
      "🎧 Transcribing audio_1272.wav...\n"
     ]
    },
    {
     "name": "stderr",
     "output_type": "stream",
     "text": [
      " 96%|█████████▌| 426/444 [1:25:54<01:36,  5.35s/it]"
     ]
    },
    {
     "name": "stdout",
     "output_type": "stream",
     "text": [
      "🎧 Transcribing audio_1135.wav...\n"
     ]
    },
    {
     "name": "stderr",
     "output_type": "stream",
     "text": [
      " 96%|█████████▌| 427/444 [1:26:00<01:30,  5.31s/it]"
     ]
    },
    {
     "name": "stdout",
     "output_type": "stream",
     "text": [
      "🎧 Transcribing audio_74.wav...\n"
     ]
    },
    {
     "name": "stderr",
     "output_type": "stream",
     "text": [
      " 96%|█████████▋| 428/444 [1:26:06<01:28,  5.55s/it]"
     ]
    },
    {
     "name": "stdout",
     "output_type": "stream",
     "text": [
      "🎧 Transcribing audio_983.wav...\n"
     ]
    },
    {
     "name": "stderr",
     "output_type": "stream",
     "text": [
      " 97%|█████████▋| 429/444 [1:26:40<03:32, 14.17s/it]"
     ]
    },
    {
     "name": "stdout",
     "output_type": "stream",
     "text": [
      "🎧 Transcribing audio_993.wav...\n"
     ]
    },
    {
     "name": "stderr",
     "output_type": "stream",
     "text": [
      " 97%|█████████▋| 430/444 [1:27:11<04:27, 19.10s/it]"
     ]
    },
    {
     "name": "stdout",
     "output_type": "stream",
     "text": [
      "🎧 Transcribing audio_480.wav...\n"
     ]
    },
    {
     "name": "stderr",
     "output_type": "stream",
     "text": [
      " 97%|█████████▋| 431/444 [1:27:27<03:57, 18.24s/it]"
     ]
    },
    {
     "name": "stdout",
     "output_type": "stream",
     "text": [
      "🎧 Transcribing audio_1298.wav...\n"
     ]
    },
    {
     "name": "stderr",
     "output_type": "stream",
     "text": [
      " 97%|█████████▋| 432/444 [1:27:31<02:46, 13.90s/it]"
     ]
    },
    {
     "name": "stdout",
     "output_type": "stream",
     "text": [
      "🎧 Transcribing audio_876.wav...\n"
     ]
    },
    {
     "name": "stderr",
     "output_type": "stream",
     "text": [
      " 98%|█████████▊| 433/444 [1:27:37<02:08, 11.64s/it]"
     ]
    },
    {
     "name": "stdout",
     "output_type": "stream",
     "text": [
      "🎧 Transcribing audio_794.wav...\n"
     ]
    },
    {
     "name": "stderr",
     "output_type": "stream",
     "text": [
      " 98%|█████████▊| 434/444 [1:27:43<01:38,  9.80s/it]"
     ]
    },
    {
     "name": "stdout",
     "output_type": "stream",
     "text": [
      "🎧 Transcribing audio_163.wav...\n"
     ]
    },
    {
     "name": "stderr",
     "output_type": "stream",
     "text": [
      " 98%|█████████▊| 435/444 [1:27:48<01:17,  8.57s/it]"
     ]
    },
    {
     "name": "stdout",
     "output_type": "stream",
     "text": [
      "🎧 Transcribing audio_450.wav...\n"
     ]
    },
    {
     "name": "stderr",
     "output_type": "stream",
     "text": [
      " 98%|█████████▊| 436/444 [1:27:53<00:58,  7.30s/it]"
     ]
    },
    {
     "name": "stdout",
     "output_type": "stream",
     "text": [
      "🎧 Transcribing audio_514.wav...\n"
     ]
    },
    {
     "name": "stderr",
     "output_type": "stream",
     "text": [
      " 98%|█████████▊| 437/444 [1:28:01<00:53,  7.57s/it]"
     ]
    },
    {
     "name": "stdout",
     "output_type": "stream",
     "text": [
      "🎧 Transcribing audio_696.wav...\n"
     ]
    },
    {
     "name": "stderr",
     "output_type": "stream",
     "text": [
      " 99%|█████████▊| 438/444 [1:28:04<00:37,  6.29s/it]"
     ]
    },
    {
     "name": "stdout",
     "output_type": "stream",
     "text": [
      "🎧 Transcribing audio_389.wav...\n"
     ]
    },
    {
     "name": "stderr",
     "output_type": "stream",
     "text": [
      " 99%|█████████▉| 439/444 [1:28:07<00:26,  5.26s/it]"
     ]
    },
    {
     "name": "stdout",
     "output_type": "stream",
     "text": [
      "🎧 Transcribing audio_1008.wav...\n"
     ]
    },
    {
     "name": "stderr",
     "output_type": "stream",
     "text": [
      " 99%|█████████▉| 440/444 [1:28:12<00:21,  5.26s/it]"
     ]
    },
    {
     "name": "stdout",
     "output_type": "stream",
     "text": [
      "🎧 Transcribing audio_1187.wav...\n"
     ]
    },
    {
     "name": "stderr",
     "output_type": "stream",
     "text": [
      " 99%|█████████▉| 441/444 [1:28:18<00:16,  5.56s/it]"
     ]
    },
    {
     "name": "stdout",
     "output_type": "stream",
     "text": [
      "🎧 Transcribing audio_724.wav...\n"
     ]
    },
    {
     "name": "stderr",
     "output_type": "stream",
     "text": [
      "100%|█████████▉| 442/444 [1:28:47<00:25, 12.61s/it]"
     ]
    },
    {
     "name": "stdout",
     "output_type": "stream",
     "text": [
      "🎧 Transcribing audio_490.wav...\n"
     ]
    },
    {
     "name": "stderr",
     "output_type": "stream",
     "text": [
      "100%|█████████▉| 443/444 [1:28:52<00:10, 10.16s/it]"
     ]
    },
    {
     "name": "stdout",
     "output_type": "stream",
     "text": [
      "🎧 Transcribing audio_259.wav...\n"
     ]
    },
    {
     "name": "stderr",
     "output_type": "stream",
     "text": [
      "100%|██████████| 444/444 [1:28:58<00:00, 12.02s/it]\n"
     ]
    }
   ],
   "source": [
    "# 🔄 Step 5: Loop through and append to CSV after every transcription\n",
    "for file in tqdm(os.listdir(audio_folder)):\n",
    "    if file.endswith(\".wav\") and file not in done_files:\n",
    "        file_path = os.path.join(audio_folder, file)\n",
    "        try:\n",
    "            print(f\"🎧 Transcribing {file}...\")\n",
    "            result = model.transcribe(file_path)\n",
    "            new_row = pd.DataFrame([{\n",
    "                \"filename\": file,\n",
    "                \"transcription\": result[\"text\"]\n",
    "            }])\n",
    "            new_row.to_csv(output_csv, mode='a', header=False, index=False)  # append\n",
    "        except Exception as e:\n",
    "            print(f\"❌ Failed to transcribe {file}: {e}\")\n"
   ]
  },
  {
   "cell_type": "code",
   "execution_count": null,
   "id": "55834a5d",
   "metadata": {
    "papermill": {
     "duration": 0.058954,
     "end_time": "2025-04-05T12:52:14.947374",
     "exception": false,
     "start_time": "2025-04-05T12:52:14.888420",
     "status": "completed"
    },
    "tags": []
   },
   "outputs": [],
   "source": []
  }
 ],
 "metadata": {
  "kaggle": {
   "accelerator": "nvidiaTeslaT4",
   "dataSources": [
    {
     "databundleVersionId": 11694977,
     "sourceId": 97919,
     "sourceType": "competition"
    }
   ],
   "dockerImageVersionId": 30919,
   "isGpuEnabled": true,
   "isInternetEnabled": true,
   "language": "python",
   "sourceType": "notebook"
  },
  "kernelspec": {
   "display_name": "Python 3",
   "language": "python",
   "name": "python3"
  },
  "language_info": {
   "codemirror_mode": {
    "name": "ipython",
    "version": 3
   },
   "file_extension": ".py",
   "mimetype": "text/x-python",
   "name": "python",
   "nbconvert_exporter": "python",
   "pygments_lexer": "ipython3",
   "version": "3.10.12"
  },
  "papermill": {
   "default_parameters": {},
   "duration": 5411.878611,
   "end_time": "2025-04-05T12:52:18.788670",
   "environment_variables": {},
   "exception": null,
   "input_path": "__notebook__.ipynb",
   "output_path": "__notebook__.ipynb",
   "parameters": {},
   "start_time": "2025-04-05T11:22:06.910059",
   "version": "2.6.0"
  }
 },
 "nbformat": 4,
 "nbformat_minor": 5
}
